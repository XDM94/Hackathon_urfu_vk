{
  "cells": [
    {
      "cell_type": "code",
      "execution_count": 1,
      "metadata": {
        "colab": {
          "base_uri": "https://localhost:8080/"
        },
        "id": "P9ducjQqGRB1",
        "outputId": "2b2ab72e-0e87-4876-9e26-4c911fbe8140"
      },
      "outputs": [],
      "source": [
        "#!pip install catboost\n",
        "#!pip install optuna"
      ]
    },
    {
      "cell_type": "markdown",
      "metadata": {},
      "source": [
        "## Импорт необходимых библиотек"
      ]
    },
    {
      "cell_type": "code",
      "execution_count": null,
      "metadata": {
        "id": "pCdqaMsRF_gD"
      },
      "outputs": [
        {
          "name": "stderr",
          "output_type": "stream",
          "text": [
            "f:\\VK_Predict\\Hackathon_urfu_vk\\venv1\\Lib\\site-packages\\tqdm\\auto.py:21: TqdmWarning: IProgress not found. Please update jupyter and ipywidgets. See https://ipywidgets.readthedocs.io/en/stable/user_install.html\n",
            "  from .autonotebook import tqdm as notebook_tqdm\n"
          ]
        }
      ],
      "source": [
        "from catboost import CatBoostClassifier\n",
        "from sklearn.metrics import accuracy_score, classification_report\n",
        "from sklearn.model_selection import train_test_split\n",
        "from sklearn.preprocessing import StandardScaler, LabelEncoder, OrdinalEncoder\n",
        "import ast\n",
        "import json\n",
        "import matplotlib.pyplot as plt\n",
        "import numpy as np\n",
        "import optuna\n",
        "import pandas as pd\n",
        "import seaborn as sns\n",
        "import shap"
      ]
    },
    {
      "cell_type": "markdown",
      "metadata": {},
      "source": [
        "## Загрузка данных"
      ]
    },
    {
      "cell_type": "code",
      "execution_count": 4,
      "metadata": {
        "id": "S3VkOr6WF_gF"
      },
      "outputs": [],
      "source": [
        "geo_info = pd.read_csv('D:\\Downloads\\\\VK data\\\\geo_info.csv', delimiter=';')\n",
        "referer_vectors = pd.read_csv('D:\\Downloads\\\\VK data\\\\referer_vectors.csv', delimiter=';')\n",
        "test_users = pd.read_csv('D:\\Downloads\\\\VK data\\\\test_users.csv', delimiter=';')\n",
        "test = pd.read_csv('D:\\Downloads\\\\VK data\\\\test.csv', delimiter=';')\n",
        "train = pd.read_csv('D:\\Downloads\\\\VK data\\\\train.csv', delimiter=';')\n",
        "train_labels = pd.read_csv('D:\\Downloads\\\\VK data\\\\train_labels.csv', delimiter=';')"
      ]
    },
    {
      "cell_type": "code",
      "execution_count": 5,
      "metadata": {
        "colab": {
          "base_uri": "https://localhost:8080/",
          "height": 206
        },
        "id": "kFZ0ENKPF_gF",
        "outputId": "bfdd9cd4-2f6a-4bed-f85b-433be5d5edcf"
      },
      "outputs": [
        {
          "data": {
            "text/html": [
              "<div>\n",
              "<style scoped>\n",
              "    .dataframe tbody tr th:only-of-type {\n",
              "        vertical-align: middle;\n",
              "    }\n",
              "\n",
              "    .dataframe tbody tr th {\n",
              "        vertical-align: top;\n",
              "    }\n",
              "\n",
              "    .dataframe thead th {\n",
              "        text-align: right;\n",
              "    }\n",
              "</style>\n",
              "<table border=\"1\" class=\"dataframe\">\n",
              "  <thead>\n",
              "    <tr style=\"text-align: right;\">\n",
              "      <th></th>\n",
              "      <th>request_ts</th>\n",
              "      <th>user_id</th>\n",
              "      <th>referer</th>\n",
              "      <th>geo_id</th>\n",
              "      <th>user_agent</th>\n",
              "    </tr>\n",
              "  </thead>\n",
              "  <tbody>\n",
              "    <tr>\n",
              "      <th>0</th>\n",
              "      <td>1701011363</td>\n",
              "      <td>fb858e8e0a2bec074450eaf94b627fd3</td>\n",
              "      <td>https://9b48ee5/</td>\n",
              "      <td>4799</td>\n",
              "      <td>{'browser': 'Chrome Mobile', 'browser_version'...</td>\n",
              "    </tr>\n",
              "    <tr>\n",
              "      <th>1</th>\n",
              "      <td>1700986581</td>\n",
              "      <td>46a5f128fd569c764a92c2eaa788095e</td>\n",
              "      <td>https://9b48ee5/</td>\n",
              "      <td>8257</td>\n",
              "      <td>{'browser': 'Chrome Mobile', 'browser_version'...</td>\n",
              "    </tr>\n",
              "    <tr>\n",
              "      <th>2</th>\n",
              "      <td>1701011071</td>\n",
              "      <td>5a74e9ac53ffb21a20cce117c0ad77ba</td>\n",
              "      <td>https://9634fd0/1409e548</td>\n",
              "      <td>3150</td>\n",
              "      <td>{'browser': 'Yandex Browser', 'browser_version...</td>\n",
              "    </tr>\n",
              "    <tr>\n",
              "      <th>3</th>\n",
              "      <td>1700992803</td>\n",
              "      <td>af735816ca19115431ae3d89518c8c91</td>\n",
              "      <td>https://9b48ee5/</td>\n",
              "      <td>2740</td>\n",
              "      <td>{'browser': 'Chrome Mobile', 'browser_version'...</td>\n",
              "    </tr>\n",
              "    <tr>\n",
              "      <th>4</th>\n",
              "      <td>1701021666</td>\n",
              "      <td>364f0ae0a3f29a685c4fb5bae6033b9a</td>\n",
              "      <td>https://9b48ee5/</td>\n",
              "      <td>4863</td>\n",
              "      <td>{'browser': 'Yandex Browser', 'browser_version...</td>\n",
              "    </tr>\n",
              "  </tbody>\n",
              "</table>\n",
              "</div>"
            ],
            "text/plain": [
              "   request_ts                           user_id                   referer  \\\n",
              "0  1701011363  fb858e8e0a2bec074450eaf94b627fd3          https://9b48ee5/   \n",
              "1  1700986581  46a5f128fd569c764a92c2eaa788095e          https://9b48ee5/   \n",
              "2  1701011071  5a74e9ac53ffb21a20cce117c0ad77ba  https://9634fd0/1409e548   \n",
              "3  1700992803  af735816ca19115431ae3d89518c8c91          https://9b48ee5/   \n",
              "4  1701021666  364f0ae0a3f29a685c4fb5bae6033b9a          https://9b48ee5/   \n",
              "\n",
              "   geo_id                                         user_agent  \n",
              "0    4799  {'browser': 'Chrome Mobile', 'browser_version'...  \n",
              "1    8257  {'browser': 'Chrome Mobile', 'browser_version'...  \n",
              "2    3150  {'browser': 'Yandex Browser', 'browser_version...  \n",
              "3    2740  {'browser': 'Chrome Mobile', 'browser_version'...  \n",
              "4    4863  {'browser': 'Yandex Browser', 'browser_version...  "
            ]
          },
          "execution_count": 5,
          "metadata": {},
          "output_type": "execute_result"
        }
      ],
      "source": [
        "train.head()"
      ]
    },
    {
      "cell_type": "markdown",
      "metadata": {},
      "source": [
        "## Анализ и предобработка данных"
      ]
    },
    {
      "cell_type": "code",
      "execution_count": 6,
      "metadata": {
        "colab": {
          "base_uri": "https://localhost:8080/",
          "height": 241
        },
        "id": "vnZkLjWjF_gF",
        "outputId": "2b9dc7df-3436-4f2b-8892-a154f6963eb2"
      },
      "outputs": [
        {
          "data": {
            "text/plain": [
              "request_ts    0\n",
              "user_id       0\n",
              "referer       0\n",
              "geo_id        0\n",
              "user_agent    1\n",
              "dtype: int64"
            ]
          },
          "execution_count": 6,
          "metadata": {},
          "output_type": "execute_result"
        }
      ],
      "source": [
        "train.isnull().sum()"
      ]
    },
    {
      "cell_type": "code",
      "execution_count": 7,
      "metadata": {
        "id": "gpveMMcfF_gG"
      },
      "outputs": [],
      "source": [
        "#Удалим пропущенные строки\n",
        "train = train.dropna(subset = ['user_agent'])"
      ]
    },
    {
      "cell_type": "code",
      "execution_count": 8,
      "metadata": {
        "colab": {
          "base_uri": "https://localhost:8080/"
        },
        "id": "6kBL5oyAF_gG",
        "outputId": "7dee13ff-7176-4aa9-cfb4-2e009fcdaed7"
      },
      "outputs": [
        {
          "data": {
            "text/plain": [
              "8432"
            ]
          },
          "execution_count": 8,
          "metadata": {},
          "output_type": "execute_result"
        }
      ],
      "source": [
        "train['user_agent'].nunique()"
      ]
    },
    {
      "cell_type": "code",
      "execution_count": 9,
      "metadata": {
        "id": "d3MULs4CF_gG"
      },
      "outputs": [],
      "source": [
        "#Преобразуем колонку user_agent\n",
        "train['user_agent'] = train['user_agent'].apply(ast.literal_eval)\n",
        "df_exp = pd.json_normalize(train['user_agent'])\n",
        "train = pd.concat([train, df_exp], axis = 1).drop(columns = ['user_agent'], axis = 1)"
      ]
    },
    {
      "cell_type": "code",
      "execution_count": 10,
      "metadata": {
        "colab": {
          "base_uri": "https://localhost:8080/",
          "height": 206
        },
        "id": "ziJxETOqF_gH",
        "outputId": "27e28a2d-c040-4a53-f9f5-4f8591f6e980"
      },
      "outputs": [
        {
          "data": {
            "text/html": [
              "<div>\n",
              "<style scoped>\n",
              "    .dataframe tbody tr th:only-of-type {\n",
              "        vertical-align: middle;\n",
              "    }\n",
              "\n",
              "    .dataframe tbody tr th {\n",
              "        vertical-align: top;\n",
              "    }\n",
              "\n",
              "    .dataframe thead th {\n",
              "        text-align: right;\n",
              "    }\n",
              "</style>\n",
              "<table border=\"1\" class=\"dataframe\">\n",
              "  <thead>\n",
              "    <tr style=\"text-align: right;\">\n",
              "      <th></th>\n",
              "      <th>request_ts</th>\n",
              "      <th>user_id</th>\n",
              "      <th>referer</th>\n",
              "      <th>geo_id</th>\n",
              "      <th>browser</th>\n",
              "      <th>browser_version</th>\n",
              "      <th>os</th>\n",
              "      <th>os_version</th>\n",
              "    </tr>\n",
              "  </thead>\n",
              "  <tbody>\n",
              "    <tr>\n",
              "      <th>0</th>\n",
              "      <td>1.701011e+09</td>\n",
              "      <td>fb858e8e0a2bec074450eaf94b627fd3</td>\n",
              "      <td>https://9b48ee5/</td>\n",
              "      <td>4799.0</td>\n",
              "      <td>Chrome Mobile</td>\n",
              "      <td>119.0.0</td>\n",
              "      <td>Android</td>\n",
              "      <td>10</td>\n",
              "    </tr>\n",
              "    <tr>\n",
              "      <th>1</th>\n",
              "      <td>1.700987e+09</td>\n",
              "      <td>46a5f128fd569c764a92c2eaa788095e</td>\n",
              "      <td>https://9b48ee5/</td>\n",
              "      <td>8257.0</td>\n",
              "      <td>Chrome Mobile</td>\n",
              "      <td>111.0.0</td>\n",
              "      <td>Android</td>\n",
              "      <td>10</td>\n",
              "    </tr>\n",
              "    <tr>\n",
              "      <th>2</th>\n",
              "      <td>1.701011e+09</td>\n",
              "      <td>5a74e9ac53ffb21a20cce117c0ad77ba</td>\n",
              "      <td>https://9634fd0/1409e548</td>\n",
              "      <td>3150.0</td>\n",
              "      <td>Yandex Browser</td>\n",
              "      <td>20.12.5</td>\n",
              "      <td>Android</td>\n",
              "      <td>11</td>\n",
              "    </tr>\n",
              "    <tr>\n",
              "      <th>3</th>\n",
              "      <td>1.700993e+09</td>\n",
              "      <td>af735816ca19115431ae3d89518c8c91</td>\n",
              "      <td>https://9b48ee5/</td>\n",
              "      <td>2740.0</td>\n",
              "      <td>Chrome Mobile</td>\n",
              "      <td>119.0.0</td>\n",
              "      <td>Android</td>\n",
              "      <td>10</td>\n",
              "    </tr>\n",
              "    <tr>\n",
              "      <th>4</th>\n",
              "      <td>1.701022e+09</td>\n",
              "      <td>364f0ae0a3f29a685c4fb5bae6033b9a</td>\n",
              "      <td>https://9b48ee5/</td>\n",
              "      <td>4863.0</td>\n",
              "      <td>Yandex Browser</td>\n",
              "      <td>18.11.1</td>\n",
              "      <td>Android</td>\n",
              "      <td>4.4.4</td>\n",
              "    </tr>\n",
              "  </tbody>\n",
              "</table>\n",
              "</div>"
            ],
            "text/plain": [
              "     request_ts                           user_id                   referer  \\\n",
              "0  1.701011e+09  fb858e8e0a2bec074450eaf94b627fd3          https://9b48ee5/   \n",
              "1  1.700987e+09  46a5f128fd569c764a92c2eaa788095e          https://9b48ee5/   \n",
              "2  1.701011e+09  5a74e9ac53ffb21a20cce117c0ad77ba  https://9634fd0/1409e548   \n",
              "3  1.700993e+09  af735816ca19115431ae3d89518c8c91          https://9b48ee5/   \n",
              "4  1.701022e+09  364f0ae0a3f29a685c4fb5bae6033b9a          https://9b48ee5/   \n",
              "\n",
              "   geo_id         browser browser_version       os os_version  \n",
              "0  4799.0   Chrome Mobile         119.0.0  Android         10  \n",
              "1  8257.0   Chrome Mobile         111.0.0  Android         10  \n",
              "2  3150.0  Yandex Browser         20.12.5  Android         11  \n",
              "3  2740.0   Chrome Mobile         119.0.0  Android         10  \n",
              "4  4863.0  Yandex Browser         18.11.1  Android      4.4.4  "
            ]
          },
          "execution_count": 10,
          "metadata": {},
          "output_type": "execute_result"
        }
      ],
      "source": [
        "train.head()"
      ]
    },
    {
      "cell_type": "code",
      "execution_count": 11,
      "metadata": {
        "colab": {
          "base_uri": "https://localhost:8080/"
        },
        "id": "6hQiIHhhF_gH",
        "outputId": "2dcb2db9-029a-4b7a-c571-4021b00c3538"
      },
      "outputs": [
        {
          "data": {
            "text/plain": [
              "85501"
            ]
          },
          "execution_count": 11,
          "metadata": {},
          "output_type": "execute_result"
        }
      ],
      "source": [
        "train['request_ts'].nunique()"
      ]
    },
    {
      "cell_type": "code",
      "execution_count": 12,
      "metadata": {
        "colab": {
          "base_uri": "https://localhost:8080/",
          "height": 206
        },
        "id": "Gmqd4IpiF_gH",
        "outputId": "dd4bf73a-b795-41f7-e8df-e555e2780742"
      },
      "outputs": [
        {
          "data": {
            "text/html": [
              "<div>\n",
              "<style scoped>\n",
              "    .dataframe tbody tr th:only-of-type {\n",
              "        vertical-align: middle;\n",
              "    }\n",
              "\n",
              "    .dataframe tbody tr th {\n",
              "        vertical-align: top;\n",
              "    }\n",
              "\n",
              "    .dataframe thead th {\n",
              "        text-align: right;\n",
              "    }\n",
              "</style>\n",
              "<table border=\"1\" class=\"dataframe\">\n",
              "  <thead>\n",
              "    <tr style=\"text-align: right;\">\n",
              "      <th></th>\n",
              "      <th>request_ts</th>\n",
              "      <th>user_id</th>\n",
              "      <th>referer</th>\n",
              "      <th>geo_id</th>\n",
              "      <th>browser</th>\n",
              "      <th>browser_version</th>\n",
              "      <th>os</th>\n",
              "      <th>os_version</th>\n",
              "    </tr>\n",
              "  </thead>\n",
              "  <tbody>\n",
              "    <tr>\n",
              "      <th>0</th>\n",
              "      <td>1.701011e+09</td>\n",
              "      <td>fb858e8e0a2bec074450eaf94b627fd3</td>\n",
              "      <td>https://9b48ee5/</td>\n",
              "      <td>4799.0</td>\n",
              "      <td>Chrome Mobile</td>\n",
              "      <td>119.0.0</td>\n",
              "      <td>Android</td>\n",
              "      <td>10</td>\n",
              "    </tr>\n",
              "    <tr>\n",
              "      <th>1</th>\n",
              "      <td>1.700987e+09</td>\n",
              "      <td>46a5f128fd569c764a92c2eaa788095e</td>\n",
              "      <td>https://9b48ee5/</td>\n",
              "      <td>8257.0</td>\n",
              "      <td>Chrome Mobile</td>\n",
              "      <td>111.0.0</td>\n",
              "      <td>Android</td>\n",
              "      <td>10</td>\n",
              "    </tr>\n",
              "    <tr>\n",
              "      <th>2</th>\n",
              "      <td>1.701011e+09</td>\n",
              "      <td>5a74e9ac53ffb21a20cce117c0ad77ba</td>\n",
              "      <td>https://9634fd0/1409e548</td>\n",
              "      <td>3150.0</td>\n",
              "      <td>Yandex Browser</td>\n",
              "      <td>20.12.5</td>\n",
              "      <td>Android</td>\n",
              "      <td>11</td>\n",
              "    </tr>\n",
              "    <tr>\n",
              "      <th>3</th>\n",
              "      <td>1.700993e+09</td>\n",
              "      <td>af735816ca19115431ae3d89518c8c91</td>\n",
              "      <td>https://9b48ee5/</td>\n",
              "      <td>2740.0</td>\n",
              "      <td>Chrome Mobile</td>\n",
              "      <td>119.0.0</td>\n",
              "      <td>Android</td>\n",
              "      <td>10</td>\n",
              "    </tr>\n",
              "    <tr>\n",
              "      <th>4</th>\n",
              "      <td>1.701022e+09</td>\n",
              "      <td>364f0ae0a3f29a685c4fb5bae6033b9a</td>\n",
              "      <td>https://9b48ee5/</td>\n",
              "      <td>4863.0</td>\n",
              "      <td>Yandex Browser</td>\n",
              "      <td>18.11.1</td>\n",
              "      <td>Android</td>\n",
              "      <td>4.4.4</td>\n",
              "    </tr>\n",
              "  </tbody>\n",
              "</table>\n",
              "</div>"
            ],
            "text/plain": [
              "     request_ts                           user_id                   referer  \\\n",
              "0  1.701011e+09  fb858e8e0a2bec074450eaf94b627fd3          https://9b48ee5/   \n",
              "1  1.700987e+09  46a5f128fd569c764a92c2eaa788095e          https://9b48ee5/   \n",
              "2  1.701011e+09  5a74e9ac53ffb21a20cce117c0ad77ba  https://9634fd0/1409e548   \n",
              "3  1.700993e+09  af735816ca19115431ae3d89518c8c91          https://9b48ee5/   \n",
              "4  1.701022e+09  364f0ae0a3f29a685c4fb5bae6033b9a          https://9b48ee5/   \n",
              "\n",
              "   geo_id         browser browser_version       os os_version  \n",
              "0  4799.0   Chrome Mobile         119.0.0  Android         10  \n",
              "1  8257.0   Chrome Mobile         111.0.0  Android         10  \n",
              "2  3150.0  Yandex Browser         20.12.5  Android         11  \n",
              "3  2740.0   Chrome Mobile         119.0.0  Android         10  \n",
              "4  4863.0  Yandex Browser         18.11.1  Android      4.4.4  "
            ]
          },
          "execution_count": 12,
          "metadata": {},
          "output_type": "execute_result"
        }
      ],
      "source": [
        "train.head()"
      ]
    },
    {
      "cell_type": "code",
      "execution_count": 13,
      "metadata": {
        "colab": {
          "base_uri": "https://localhost:8080/",
          "height": 335
        },
        "id": "2jGs8EuHF_gI",
        "outputId": "5c164e10-9e61-4755-93a2-0b7b8f71da0a"
      },
      "outputs": [
        {
          "data": {
            "text/plain": [
              "request_ts         1\n",
              "user_id            1\n",
              "referer            1\n",
              "geo_id             1\n",
              "browser            1\n",
              "browser_version    1\n",
              "os                 1\n",
              "os_version         1\n",
              "dtype: int64"
            ]
          },
          "execution_count": 13,
          "metadata": {},
          "output_type": "execute_result"
        }
      ],
      "source": [
        "train.isnull().sum()"
      ]
    },
    {
      "cell_type": "code",
      "execution_count": 14,
      "metadata": {
        "id": "bPlOExSRF_gI"
      },
      "outputs": [],
      "source": [
        "#Удалим пропущенные значения\n",
        "train = train.dropna(subset = ['user_id', 'referer', 'geo_id', 'os'])"
      ]
    },
    {
      "cell_type": "code",
      "execution_count": 15,
      "metadata": {
        "colab": {
          "base_uri": "https://localhost:8080/",
          "height": 335
        },
        "id": "RwM4C3mlF_gI",
        "outputId": "46ccc90d-8921-4a44-8dfc-15fbf7ecb0c9"
      },
      "outputs": [
        {
          "data": {
            "text/plain": [
              "request_ts         0\n",
              "user_id            0\n",
              "referer            0\n",
              "geo_id             0\n",
              "browser            0\n",
              "browser_version    0\n",
              "os                 0\n",
              "os_version         0\n",
              "dtype: int64"
            ]
          },
          "execution_count": 15,
          "metadata": {},
          "output_type": "execute_result"
        }
      ],
      "source": [
        "train.isnull().sum()"
      ]
    },
    {
      "cell_type": "code",
      "execution_count": 16,
      "metadata": {
        "colab": {
          "base_uri": "https://localhost:8080/",
          "height": 241
        },
        "id": "p5xifc7nF_gI",
        "outputId": "c221a10b-bb88-4f29-e1d8-3c0296165786"
      },
      "outputs": [
        {
          "data": {
            "text/plain": [
              "request_ts    0\n",
              "user_id       0\n",
              "referer       0\n",
              "geo_id        0\n",
              "user_agent    0\n",
              "dtype: int64"
            ]
          },
          "execution_count": 16,
          "metadata": {},
          "output_type": "execute_result"
        }
      ],
      "source": [
        "#Проверим на пропущенные значения тестовый датасет\n",
        "test.isnull().sum()"
      ]
    },
    {
      "cell_type": "code",
      "execution_count": 17,
      "metadata": {
        "id": "NTI78oxIF_gI"
      },
      "outputs": [],
      "source": [
        "test['user_agent'] = test['user_agent'].apply(ast.literal_eval)\n",
        "df_exp_test = pd.json_normalize(test['user_agent'])\n",
        "test = pd.concat([test, df_exp_test], axis = 1).drop(columns = ['user_agent'], axis = 1)"
      ]
    },
    {
      "cell_type": "code",
      "execution_count": 18,
      "metadata": {
        "colab": {
          "base_uri": "https://localhost:8080/",
          "height": 206
        },
        "id": "4HinQr-oF_gI",
        "outputId": "2dd50d19-9fe0-46c1-8a23-1f134cd9b98b"
      },
      "outputs": [
        {
          "data": {
            "text/html": [
              "<div>\n",
              "<style scoped>\n",
              "    .dataframe tbody tr th:only-of-type {\n",
              "        vertical-align: middle;\n",
              "    }\n",
              "\n",
              "    .dataframe tbody tr th {\n",
              "        vertical-align: top;\n",
              "    }\n",
              "\n",
              "    .dataframe thead th {\n",
              "        text-align: right;\n",
              "    }\n",
              "</style>\n",
              "<table border=\"1\" class=\"dataframe\">\n",
              "  <thead>\n",
              "    <tr style=\"text-align: right;\">\n",
              "      <th></th>\n",
              "      <th>request_ts</th>\n",
              "      <th>user_id</th>\n",
              "      <th>referer</th>\n",
              "      <th>geo_id</th>\n",
              "      <th>browser</th>\n",
              "      <th>browser_version</th>\n",
              "      <th>os</th>\n",
              "      <th>os_version</th>\n",
              "    </tr>\n",
              "  </thead>\n",
              "  <tbody>\n",
              "    <tr>\n",
              "      <th>0</th>\n",
              "      <td>1700993094</td>\n",
              "      <td>c2802dadd33d8ae09bb366bdd41212ea</td>\n",
              "      <td>https://9b48ee5/</td>\n",
              "      <td>8816</td>\n",
              "      <td>Chrome Mobile</td>\n",
              "      <td>96.0.4664</td>\n",
              "      <td>Android</td>\n",
              "      <td>12</td>\n",
              "    </tr>\n",
              "    <tr>\n",
              "      <th>1</th>\n",
              "      <td>1701005579</td>\n",
              "      <td>e5b1988db74527ec092f28b0bbfdaac9</td>\n",
              "      <td>https://9b48ee5/</td>\n",
              "      <td>3663</td>\n",
              "      <td>Chrome</td>\n",
              "      <td>116.0.5845</td>\n",
              "      <td>Android</td>\n",
              "      <td>10</td>\n",
              "    </tr>\n",
              "    <tr>\n",
              "      <th>2</th>\n",
              "      <td>1700969752</td>\n",
              "      <td>6ef1eedbdb72554e53e69782066065c5</td>\n",
              "      <td>https://72879b4/12411b9e</td>\n",
              "      <td>2336</td>\n",
              "      <td>Chrome</td>\n",
              "      <td>114.0.0</td>\n",
              "      <td>Android</td>\n",
              "      <td>10</td>\n",
              "    </tr>\n",
              "    <tr>\n",
              "      <th>3</th>\n",
              "      <td>1700991608</td>\n",
              "      <td>7e057293ecae62985a327b7af51858ea</td>\n",
              "      <td>https://9b48ee5/</td>\n",
              "      <td>9652</td>\n",
              "      <td>Chrome Mobile</td>\n",
              "      <td>91.0.4472</td>\n",
              "      <td>Android</td>\n",
              "      <td>11</td>\n",
              "    </tr>\n",
              "    <tr>\n",
              "      <th>4</th>\n",
              "      <td>1701019815</td>\n",
              "      <td>a27bd7ce8828497823fa8d5d05e7bbf7</td>\n",
              "      <td>https://9b48ee5/</td>\n",
              "      <td>3871</td>\n",
              "      <td>Chrome Mobile</td>\n",
              "      <td>119.0.0</td>\n",
              "      <td>Android</td>\n",
              "      <td>10</td>\n",
              "    </tr>\n",
              "  </tbody>\n",
              "</table>\n",
              "</div>"
            ],
            "text/plain": [
              "   request_ts                           user_id                   referer  \\\n",
              "0  1700993094  c2802dadd33d8ae09bb366bdd41212ea          https://9b48ee5/   \n",
              "1  1701005579  e5b1988db74527ec092f28b0bbfdaac9          https://9b48ee5/   \n",
              "2  1700969752  6ef1eedbdb72554e53e69782066065c5  https://72879b4/12411b9e   \n",
              "3  1700991608  7e057293ecae62985a327b7af51858ea          https://9b48ee5/   \n",
              "4  1701019815  a27bd7ce8828497823fa8d5d05e7bbf7          https://9b48ee5/   \n",
              "\n",
              "   geo_id        browser browser_version       os os_version  \n",
              "0    8816  Chrome Mobile       96.0.4664  Android         12  \n",
              "1    3663         Chrome      116.0.5845  Android         10  \n",
              "2    2336         Chrome         114.0.0  Android         10  \n",
              "3    9652  Chrome Mobile       91.0.4472  Android         11  \n",
              "4    3871  Chrome Mobile         119.0.0  Android         10  "
            ]
          },
          "execution_count": 18,
          "metadata": {},
          "output_type": "execute_result"
        }
      ],
      "source": [
        "test.head()"
      ]
    },
    {
      "cell_type": "code",
      "execution_count": 19,
      "metadata": {
        "colab": {
          "base_uri": "https://localhost:8080/"
        },
        "id": "LK5VcHvzF_gJ",
        "outputId": "6300190c-0adc-48e7-ffa2-9d18b6228d4f"
      },
      "outputs": [
        {
          "name": "stdout",
          "output_type": "stream",
          "text": [
            "region_id 277\n",
            "country_id 203\n",
            "timezone_id 314\n",
            "geo_id 5533\n"
          ]
        }
      ],
      "source": [
        "print('region_id', geo_info['region_id'].nunique())\n",
        "print('country_id', geo_info['country_id'].nunique())\n",
        "print('timezone_id', geo_info['timezone_id'].nunique())\n",
        "print('geo_id', geo_info['geo_id'].nunique())"
      ]
    },
    {
      "cell_type": "code",
      "execution_count": 20,
      "metadata": {
        "colab": {
          "base_uri": "https://localhost:8080/",
          "height": 209
        },
        "id": "R5iGKH0TF_gJ",
        "outputId": "07693bee-98a7-47e2-d1f0-7e80658b234b"
      },
      "outputs": [
        {
          "data": {
            "text/plain": [
              "geo_id            0\n",
              "country_id        0\n",
              "region_id      1707\n",
              "timezone_id       0\n",
              "dtype: int64"
            ]
          },
          "execution_count": 20,
          "metadata": {},
          "output_type": "execute_result"
        }
      ],
      "source": [
        "geo_info.isnull().sum()"
      ]
    },
    {
      "cell_type": "code",
      "execution_count": 21,
      "metadata": {
        "id": "y8VHe-KbF_gJ"
      },
      "outputs": [],
      "source": [
        "geo_info['region_id'] = geo_info['region_id'].fillna('Unknown')"
      ]
    },
    {
      "cell_type": "code",
      "execution_count": 22,
      "metadata": {
        "colab": {
          "base_uri": "https://localhost:8080/",
          "height": 429
        },
        "id": "hVEhUILlF_gJ",
        "outputId": "0e0d3f64-9ec6-461e-e255-26d2af147820"
      },
      "outputs": [
        {
          "data": {
            "text/plain": [
              "request_ts         0\n",
              "user_id            0\n",
              "referer            0\n",
              "geo_id             0\n",
              "browser            0\n",
              "browser_version    0\n",
              "os                 0\n",
              "os_version         0\n",
              "country_id         0\n",
              "region_id          0\n",
              "timezone_id        0\n",
              "dtype: int64"
            ]
          },
          "execution_count": 22,
          "metadata": {},
          "output_type": "execute_result"
        }
      ],
      "source": [
        "train_with_geo = pd.merge(train, geo_info, on = 'geo_id', how = 'inner')\n",
        "train_with_geo.isnull().sum()"
      ]
    },
    {
      "cell_type": "code",
      "execution_count": 23,
      "metadata": {
        "colab": {
          "base_uri": "https://localhost:8080/",
          "height": 429
        },
        "id": "AYjfvlM7F_gJ",
        "outputId": "cd03ffa7-782c-4d39-973e-e08d80bc666d"
      },
      "outputs": [
        {
          "data": {
            "text/plain": [
              "request_ts         0\n",
              "user_id            0\n",
              "referer            0\n",
              "geo_id             0\n",
              "browser            0\n",
              "browser_version    0\n",
              "os                 0\n",
              "os_version         0\n",
              "country_id         0\n",
              "region_id          0\n",
              "timezone_id        0\n",
              "dtype: int64"
            ]
          },
          "execution_count": 23,
          "metadata": {},
          "output_type": "execute_result"
        }
      ],
      "source": [
        "test_with_geo = pd.merge(test, geo_info, on = 'geo_id', how = 'inner')\n",
        "test_with_geo.isnull().sum()"
      ]
    },
    {
      "cell_type": "code",
      "execution_count": 24,
      "metadata": {
        "colab": {
          "base_uri": "https://localhost:8080/",
          "height": 313
        },
        "id": "5CIuYVxlF_gJ",
        "outputId": "54866256-f931-4a0a-d8e8-a7ca90aa2e38"
      },
      "outputs": [
        {
          "data": {
            "text/html": [
              "<div>\n",
              "<style scoped>\n",
              "    .dataframe tbody tr th:only-of-type {\n",
              "        vertical-align: middle;\n",
              "    }\n",
              "\n",
              "    .dataframe tbody tr th {\n",
              "        vertical-align: top;\n",
              "    }\n",
              "\n",
              "    .dataframe thead th {\n",
              "        text-align: right;\n",
              "    }\n",
              "</style>\n",
              "<table border=\"1\" class=\"dataframe\">\n",
              "  <thead>\n",
              "    <tr style=\"text-align: right;\">\n",
              "      <th></th>\n",
              "      <th>request_ts</th>\n",
              "      <th>user_id</th>\n",
              "      <th>referer</th>\n",
              "      <th>geo_id</th>\n",
              "      <th>browser</th>\n",
              "      <th>browser_version</th>\n",
              "      <th>os</th>\n",
              "      <th>os_version</th>\n",
              "      <th>country_id</th>\n",
              "      <th>region_id</th>\n",
              "      <th>timezone_id</th>\n",
              "    </tr>\n",
              "  </thead>\n",
              "  <tbody>\n",
              "    <tr>\n",
              "      <th>0</th>\n",
              "      <td>1.701011e+09</td>\n",
              "      <td>fb858e8e0a2bec074450eaf94b627fd3</td>\n",
              "      <td>https://9b48ee5/</td>\n",
              "      <td>4799.0</td>\n",
              "      <td>Chrome Mobile</td>\n",
              "      <td>119.0.0</td>\n",
              "      <td>Android</td>\n",
              "      <td>10</td>\n",
              "      <td>c31b4e</td>\n",
              "      <td>470e75</td>\n",
              "      <td>f6155e</td>\n",
              "    </tr>\n",
              "    <tr>\n",
              "      <th>1</th>\n",
              "      <td>1.700987e+09</td>\n",
              "      <td>46a5f128fd569c764a92c2eaa788095e</td>\n",
              "      <td>https://9b48ee5/</td>\n",
              "      <td>8257.0</td>\n",
              "      <td>Chrome Mobile</td>\n",
              "      <td>111.0.0</td>\n",
              "      <td>Android</td>\n",
              "      <td>10</td>\n",
              "      <td>c31b4e</td>\n",
              "      <td>44520b</td>\n",
              "      <td>e56e80</td>\n",
              "    </tr>\n",
              "    <tr>\n",
              "      <th>2</th>\n",
              "      <td>1.701011e+09</td>\n",
              "      <td>5a74e9ac53ffb21a20cce117c0ad77ba</td>\n",
              "      <td>https://9634fd0/1409e548</td>\n",
              "      <td>3150.0</td>\n",
              "      <td>Yandex Browser</td>\n",
              "      <td>20.12.5</td>\n",
              "      <td>Android</td>\n",
              "      <td>11</td>\n",
              "      <td>c31b4e</td>\n",
              "      <td>616bb9</td>\n",
              "      <td>af47f1</td>\n",
              "    </tr>\n",
              "    <tr>\n",
              "      <th>3</th>\n",
              "      <td>1.700993e+09</td>\n",
              "      <td>af735816ca19115431ae3d89518c8c91</td>\n",
              "      <td>https://9b48ee5/</td>\n",
              "      <td>2740.0</td>\n",
              "      <td>Chrome Mobile</td>\n",
              "      <td>119.0.0</td>\n",
              "      <td>Android</td>\n",
              "      <td>10</td>\n",
              "      <td>c31b4e</td>\n",
              "      <td>3c9dca</td>\n",
              "      <td>e56e80</td>\n",
              "    </tr>\n",
              "    <tr>\n",
              "      <th>4</th>\n",
              "      <td>1.701022e+09</td>\n",
              "      <td>364f0ae0a3f29a685c4fb5bae6033b9a</td>\n",
              "      <td>https://9b48ee5/</td>\n",
              "      <td>4863.0</td>\n",
              "      <td>Yandex Browser</td>\n",
              "      <td>18.11.1</td>\n",
              "      <td>Android</td>\n",
              "      <td>4.4.4</td>\n",
              "      <td>c31b4e</td>\n",
              "      <td>776e76</td>\n",
              "      <td>10b7947</td>\n",
              "    </tr>\n",
              "  </tbody>\n",
              "</table>\n",
              "</div>"
            ],
            "text/plain": [
              "     request_ts                           user_id                   referer  \\\n",
              "0  1.701011e+09  fb858e8e0a2bec074450eaf94b627fd3          https://9b48ee5/   \n",
              "1  1.700987e+09  46a5f128fd569c764a92c2eaa788095e          https://9b48ee5/   \n",
              "2  1.701011e+09  5a74e9ac53ffb21a20cce117c0ad77ba  https://9634fd0/1409e548   \n",
              "3  1.700993e+09  af735816ca19115431ae3d89518c8c91          https://9b48ee5/   \n",
              "4  1.701022e+09  364f0ae0a3f29a685c4fb5bae6033b9a          https://9b48ee5/   \n",
              "\n",
              "   geo_id         browser browser_version       os os_version country_id  \\\n",
              "0  4799.0   Chrome Mobile         119.0.0  Android         10     c31b4e   \n",
              "1  8257.0   Chrome Mobile         111.0.0  Android         10     c31b4e   \n",
              "2  3150.0  Yandex Browser         20.12.5  Android         11     c31b4e   \n",
              "3  2740.0   Chrome Mobile         119.0.0  Android         10     c31b4e   \n",
              "4  4863.0  Yandex Browser         18.11.1  Android      4.4.4     c31b4e   \n",
              "\n",
              "  region_id timezone_id  \n",
              "0    470e75      f6155e  \n",
              "1    44520b      e56e80  \n",
              "2    616bb9      af47f1  \n",
              "3    3c9dca      e56e80  \n",
              "4    776e76     10b7947  "
            ]
          },
          "execution_count": 24,
          "metadata": {},
          "output_type": "execute_result"
        }
      ],
      "source": [
        "train_with_geo.head()"
      ]
    },
    {
      "cell_type": "code",
      "execution_count": 25,
      "metadata": {
        "id": "M8EAyfpAF_gK"
      },
      "outputs": [],
      "source": [
        "train_geo_labels = pd.merge(train_with_geo, train_labels, on='user_id', how='inner')"
      ]
    },
    {
      "cell_type": "code",
      "execution_count": 26,
      "metadata": {
        "colab": {
          "base_uri": "https://localhost:8080/",
          "height": 460
        },
        "id": "vmGJrTP3F_gK",
        "outputId": "dfc2ead4-a8fe-4e96-84dd-45dcc5cad8f6"
      },
      "outputs": [
        {
          "data": {
            "text/plain": [
              "request_ts         0\n",
              "user_id            0\n",
              "referer            0\n",
              "geo_id             0\n",
              "browser            0\n",
              "browser_version    0\n",
              "os                 0\n",
              "os_version         0\n",
              "country_id         0\n",
              "region_id          0\n",
              "timezone_id        0\n",
              "target             0\n",
              "dtype: int64"
            ]
          },
          "execution_count": 26,
          "metadata": {},
          "output_type": "execute_result"
        }
      ],
      "source": [
        "train_geo_labels.isnull().sum()"
      ]
    },
    {
      "cell_type": "code",
      "execution_count": 27,
      "metadata": {
        "colab": {
          "base_uri": "https://localhost:8080/"
        },
        "id": "kJJcvfJHF_gK",
        "outputId": "1cbbb767-d399-4363-975f-fd90e004b093"
      },
      "outputs": [
        {
          "name": "stdout",
          "output_type": "stream",
          "text": [
            "<class 'pandas.core.frame.DataFrame'>\n",
            "RangeIndex: 593442 entries, 0 to 593441\n",
            "Data columns (total 12 columns):\n",
            " #   Column           Non-Null Count   Dtype  \n",
            "---  ------           --------------   -----  \n",
            " 0   request_ts       593442 non-null  float64\n",
            " 1   user_id          593442 non-null  object \n",
            " 2   referer          593442 non-null  object \n",
            " 3   geo_id           593442 non-null  float64\n",
            " 4   browser          593442 non-null  object \n",
            " 5   browser_version  593442 non-null  object \n",
            " 6   os               593442 non-null  object \n",
            " 7   os_version       593442 non-null  object \n",
            " 8   country_id       593442 non-null  object \n",
            " 9   region_id        593442 non-null  object \n",
            " 10  timezone_id      593442 non-null  object \n",
            " 11  target           593442 non-null  int64  \n",
            "dtypes: float64(2), int64(1), object(9)\n",
            "memory usage: 54.3+ MB\n"
          ]
        }
      ],
      "source": [
        "train_geo_labels.info()"
      ]
    },
    {
      "cell_type": "code",
      "execution_count": 28,
      "metadata": {
        "colab": {
          "base_uri": "https://localhost:8080/",
          "height": 226
        },
        "id": "9FpPTj0lF_gK",
        "outputId": "243358ae-ad39-4698-cd8d-1f37399d0694"
      },
      "outputs": [
        {
          "data": {
            "text/html": [
              "<div>\n",
              "<style scoped>\n",
              "    .dataframe tbody tr th:only-of-type {\n",
              "        vertical-align: middle;\n",
              "    }\n",
              "\n",
              "    .dataframe tbody tr th {\n",
              "        vertical-align: top;\n",
              "    }\n",
              "\n",
              "    .dataframe thead th {\n",
              "        text-align: right;\n",
              "    }\n",
              "</style>\n",
              "<table border=\"1\" class=\"dataframe\">\n",
              "  <thead>\n",
              "    <tr style=\"text-align: right;\">\n",
              "      <th></th>\n",
              "      <th>component0</th>\n",
              "      <th>component1</th>\n",
              "      <th>component2</th>\n",
              "      <th>component3</th>\n",
              "      <th>component4</th>\n",
              "      <th>component5</th>\n",
              "      <th>component6</th>\n",
              "      <th>component7</th>\n",
              "      <th>component8</th>\n",
              "      <th>component9</th>\n",
              "      <th>referer</th>\n",
              "    </tr>\n",
              "  </thead>\n",
              "  <tbody>\n",
              "    <tr>\n",
              "      <th>0</th>\n",
              "      <td>16708</td>\n",
              "      <td>-3741</td>\n",
              "      <td>11395</td>\n",
              "      <td>-1597</td>\n",
              "      <td>-3212</td>\n",
              "      <td>6269</td>\n",
              "      <td>5610</td>\n",
              "      <td>-15351</td>\n",
              "      <td>13779</td>\n",
              "      <td>14102</td>\n",
              "      <td>https://a6899a4/15652e67</td>\n",
              "    </tr>\n",
              "    <tr>\n",
              "      <th>1</th>\n",
              "      <td>11731</td>\n",
              "      <td>4045</td>\n",
              "      <td>22213</td>\n",
              "      <td>-1184</td>\n",
              "      <td>-8992</td>\n",
              "      <td>9381</td>\n",
              "      <td>-3496</td>\n",
              "      <td>-3120</td>\n",
              "      <td>-899</td>\n",
              "      <td>16817</td>\n",
              "      <td>https://9b48ee5/</td>\n",
              "    </tr>\n",
              "    <tr>\n",
              "      <th>2</th>\n",
              "      <td>10551</td>\n",
              "      <td>2947</td>\n",
              "      <td>12282</td>\n",
              "      <td>-470</td>\n",
              "      <td>16222</td>\n",
              "      <td>4472</td>\n",
              "      <td>-3316</td>\n",
              "      <td>9606</td>\n",
              "      <td>4197</td>\n",
              "      <td>18948</td>\n",
              "      <td>https://7a4c700/161af7e3</td>\n",
              "    </tr>\n",
              "    <tr>\n",
              "      <th>3</th>\n",
              "      <td>12816</td>\n",
              "      <td>20498</td>\n",
              "      <td>-10110</td>\n",
              "      <td>7731</td>\n",
              "      <td>-569</td>\n",
              "      <td>12035</td>\n",
              "      <td>3014</td>\n",
              "      <td>6398</td>\n",
              "      <td>11439</td>\n",
              "      <td>-271</td>\n",
              "      <td>https://9653126/159bc361</td>\n",
              "    </tr>\n",
              "    <tr>\n",
              "      <th>4</th>\n",
              "      <td>3710</td>\n",
              "      <td>11096</td>\n",
              "      <td>11333</td>\n",
              "      <td>14673</td>\n",
              "      <td>8030</td>\n",
              "      <td>1852</td>\n",
              "      <td>10554</td>\n",
              "      <td>11625</td>\n",
              "      <td>4306</td>\n",
              "      <td>13210</td>\n",
              "      <td>https://72879b4/125c29e6</td>\n",
              "    </tr>\n",
              "  </tbody>\n",
              "</table>\n",
              "</div>"
            ],
            "text/plain": [
              "   component0  component1  component2  component3  component4  component5  \\\n",
              "0       16708       -3741       11395       -1597       -3212        6269   \n",
              "1       11731        4045       22213       -1184       -8992        9381   \n",
              "2       10551        2947       12282        -470       16222        4472   \n",
              "3       12816       20498      -10110        7731        -569       12035   \n",
              "4        3710       11096       11333       14673        8030        1852   \n",
              "\n",
              "   component6  component7  component8  component9                   referer  \n",
              "0        5610      -15351       13779       14102  https://a6899a4/15652e67  \n",
              "1       -3496       -3120        -899       16817          https://9b48ee5/  \n",
              "2       -3316        9606        4197       18948  https://7a4c700/161af7e3  \n",
              "3        3014        6398       11439        -271  https://9653126/159bc361  \n",
              "4       10554       11625        4306       13210  https://72879b4/125c29e6  "
            ]
          },
          "execution_count": 28,
          "metadata": {},
          "output_type": "execute_result"
        }
      ],
      "source": [
        "referer_vectors.head()"
      ]
    },
    {
      "cell_type": "code",
      "execution_count": 29,
      "metadata": {
        "colab": {
          "base_uri": "https://localhost:8080/"
        },
        "id": "nS89EDrYF_gK",
        "outputId": "42827516-c582-410f-bb06-92c44d77b8d3"
      },
      "outputs": [
        {
          "name": "stdout",
          "output_type": "stream",
          "text": [
            "<class 'pandas.core.frame.DataFrame'>\n",
            "RangeIndex: 200000 entries, 0 to 199999\n",
            "Data columns (total 11 columns):\n",
            " #   Column      Non-Null Count   Dtype \n",
            "---  ------      --------------   ----- \n",
            " 0   component0  200000 non-null  int64 \n",
            " 1   component1  200000 non-null  int64 \n",
            " 2   component2  200000 non-null  int64 \n",
            " 3   component3  200000 non-null  int64 \n",
            " 4   component4  200000 non-null  int64 \n",
            " 5   component5  200000 non-null  int64 \n",
            " 6   component6  200000 non-null  int64 \n",
            " 7   component7  200000 non-null  int64 \n",
            " 8   component8  200000 non-null  int64 \n",
            " 9   component9  200000 non-null  int64 \n",
            " 10  referer     200000 non-null  object\n",
            "dtypes: int64(10), object(1)\n",
            "memory usage: 16.8+ MB\n"
          ]
        }
      ],
      "source": [
        "referer_vectors.info()"
      ]
    },
    {
      "cell_type": "code",
      "execution_count": 30,
      "metadata": {
        "id": "8IQfEHRFF_gK"
      },
      "outputs": [],
      "source": [
        "full_train = pd.merge(train_geo_labels, referer_vectors, on='referer', how=\"inner\")"
      ]
    },
    {
      "cell_type": "code",
      "execution_count": 31,
      "metadata": {
        "colab": {
          "base_uri": "https://localhost:8080/"
        },
        "id": "r5e8cBIsF_gL",
        "outputId": "3a6847e8-d185-4ded-d525-c47fd9525d48"
      },
      "outputs": [
        {
          "name": "stdout",
          "output_type": "stream",
          "text": [
            "<class 'pandas.core.frame.DataFrame'>\n",
            "RangeIndex: 601289 entries, 0 to 601288\n",
            "Data columns (total 22 columns):\n",
            " #   Column           Non-Null Count   Dtype  \n",
            "---  ------           --------------   -----  \n",
            " 0   request_ts       601289 non-null  float64\n",
            " 1   user_id          601289 non-null  object \n",
            " 2   referer          601289 non-null  object \n",
            " 3   geo_id           601289 non-null  float64\n",
            " 4   browser          601289 non-null  object \n",
            " 5   browser_version  601289 non-null  object \n",
            " 6   os               601289 non-null  object \n",
            " 7   os_version       601289 non-null  object \n",
            " 8   country_id       601289 non-null  object \n",
            " 9   region_id        601289 non-null  object \n",
            " 10  timezone_id      601289 non-null  object \n",
            " 11  target           601289 non-null  int64  \n",
            " 12  component0       601289 non-null  int64  \n",
            " 13  component1       601289 non-null  int64  \n",
            " 14  component2       601289 non-null  int64  \n",
            " 15  component3       601289 non-null  int64  \n",
            " 16  component4       601289 non-null  int64  \n",
            " 17  component5       601289 non-null  int64  \n",
            " 18  component6       601289 non-null  int64  \n",
            " 19  component7       601289 non-null  int64  \n",
            " 20  component8       601289 non-null  int64  \n",
            " 21  component9       601289 non-null  int64  \n",
            "dtypes: float64(2), int64(11), object(9)\n",
            "memory usage: 100.9+ MB\n"
          ]
        }
      ],
      "source": [
        "full_train.info()"
      ]
    },
    {
      "cell_type": "code",
      "execution_count": 32,
      "metadata": {
        "colab": {
          "base_uri": "https://localhost:8080/",
          "height": 774
        },
        "id": "LrkCJ6lvF_gL",
        "outputId": "c12b23f4-63b7-4f8c-f2a2-594d1edbfbec"
      },
      "outputs": [
        {
          "data": {
            "text/plain": [
              "request_ts         0\n",
              "user_id            0\n",
              "referer            0\n",
              "geo_id             0\n",
              "browser            0\n",
              "browser_version    0\n",
              "os                 0\n",
              "os_version         0\n",
              "country_id         0\n",
              "region_id          0\n",
              "timezone_id        0\n",
              "target             0\n",
              "component0         0\n",
              "component1         0\n",
              "component2         0\n",
              "component3         0\n",
              "component4         0\n",
              "component5         0\n",
              "component6         0\n",
              "component7         0\n",
              "component8         0\n",
              "component9         0\n",
              "dtype: int64"
            ]
          },
          "execution_count": 32,
          "metadata": {},
          "output_type": "execute_result"
        }
      ],
      "source": [
        "full_train.isnull().sum()"
      ]
    },
    {
      "cell_type": "code",
      "execution_count": 33,
      "metadata": {
        "colab": {
          "base_uri": "https://localhost:8080/",
          "height": 342
        },
        "id": "vz9QhITIF_gL",
        "outputId": "cf50d953-6884-4f7d-b0f5-c54ec317d35d"
      },
      "outputs": [
        {
          "data": {
            "text/html": [
              "<div>\n",
              "<style scoped>\n",
              "    .dataframe tbody tr th:only-of-type {\n",
              "        vertical-align: middle;\n",
              "    }\n",
              "\n",
              "    .dataframe tbody tr th {\n",
              "        vertical-align: top;\n",
              "    }\n",
              "\n",
              "    .dataframe thead th {\n",
              "        text-align: right;\n",
              "    }\n",
              "</style>\n",
              "<table border=\"1\" class=\"dataframe\">\n",
              "  <thead>\n",
              "    <tr style=\"text-align: right;\">\n",
              "      <th></th>\n",
              "      <th>request_ts</th>\n",
              "      <th>user_id</th>\n",
              "      <th>referer</th>\n",
              "      <th>geo_id</th>\n",
              "      <th>browser</th>\n",
              "      <th>browser_version</th>\n",
              "      <th>os</th>\n",
              "      <th>os_version</th>\n",
              "      <th>country_id</th>\n",
              "      <th>region_id</th>\n",
              "      <th>...</th>\n",
              "      <th>component0</th>\n",
              "      <th>component1</th>\n",
              "      <th>component2</th>\n",
              "      <th>component3</th>\n",
              "      <th>component4</th>\n",
              "      <th>component5</th>\n",
              "      <th>component6</th>\n",
              "      <th>component7</th>\n",
              "      <th>component8</th>\n",
              "      <th>component9</th>\n",
              "    </tr>\n",
              "  </thead>\n",
              "  <tbody>\n",
              "    <tr>\n",
              "      <th>0</th>\n",
              "      <td>1.701011e+09</td>\n",
              "      <td>fb858e8e0a2bec074450eaf94b627fd3</td>\n",
              "      <td>https://9b48ee5/</td>\n",
              "      <td>4799.0</td>\n",
              "      <td>Chrome Mobile</td>\n",
              "      <td>119.0.0</td>\n",
              "      <td>Android</td>\n",
              "      <td>10</td>\n",
              "      <td>c31b4e</td>\n",
              "      <td>470e75</td>\n",
              "      <td>...</td>\n",
              "      <td>11731</td>\n",
              "      <td>4045</td>\n",
              "      <td>22213</td>\n",
              "      <td>-1184</td>\n",
              "      <td>-8992</td>\n",
              "      <td>9381</td>\n",
              "      <td>-3496</td>\n",
              "      <td>-3120</td>\n",
              "      <td>-899</td>\n",
              "      <td>16817</td>\n",
              "    </tr>\n",
              "    <tr>\n",
              "      <th>1</th>\n",
              "      <td>1.700987e+09</td>\n",
              "      <td>46a5f128fd569c764a92c2eaa788095e</td>\n",
              "      <td>https://9b48ee5/</td>\n",
              "      <td>8257.0</td>\n",
              "      <td>Chrome Mobile</td>\n",
              "      <td>111.0.0</td>\n",
              "      <td>Android</td>\n",
              "      <td>10</td>\n",
              "      <td>c31b4e</td>\n",
              "      <td>44520b</td>\n",
              "      <td>...</td>\n",
              "      <td>11731</td>\n",
              "      <td>4045</td>\n",
              "      <td>22213</td>\n",
              "      <td>-1184</td>\n",
              "      <td>-8992</td>\n",
              "      <td>9381</td>\n",
              "      <td>-3496</td>\n",
              "      <td>-3120</td>\n",
              "      <td>-899</td>\n",
              "      <td>16817</td>\n",
              "    </tr>\n",
              "    <tr>\n",
              "      <th>2</th>\n",
              "      <td>1.701011e+09</td>\n",
              "      <td>5a74e9ac53ffb21a20cce117c0ad77ba</td>\n",
              "      <td>https://9634fd0/1409e548</td>\n",
              "      <td>3150.0</td>\n",
              "      <td>Yandex Browser</td>\n",
              "      <td>20.12.5</td>\n",
              "      <td>Android</td>\n",
              "      <td>11</td>\n",
              "      <td>c31b4e</td>\n",
              "      <td>616bb9</td>\n",
              "      <td>...</td>\n",
              "      <td>12498</td>\n",
              "      <td>2451</td>\n",
              "      <td>10304</td>\n",
              "      <td>-6380</td>\n",
              "      <td>11608</td>\n",
              "      <td>3106</td>\n",
              "      <td>-2188</td>\n",
              "      <td>10573</td>\n",
              "      <td>3347</td>\n",
              "      <td>21870</td>\n",
              "    </tr>\n",
              "    <tr>\n",
              "      <th>3</th>\n",
              "      <td>1.700993e+09</td>\n",
              "      <td>af735816ca19115431ae3d89518c8c91</td>\n",
              "      <td>https://9b48ee5/</td>\n",
              "      <td>2740.0</td>\n",
              "      <td>Chrome Mobile</td>\n",
              "      <td>119.0.0</td>\n",
              "      <td>Android</td>\n",
              "      <td>10</td>\n",
              "      <td>c31b4e</td>\n",
              "      <td>3c9dca</td>\n",
              "      <td>...</td>\n",
              "      <td>11731</td>\n",
              "      <td>4045</td>\n",
              "      <td>22213</td>\n",
              "      <td>-1184</td>\n",
              "      <td>-8992</td>\n",
              "      <td>9381</td>\n",
              "      <td>-3496</td>\n",
              "      <td>-3120</td>\n",
              "      <td>-899</td>\n",
              "      <td>16817</td>\n",
              "    </tr>\n",
              "    <tr>\n",
              "      <th>4</th>\n",
              "      <td>1.701022e+09</td>\n",
              "      <td>364f0ae0a3f29a685c4fb5bae6033b9a</td>\n",
              "      <td>https://9b48ee5/</td>\n",
              "      <td>4863.0</td>\n",
              "      <td>Yandex Browser</td>\n",
              "      <td>18.11.1</td>\n",
              "      <td>Android</td>\n",
              "      <td>4.4.4</td>\n",
              "      <td>c31b4e</td>\n",
              "      <td>776e76</td>\n",
              "      <td>...</td>\n",
              "      <td>11731</td>\n",
              "      <td>4045</td>\n",
              "      <td>22213</td>\n",
              "      <td>-1184</td>\n",
              "      <td>-8992</td>\n",
              "      <td>9381</td>\n",
              "      <td>-3496</td>\n",
              "      <td>-3120</td>\n",
              "      <td>-899</td>\n",
              "      <td>16817</td>\n",
              "    </tr>\n",
              "  </tbody>\n",
              "</table>\n",
              "<p>5 rows × 22 columns</p>\n",
              "</div>"
            ],
            "text/plain": [
              "     request_ts                           user_id                   referer  \\\n",
              "0  1.701011e+09  fb858e8e0a2bec074450eaf94b627fd3          https://9b48ee5/   \n",
              "1  1.700987e+09  46a5f128fd569c764a92c2eaa788095e          https://9b48ee5/   \n",
              "2  1.701011e+09  5a74e9ac53ffb21a20cce117c0ad77ba  https://9634fd0/1409e548   \n",
              "3  1.700993e+09  af735816ca19115431ae3d89518c8c91          https://9b48ee5/   \n",
              "4  1.701022e+09  364f0ae0a3f29a685c4fb5bae6033b9a          https://9b48ee5/   \n",
              "\n",
              "   geo_id         browser browser_version       os os_version country_id  \\\n",
              "0  4799.0   Chrome Mobile         119.0.0  Android         10     c31b4e   \n",
              "1  8257.0   Chrome Mobile         111.0.0  Android         10     c31b4e   \n",
              "2  3150.0  Yandex Browser         20.12.5  Android         11     c31b4e   \n",
              "3  2740.0   Chrome Mobile         119.0.0  Android         10     c31b4e   \n",
              "4  4863.0  Yandex Browser         18.11.1  Android      4.4.4     c31b4e   \n",
              "\n",
              "  region_id  ... component0  component1  component2  component3  component4  \\\n",
              "0    470e75  ...      11731        4045       22213       -1184       -8992   \n",
              "1    44520b  ...      11731        4045       22213       -1184       -8992   \n",
              "2    616bb9  ...      12498        2451       10304       -6380       11608   \n",
              "3    3c9dca  ...      11731        4045       22213       -1184       -8992   \n",
              "4    776e76  ...      11731        4045       22213       -1184       -8992   \n",
              "\n",
              "   component5  component6  component7  component8  component9  \n",
              "0        9381       -3496       -3120        -899       16817  \n",
              "1        9381       -3496       -3120        -899       16817  \n",
              "2        3106       -2188       10573        3347       21870  \n",
              "3        9381       -3496       -3120        -899       16817  \n",
              "4        9381       -3496       -3120        -899       16817  \n",
              "\n",
              "[5 rows x 22 columns]"
            ]
          },
          "execution_count": 33,
          "metadata": {},
          "output_type": "execute_result"
        }
      ],
      "source": [
        "full_train.head()"
      ]
    },
    {
      "cell_type": "code",
      "execution_count": 34,
      "metadata": {
        "colab": {
          "base_uri": "https://localhost:8080/"
        },
        "id": "glzmE9IhF_gO",
        "outputId": "aa4bf72d-45cf-4bd9-e301-58ac7401f8d1"
      },
      "outputs": [
        {
          "name": "stdout",
          "output_type": "stream",
          "text": [
            "request_ts 84730\n",
            "user_id 499999\n",
            "referer 135012\n",
            "geo_id 2828\n",
            "browser 59\n",
            "browser_version 1437\n",
            "os 13\n",
            "os_version 230\n",
            "country_id 151\n",
            "region_id 259\n",
            "timezone_id 218\n",
            "target 2\n",
            "component0 27196\n",
            "component1 31467\n",
            "component2 26412\n",
            "component3 30622\n",
            "component4 30426\n",
            "component5 26702\n",
            "component6 27506\n",
            "component7 28597\n",
            "component8 28248\n",
            "component9 36867\n"
          ]
        }
      ],
      "source": [
        "for i in  full_train.columns:\n",
        "    print(i, full_train[i].nunique())"
      ]
    },
    {
      "cell_type": "code",
      "execution_count": 35,
      "metadata": {
        "id": "Rzrw9tcaF_gP"
      },
      "outputs": [],
      "source": [
        "#Удалим те колонки, которые не повляют на качество модели\n",
        "full_train = full_train.drop(['referer', 'geo_id'], axis = 1)"
      ]
    },
    {
      "cell_type": "code",
      "execution_count": 36,
      "metadata": {
        "id": "QhAWH0FaF_gP"
      },
      "outputs": [],
      "source": [
        "full_train = full_train.drop(['user_id'], axis = 1)"
      ]
    },
    {
      "cell_type": "code",
      "execution_count": 37,
      "metadata": {
        "colab": {
          "base_uri": "https://localhost:8080/"
        },
        "id": "OWx1d-hLF_gP",
        "outputId": "ff2f0206-04d3-4beb-b458-d91e4090edac"
      },
      "outputs": [
        {
          "name": "stdout",
          "output_type": "stream",
          "text": [
            "<class 'pandas.core.frame.DataFrame'>\n",
            "RangeIndex: 601289 entries, 0 to 601288\n",
            "Data columns (total 19 columns):\n",
            " #   Column           Non-Null Count   Dtype  \n",
            "---  ------           --------------   -----  \n",
            " 0   request_ts       601289 non-null  float64\n",
            " 1   browser          601289 non-null  object \n",
            " 2   browser_version  601289 non-null  object \n",
            " 3   os               601289 non-null  object \n",
            " 4   os_version       601289 non-null  object \n",
            " 5   country_id       601289 non-null  object \n",
            " 6   region_id        601289 non-null  object \n",
            " 7   timezone_id      601289 non-null  object \n",
            " 8   target           601289 non-null  int64  \n",
            " 9   component0       601289 non-null  int64  \n",
            " 10  component1       601289 non-null  int64  \n",
            " 11  component2       601289 non-null  int64  \n",
            " 12  component3       601289 non-null  int64  \n",
            " 13  component4       601289 non-null  int64  \n",
            " 14  component5       601289 non-null  int64  \n",
            " 15  component6       601289 non-null  int64  \n",
            " 16  component7       601289 non-null  int64  \n",
            " 17  component8       601289 non-null  int64  \n",
            " 18  component9       601289 non-null  int64  \n",
            "dtypes: float64(1), int64(11), object(7)\n",
            "memory usage: 87.2+ MB\n"
          ]
        }
      ],
      "source": [
        "full_train.info()"
      ]
    },
    {
      "cell_type": "code",
      "execution_count": 38,
      "metadata": {
        "colab": {
          "base_uri": "https://localhost:8080/",
          "height": 313
        },
        "id": "R9FmO7i7F_gP",
        "outputId": "3f1d7011-c8b0-45fb-fa37-4ce6ab05f057"
      },
      "outputs": [
        {
          "data": {
            "text/html": [
              "<div>\n",
              "<style scoped>\n",
              "    .dataframe tbody tr th:only-of-type {\n",
              "        vertical-align: middle;\n",
              "    }\n",
              "\n",
              "    .dataframe tbody tr th {\n",
              "        vertical-align: top;\n",
              "    }\n",
              "\n",
              "    .dataframe thead th {\n",
              "        text-align: right;\n",
              "    }\n",
              "</style>\n",
              "<table border=\"1\" class=\"dataframe\">\n",
              "  <thead>\n",
              "    <tr style=\"text-align: right;\">\n",
              "      <th></th>\n",
              "      <th>request_ts</th>\n",
              "      <th>browser</th>\n",
              "      <th>browser_version</th>\n",
              "      <th>os</th>\n",
              "      <th>os_version</th>\n",
              "      <th>country_id</th>\n",
              "      <th>region_id</th>\n",
              "      <th>timezone_id</th>\n",
              "      <th>target</th>\n",
              "      <th>component0</th>\n",
              "      <th>component1</th>\n",
              "      <th>component2</th>\n",
              "      <th>component3</th>\n",
              "      <th>component4</th>\n",
              "      <th>component5</th>\n",
              "      <th>component6</th>\n",
              "      <th>component7</th>\n",
              "      <th>component8</th>\n",
              "      <th>component9</th>\n",
              "    </tr>\n",
              "  </thead>\n",
              "  <tbody>\n",
              "    <tr>\n",
              "      <th>0</th>\n",
              "      <td>1.701011e+09</td>\n",
              "      <td>Chrome Mobile</td>\n",
              "      <td>119.0.0</td>\n",
              "      <td>Android</td>\n",
              "      <td>10</td>\n",
              "      <td>c31b4e</td>\n",
              "      <td>470e75</td>\n",
              "      <td>f6155e</td>\n",
              "      <td>0</td>\n",
              "      <td>11731</td>\n",
              "      <td>4045</td>\n",
              "      <td>22213</td>\n",
              "      <td>-1184</td>\n",
              "      <td>-8992</td>\n",
              "      <td>9381</td>\n",
              "      <td>-3496</td>\n",
              "      <td>-3120</td>\n",
              "      <td>-899</td>\n",
              "      <td>16817</td>\n",
              "    </tr>\n",
              "    <tr>\n",
              "      <th>1</th>\n",
              "      <td>1.700987e+09</td>\n",
              "      <td>Chrome Mobile</td>\n",
              "      <td>111.0.0</td>\n",
              "      <td>Android</td>\n",
              "      <td>10</td>\n",
              "      <td>c31b4e</td>\n",
              "      <td>44520b</td>\n",
              "      <td>e56e80</td>\n",
              "      <td>0</td>\n",
              "      <td>11731</td>\n",
              "      <td>4045</td>\n",
              "      <td>22213</td>\n",
              "      <td>-1184</td>\n",
              "      <td>-8992</td>\n",
              "      <td>9381</td>\n",
              "      <td>-3496</td>\n",
              "      <td>-3120</td>\n",
              "      <td>-899</td>\n",
              "      <td>16817</td>\n",
              "    </tr>\n",
              "    <tr>\n",
              "      <th>2</th>\n",
              "      <td>1.701011e+09</td>\n",
              "      <td>Yandex Browser</td>\n",
              "      <td>20.12.5</td>\n",
              "      <td>Android</td>\n",
              "      <td>11</td>\n",
              "      <td>c31b4e</td>\n",
              "      <td>616bb9</td>\n",
              "      <td>af47f1</td>\n",
              "      <td>0</td>\n",
              "      <td>12498</td>\n",
              "      <td>2451</td>\n",
              "      <td>10304</td>\n",
              "      <td>-6380</td>\n",
              "      <td>11608</td>\n",
              "      <td>3106</td>\n",
              "      <td>-2188</td>\n",
              "      <td>10573</td>\n",
              "      <td>3347</td>\n",
              "      <td>21870</td>\n",
              "    </tr>\n",
              "    <tr>\n",
              "      <th>3</th>\n",
              "      <td>1.700993e+09</td>\n",
              "      <td>Chrome Mobile</td>\n",
              "      <td>119.0.0</td>\n",
              "      <td>Android</td>\n",
              "      <td>10</td>\n",
              "      <td>c31b4e</td>\n",
              "      <td>3c9dca</td>\n",
              "      <td>e56e80</td>\n",
              "      <td>0</td>\n",
              "      <td>11731</td>\n",
              "      <td>4045</td>\n",
              "      <td>22213</td>\n",
              "      <td>-1184</td>\n",
              "      <td>-8992</td>\n",
              "      <td>9381</td>\n",
              "      <td>-3496</td>\n",
              "      <td>-3120</td>\n",
              "      <td>-899</td>\n",
              "      <td>16817</td>\n",
              "    </tr>\n",
              "    <tr>\n",
              "      <th>4</th>\n",
              "      <td>1.701022e+09</td>\n",
              "      <td>Yandex Browser</td>\n",
              "      <td>18.11.1</td>\n",
              "      <td>Android</td>\n",
              "      <td>4.4.4</td>\n",
              "      <td>c31b4e</td>\n",
              "      <td>776e76</td>\n",
              "      <td>10b7947</td>\n",
              "      <td>0</td>\n",
              "      <td>11731</td>\n",
              "      <td>4045</td>\n",
              "      <td>22213</td>\n",
              "      <td>-1184</td>\n",
              "      <td>-8992</td>\n",
              "      <td>9381</td>\n",
              "      <td>-3496</td>\n",
              "      <td>-3120</td>\n",
              "      <td>-899</td>\n",
              "      <td>16817</td>\n",
              "    </tr>\n",
              "  </tbody>\n",
              "</table>\n",
              "</div>"
            ],
            "text/plain": [
              "     request_ts         browser browser_version       os os_version  \\\n",
              "0  1.701011e+09   Chrome Mobile         119.0.0  Android         10   \n",
              "1  1.700987e+09   Chrome Mobile         111.0.0  Android         10   \n",
              "2  1.701011e+09  Yandex Browser         20.12.5  Android         11   \n",
              "3  1.700993e+09   Chrome Mobile         119.0.0  Android         10   \n",
              "4  1.701022e+09  Yandex Browser         18.11.1  Android      4.4.4   \n",
              "\n",
              "  country_id region_id timezone_id  target  component0  component1  \\\n",
              "0     c31b4e    470e75      f6155e       0       11731        4045   \n",
              "1     c31b4e    44520b      e56e80       0       11731        4045   \n",
              "2     c31b4e    616bb9      af47f1       0       12498        2451   \n",
              "3     c31b4e    3c9dca      e56e80       0       11731        4045   \n",
              "4     c31b4e    776e76     10b7947       0       11731        4045   \n",
              "\n",
              "   component2  component3  component4  component5  component6  component7  \\\n",
              "0       22213       -1184       -8992        9381       -3496       -3120   \n",
              "1       22213       -1184       -8992        9381       -3496       -3120   \n",
              "2       10304       -6380       11608        3106       -2188       10573   \n",
              "3       22213       -1184       -8992        9381       -3496       -3120   \n",
              "4       22213       -1184       -8992        9381       -3496       -3120   \n",
              "\n",
              "   component8  component9  \n",
              "0        -899       16817  \n",
              "1        -899       16817  \n",
              "2        3347       21870  \n",
              "3        -899       16817  \n",
              "4        -899       16817  "
            ]
          },
          "execution_count": 38,
          "metadata": {},
          "output_type": "execute_result"
        }
      ],
      "source": [
        "full_train.head()"
      ]
    },
    {
      "cell_type": "code",
      "execution_count": 39,
      "metadata": {
        "id": "RcegRomnF_gP"
      },
      "outputs": [],
      "source": [
        "#Попробуем также удалить колонки browser_version, os_version в связи с неспособностью нормально их представить в связи с большим количеством различных значений\n",
        "full_train = full_train.drop(['browser_version', 'os_version'], axis=1)"
      ]
    },
    {
      "cell_type": "code",
      "execution_count": 40,
      "metadata": {
        "colab": {
          "base_uri": "https://localhost:8080/",
          "height": 313
        },
        "id": "_gg_JcALF_gP",
        "outputId": "f9551612-4ce6-456c-b0da-cb17029f691e"
      },
      "outputs": [
        {
          "data": {
            "text/html": [
              "<div>\n",
              "<style scoped>\n",
              "    .dataframe tbody tr th:only-of-type {\n",
              "        vertical-align: middle;\n",
              "    }\n",
              "\n",
              "    .dataframe tbody tr th {\n",
              "        vertical-align: top;\n",
              "    }\n",
              "\n",
              "    .dataframe thead th {\n",
              "        text-align: right;\n",
              "    }\n",
              "</style>\n",
              "<table border=\"1\" class=\"dataframe\">\n",
              "  <thead>\n",
              "    <tr style=\"text-align: right;\">\n",
              "      <th></th>\n",
              "      <th>request_ts</th>\n",
              "      <th>browser</th>\n",
              "      <th>os</th>\n",
              "      <th>country_id</th>\n",
              "      <th>region_id</th>\n",
              "      <th>timezone_id</th>\n",
              "      <th>target</th>\n",
              "      <th>component0</th>\n",
              "      <th>component1</th>\n",
              "      <th>component2</th>\n",
              "      <th>component3</th>\n",
              "      <th>component4</th>\n",
              "      <th>component5</th>\n",
              "      <th>component6</th>\n",
              "      <th>component7</th>\n",
              "      <th>component8</th>\n",
              "      <th>component9</th>\n",
              "    </tr>\n",
              "  </thead>\n",
              "  <tbody>\n",
              "    <tr>\n",
              "      <th>0</th>\n",
              "      <td>1.701011e+09</td>\n",
              "      <td>Chrome Mobile</td>\n",
              "      <td>Android</td>\n",
              "      <td>c31b4e</td>\n",
              "      <td>470e75</td>\n",
              "      <td>f6155e</td>\n",
              "      <td>0</td>\n",
              "      <td>11731</td>\n",
              "      <td>4045</td>\n",
              "      <td>22213</td>\n",
              "      <td>-1184</td>\n",
              "      <td>-8992</td>\n",
              "      <td>9381</td>\n",
              "      <td>-3496</td>\n",
              "      <td>-3120</td>\n",
              "      <td>-899</td>\n",
              "      <td>16817</td>\n",
              "    </tr>\n",
              "    <tr>\n",
              "      <th>1</th>\n",
              "      <td>1.700987e+09</td>\n",
              "      <td>Chrome Mobile</td>\n",
              "      <td>Android</td>\n",
              "      <td>c31b4e</td>\n",
              "      <td>44520b</td>\n",
              "      <td>e56e80</td>\n",
              "      <td>0</td>\n",
              "      <td>11731</td>\n",
              "      <td>4045</td>\n",
              "      <td>22213</td>\n",
              "      <td>-1184</td>\n",
              "      <td>-8992</td>\n",
              "      <td>9381</td>\n",
              "      <td>-3496</td>\n",
              "      <td>-3120</td>\n",
              "      <td>-899</td>\n",
              "      <td>16817</td>\n",
              "    </tr>\n",
              "    <tr>\n",
              "      <th>2</th>\n",
              "      <td>1.701011e+09</td>\n",
              "      <td>Yandex Browser</td>\n",
              "      <td>Android</td>\n",
              "      <td>c31b4e</td>\n",
              "      <td>616bb9</td>\n",
              "      <td>af47f1</td>\n",
              "      <td>0</td>\n",
              "      <td>12498</td>\n",
              "      <td>2451</td>\n",
              "      <td>10304</td>\n",
              "      <td>-6380</td>\n",
              "      <td>11608</td>\n",
              "      <td>3106</td>\n",
              "      <td>-2188</td>\n",
              "      <td>10573</td>\n",
              "      <td>3347</td>\n",
              "      <td>21870</td>\n",
              "    </tr>\n",
              "    <tr>\n",
              "      <th>3</th>\n",
              "      <td>1.700993e+09</td>\n",
              "      <td>Chrome Mobile</td>\n",
              "      <td>Android</td>\n",
              "      <td>c31b4e</td>\n",
              "      <td>3c9dca</td>\n",
              "      <td>e56e80</td>\n",
              "      <td>0</td>\n",
              "      <td>11731</td>\n",
              "      <td>4045</td>\n",
              "      <td>22213</td>\n",
              "      <td>-1184</td>\n",
              "      <td>-8992</td>\n",
              "      <td>9381</td>\n",
              "      <td>-3496</td>\n",
              "      <td>-3120</td>\n",
              "      <td>-899</td>\n",
              "      <td>16817</td>\n",
              "    </tr>\n",
              "    <tr>\n",
              "      <th>4</th>\n",
              "      <td>1.701022e+09</td>\n",
              "      <td>Yandex Browser</td>\n",
              "      <td>Android</td>\n",
              "      <td>c31b4e</td>\n",
              "      <td>776e76</td>\n",
              "      <td>10b7947</td>\n",
              "      <td>0</td>\n",
              "      <td>11731</td>\n",
              "      <td>4045</td>\n",
              "      <td>22213</td>\n",
              "      <td>-1184</td>\n",
              "      <td>-8992</td>\n",
              "      <td>9381</td>\n",
              "      <td>-3496</td>\n",
              "      <td>-3120</td>\n",
              "      <td>-899</td>\n",
              "      <td>16817</td>\n",
              "    </tr>\n",
              "  </tbody>\n",
              "</table>\n",
              "</div>"
            ],
            "text/plain": [
              "     request_ts         browser       os country_id region_id timezone_id  \\\n",
              "0  1.701011e+09   Chrome Mobile  Android     c31b4e    470e75      f6155e   \n",
              "1  1.700987e+09   Chrome Mobile  Android     c31b4e    44520b      e56e80   \n",
              "2  1.701011e+09  Yandex Browser  Android     c31b4e    616bb9      af47f1   \n",
              "3  1.700993e+09   Chrome Mobile  Android     c31b4e    3c9dca      e56e80   \n",
              "4  1.701022e+09  Yandex Browser  Android     c31b4e    776e76     10b7947   \n",
              "\n",
              "   target  component0  component1  component2  component3  component4  \\\n",
              "0       0       11731        4045       22213       -1184       -8992   \n",
              "1       0       11731        4045       22213       -1184       -8992   \n",
              "2       0       12498        2451       10304       -6380       11608   \n",
              "3       0       11731        4045       22213       -1184       -8992   \n",
              "4       0       11731        4045       22213       -1184       -8992   \n",
              "\n",
              "   component5  component6  component7  component8  component9  \n",
              "0        9381       -3496       -3120        -899       16817  \n",
              "1        9381       -3496       -3120        -899       16817  \n",
              "2        3106       -2188       10573        3347       21870  \n",
              "3        9381       -3496       -3120        -899       16817  \n",
              "4        9381       -3496       -3120        -899       16817  "
            ]
          },
          "execution_count": 40,
          "metadata": {},
          "output_type": "execute_result"
        }
      ],
      "source": [
        "full_train.head()"
      ]
    },
    {
      "cell_type": "code",
      "execution_count": 41,
      "metadata": {
        "id": "IExqPMVAF_gQ"
      },
      "outputs": [],
      "source": [
        "full_train['target'] = full_train['target'].astype('category')"
      ]
    },
    {
      "cell_type": "code",
      "execution_count": 42,
      "metadata": {
        "colab": {
          "base_uri": "https://localhost:8080/",
          "height": 617
        },
        "id": "KFojFJlsyHUs",
        "outputId": "0a876e43-aebb-41a6-fc83-221b0eaa123a"
      },
      "outputs": [
        {
          "data": {
            "text/plain": [
              "request_ts     0\n",
              "browser        0\n",
              "os             0\n",
              "country_id     0\n",
              "region_id      0\n",
              "timezone_id    0\n",
              "target         0\n",
              "component0     0\n",
              "component1     0\n",
              "component2     0\n",
              "component3     0\n",
              "component4     0\n",
              "component5     0\n",
              "component6     0\n",
              "component7     0\n",
              "component8     0\n",
              "component9     0\n",
              "dtype: int64"
            ]
          },
          "execution_count": 42,
          "metadata": {},
          "output_type": "execute_result"
        }
      ],
      "source": [
        "full_train.isnull().sum()"
      ]
    },
    {
      "cell_type": "code",
      "execution_count": 43,
      "metadata": {
        "id": "uGlD6oPlLWsq"
      },
      "outputs": [],
      "source": [
        "# Преобразование request_ts в datetime\n",
        "full_train['request_ts'] = pd.to_datetime(full_train['request_ts'], unit='s')\n",
        "\n",
        "# Извлечение дополнительных признаков\n",
        "full_train['day_of_week'] = full_train['request_ts'].dt.day_name()  # День недели (например, 'Monday')\n",
        "full_train['hour'] = full_train['request_ts'].dt.hour             # Час дня\n",
        "full_train['month'] = full_train['request_ts'].dt.month           # Номер месяца\n",
        "full_train['day'] = full_train['request_ts'].dt.day               # День месяца\n",
        "full_train['year'] = full_train['request_ts'].dt.year"
      ]
    },
    {
      "cell_type": "code",
      "execution_count": 44,
      "metadata": {
        "colab": {
          "base_uri": "https://localhost:8080/",
          "height": 342
        },
        "id": "XMBk8f1W6Yvx",
        "outputId": "8bb4fab5-3d84-492c-c566-f8e9b5316ab7"
      },
      "outputs": [
        {
          "data": {
            "text/html": [
              "<div>\n",
              "<style scoped>\n",
              "    .dataframe tbody tr th:only-of-type {\n",
              "        vertical-align: middle;\n",
              "    }\n",
              "\n",
              "    .dataframe tbody tr th {\n",
              "        vertical-align: top;\n",
              "    }\n",
              "\n",
              "    .dataframe thead th {\n",
              "        text-align: right;\n",
              "    }\n",
              "</style>\n",
              "<table border=\"1\" class=\"dataframe\">\n",
              "  <thead>\n",
              "    <tr style=\"text-align: right;\">\n",
              "      <th></th>\n",
              "      <th>request_ts</th>\n",
              "      <th>browser</th>\n",
              "      <th>os</th>\n",
              "      <th>country_id</th>\n",
              "      <th>region_id</th>\n",
              "      <th>timezone_id</th>\n",
              "      <th>target</th>\n",
              "      <th>component0</th>\n",
              "      <th>component1</th>\n",
              "      <th>component2</th>\n",
              "      <th>...</th>\n",
              "      <th>component5</th>\n",
              "      <th>component6</th>\n",
              "      <th>component7</th>\n",
              "      <th>component8</th>\n",
              "      <th>component9</th>\n",
              "      <th>day_of_week</th>\n",
              "      <th>hour</th>\n",
              "      <th>month</th>\n",
              "      <th>day</th>\n",
              "      <th>year</th>\n",
              "    </tr>\n",
              "  </thead>\n",
              "  <tbody>\n",
              "    <tr>\n",
              "      <th>0</th>\n",
              "      <td>2023-11-26 15:09:23</td>\n",
              "      <td>Chrome Mobile</td>\n",
              "      <td>Android</td>\n",
              "      <td>c31b4e</td>\n",
              "      <td>470e75</td>\n",
              "      <td>f6155e</td>\n",
              "      <td>0</td>\n",
              "      <td>11731</td>\n",
              "      <td>4045</td>\n",
              "      <td>22213</td>\n",
              "      <td>...</td>\n",
              "      <td>9381</td>\n",
              "      <td>-3496</td>\n",
              "      <td>-3120</td>\n",
              "      <td>-899</td>\n",
              "      <td>16817</td>\n",
              "      <td>Sunday</td>\n",
              "      <td>15</td>\n",
              "      <td>11</td>\n",
              "      <td>26</td>\n",
              "      <td>2023</td>\n",
              "    </tr>\n",
              "    <tr>\n",
              "      <th>1</th>\n",
              "      <td>2023-11-26 08:16:21</td>\n",
              "      <td>Chrome Mobile</td>\n",
              "      <td>Android</td>\n",
              "      <td>c31b4e</td>\n",
              "      <td>44520b</td>\n",
              "      <td>e56e80</td>\n",
              "      <td>0</td>\n",
              "      <td>11731</td>\n",
              "      <td>4045</td>\n",
              "      <td>22213</td>\n",
              "      <td>...</td>\n",
              "      <td>9381</td>\n",
              "      <td>-3496</td>\n",
              "      <td>-3120</td>\n",
              "      <td>-899</td>\n",
              "      <td>16817</td>\n",
              "      <td>Sunday</td>\n",
              "      <td>8</td>\n",
              "      <td>11</td>\n",
              "      <td>26</td>\n",
              "      <td>2023</td>\n",
              "    </tr>\n",
              "    <tr>\n",
              "      <th>2</th>\n",
              "      <td>2023-11-26 15:04:31</td>\n",
              "      <td>Yandex Browser</td>\n",
              "      <td>Android</td>\n",
              "      <td>c31b4e</td>\n",
              "      <td>616bb9</td>\n",
              "      <td>af47f1</td>\n",
              "      <td>0</td>\n",
              "      <td>12498</td>\n",
              "      <td>2451</td>\n",
              "      <td>10304</td>\n",
              "      <td>...</td>\n",
              "      <td>3106</td>\n",
              "      <td>-2188</td>\n",
              "      <td>10573</td>\n",
              "      <td>3347</td>\n",
              "      <td>21870</td>\n",
              "      <td>Sunday</td>\n",
              "      <td>15</td>\n",
              "      <td>11</td>\n",
              "      <td>26</td>\n",
              "      <td>2023</td>\n",
              "    </tr>\n",
              "    <tr>\n",
              "      <th>3</th>\n",
              "      <td>2023-11-26 10:00:03</td>\n",
              "      <td>Chrome Mobile</td>\n",
              "      <td>Android</td>\n",
              "      <td>c31b4e</td>\n",
              "      <td>3c9dca</td>\n",
              "      <td>e56e80</td>\n",
              "      <td>0</td>\n",
              "      <td>11731</td>\n",
              "      <td>4045</td>\n",
              "      <td>22213</td>\n",
              "      <td>...</td>\n",
              "      <td>9381</td>\n",
              "      <td>-3496</td>\n",
              "      <td>-3120</td>\n",
              "      <td>-899</td>\n",
              "      <td>16817</td>\n",
              "      <td>Sunday</td>\n",
              "      <td>10</td>\n",
              "      <td>11</td>\n",
              "      <td>26</td>\n",
              "      <td>2023</td>\n",
              "    </tr>\n",
              "    <tr>\n",
              "      <th>4</th>\n",
              "      <td>2023-11-26 18:01:06</td>\n",
              "      <td>Yandex Browser</td>\n",
              "      <td>Android</td>\n",
              "      <td>c31b4e</td>\n",
              "      <td>776e76</td>\n",
              "      <td>10b7947</td>\n",
              "      <td>0</td>\n",
              "      <td>11731</td>\n",
              "      <td>4045</td>\n",
              "      <td>22213</td>\n",
              "      <td>...</td>\n",
              "      <td>9381</td>\n",
              "      <td>-3496</td>\n",
              "      <td>-3120</td>\n",
              "      <td>-899</td>\n",
              "      <td>16817</td>\n",
              "      <td>Sunday</td>\n",
              "      <td>18</td>\n",
              "      <td>11</td>\n",
              "      <td>26</td>\n",
              "      <td>2023</td>\n",
              "    </tr>\n",
              "  </tbody>\n",
              "</table>\n",
              "<p>5 rows × 22 columns</p>\n",
              "</div>"
            ],
            "text/plain": [
              "           request_ts         browser       os country_id region_id  \\\n",
              "0 2023-11-26 15:09:23   Chrome Mobile  Android     c31b4e    470e75   \n",
              "1 2023-11-26 08:16:21   Chrome Mobile  Android     c31b4e    44520b   \n",
              "2 2023-11-26 15:04:31  Yandex Browser  Android     c31b4e    616bb9   \n",
              "3 2023-11-26 10:00:03   Chrome Mobile  Android     c31b4e    3c9dca   \n",
              "4 2023-11-26 18:01:06  Yandex Browser  Android     c31b4e    776e76   \n",
              "\n",
              "  timezone_id target  component0  component1  component2  ...  component5  \\\n",
              "0      f6155e      0       11731        4045       22213  ...        9381   \n",
              "1      e56e80      0       11731        4045       22213  ...        9381   \n",
              "2      af47f1      0       12498        2451       10304  ...        3106   \n",
              "3      e56e80      0       11731        4045       22213  ...        9381   \n",
              "4     10b7947      0       11731        4045       22213  ...        9381   \n",
              "\n",
              "   component6  component7  component8  component9  day_of_week  hour month  \\\n",
              "0       -3496       -3120        -899       16817       Sunday    15    11   \n",
              "1       -3496       -3120        -899       16817       Sunday     8    11   \n",
              "2       -2188       10573        3347       21870       Sunday    15    11   \n",
              "3       -3496       -3120        -899       16817       Sunday    10    11   \n",
              "4       -3496       -3120        -899       16817       Sunday    18    11   \n",
              "\n",
              "   day  year  \n",
              "0   26  2023  \n",
              "1   26  2023  \n",
              "2   26  2023  \n",
              "3   26  2023  \n",
              "4   26  2023  \n",
              "\n",
              "[5 rows x 22 columns]"
            ]
          },
          "execution_count": 44,
          "metadata": {},
          "output_type": "execute_result"
        }
      ],
      "source": [
        "full_train.head()"
      ]
    },
    {
      "cell_type": "code",
      "execution_count": 45,
      "metadata": {
        "id": "CGVAAlPAODNn"
      },
      "outputs": [],
      "source": [
        "#Удалим лишние признаки\n",
        "full_train = full_train.drop(['request_ts', 'browser', 'os'], axis=1)"
      ]
    },
    {
      "cell_type": "code",
      "execution_count": 46,
      "metadata": {
        "colab": {
          "base_uri": "https://localhost:8080/",
          "height": 226
        },
        "id": "QVrX0Ow6ONf2",
        "outputId": "2a670c91-e361-4570-d27e-74c539e01e37"
      },
      "outputs": [
        {
          "data": {
            "text/html": [
              "<div>\n",
              "<style scoped>\n",
              "    .dataframe tbody tr th:only-of-type {\n",
              "        vertical-align: middle;\n",
              "    }\n",
              "\n",
              "    .dataframe tbody tr th {\n",
              "        vertical-align: top;\n",
              "    }\n",
              "\n",
              "    .dataframe thead th {\n",
              "        text-align: right;\n",
              "    }\n",
              "</style>\n",
              "<table border=\"1\" class=\"dataframe\">\n",
              "  <thead>\n",
              "    <tr style=\"text-align: right;\">\n",
              "      <th></th>\n",
              "      <th>country_id</th>\n",
              "      <th>region_id</th>\n",
              "      <th>timezone_id</th>\n",
              "      <th>target</th>\n",
              "      <th>component0</th>\n",
              "      <th>component1</th>\n",
              "      <th>component2</th>\n",
              "      <th>component3</th>\n",
              "      <th>component4</th>\n",
              "      <th>component5</th>\n",
              "      <th>component6</th>\n",
              "      <th>component7</th>\n",
              "      <th>component8</th>\n",
              "      <th>component9</th>\n",
              "      <th>day_of_week</th>\n",
              "      <th>hour</th>\n",
              "      <th>month</th>\n",
              "      <th>day</th>\n",
              "      <th>year</th>\n",
              "    </tr>\n",
              "  </thead>\n",
              "  <tbody>\n",
              "    <tr>\n",
              "      <th>0</th>\n",
              "      <td>c31b4e</td>\n",
              "      <td>470e75</td>\n",
              "      <td>f6155e</td>\n",
              "      <td>0</td>\n",
              "      <td>11731</td>\n",
              "      <td>4045</td>\n",
              "      <td>22213</td>\n",
              "      <td>-1184</td>\n",
              "      <td>-8992</td>\n",
              "      <td>9381</td>\n",
              "      <td>-3496</td>\n",
              "      <td>-3120</td>\n",
              "      <td>-899</td>\n",
              "      <td>16817</td>\n",
              "      <td>Sunday</td>\n",
              "      <td>15</td>\n",
              "      <td>11</td>\n",
              "      <td>26</td>\n",
              "      <td>2023</td>\n",
              "    </tr>\n",
              "    <tr>\n",
              "      <th>1</th>\n",
              "      <td>c31b4e</td>\n",
              "      <td>44520b</td>\n",
              "      <td>e56e80</td>\n",
              "      <td>0</td>\n",
              "      <td>11731</td>\n",
              "      <td>4045</td>\n",
              "      <td>22213</td>\n",
              "      <td>-1184</td>\n",
              "      <td>-8992</td>\n",
              "      <td>9381</td>\n",
              "      <td>-3496</td>\n",
              "      <td>-3120</td>\n",
              "      <td>-899</td>\n",
              "      <td>16817</td>\n",
              "      <td>Sunday</td>\n",
              "      <td>8</td>\n",
              "      <td>11</td>\n",
              "      <td>26</td>\n",
              "      <td>2023</td>\n",
              "    </tr>\n",
              "    <tr>\n",
              "      <th>2</th>\n",
              "      <td>c31b4e</td>\n",
              "      <td>616bb9</td>\n",
              "      <td>af47f1</td>\n",
              "      <td>0</td>\n",
              "      <td>12498</td>\n",
              "      <td>2451</td>\n",
              "      <td>10304</td>\n",
              "      <td>-6380</td>\n",
              "      <td>11608</td>\n",
              "      <td>3106</td>\n",
              "      <td>-2188</td>\n",
              "      <td>10573</td>\n",
              "      <td>3347</td>\n",
              "      <td>21870</td>\n",
              "      <td>Sunday</td>\n",
              "      <td>15</td>\n",
              "      <td>11</td>\n",
              "      <td>26</td>\n",
              "      <td>2023</td>\n",
              "    </tr>\n",
              "    <tr>\n",
              "      <th>3</th>\n",
              "      <td>c31b4e</td>\n",
              "      <td>3c9dca</td>\n",
              "      <td>e56e80</td>\n",
              "      <td>0</td>\n",
              "      <td>11731</td>\n",
              "      <td>4045</td>\n",
              "      <td>22213</td>\n",
              "      <td>-1184</td>\n",
              "      <td>-8992</td>\n",
              "      <td>9381</td>\n",
              "      <td>-3496</td>\n",
              "      <td>-3120</td>\n",
              "      <td>-899</td>\n",
              "      <td>16817</td>\n",
              "      <td>Sunday</td>\n",
              "      <td>10</td>\n",
              "      <td>11</td>\n",
              "      <td>26</td>\n",
              "      <td>2023</td>\n",
              "    </tr>\n",
              "    <tr>\n",
              "      <th>4</th>\n",
              "      <td>c31b4e</td>\n",
              "      <td>776e76</td>\n",
              "      <td>10b7947</td>\n",
              "      <td>0</td>\n",
              "      <td>11731</td>\n",
              "      <td>4045</td>\n",
              "      <td>22213</td>\n",
              "      <td>-1184</td>\n",
              "      <td>-8992</td>\n",
              "      <td>9381</td>\n",
              "      <td>-3496</td>\n",
              "      <td>-3120</td>\n",
              "      <td>-899</td>\n",
              "      <td>16817</td>\n",
              "      <td>Sunday</td>\n",
              "      <td>18</td>\n",
              "      <td>11</td>\n",
              "      <td>26</td>\n",
              "      <td>2023</td>\n",
              "    </tr>\n",
              "  </tbody>\n",
              "</table>\n",
              "</div>"
            ],
            "text/plain": [
              "  country_id region_id timezone_id target  component0  component1  component2  \\\n",
              "0     c31b4e    470e75      f6155e      0       11731        4045       22213   \n",
              "1     c31b4e    44520b      e56e80      0       11731        4045       22213   \n",
              "2     c31b4e    616bb9      af47f1      0       12498        2451       10304   \n",
              "3     c31b4e    3c9dca      e56e80      0       11731        4045       22213   \n",
              "4     c31b4e    776e76     10b7947      0       11731        4045       22213   \n",
              "\n",
              "   component3  component4  component5  component6  component7  component8  \\\n",
              "0       -1184       -8992        9381       -3496       -3120        -899   \n",
              "1       -1184       -8992        9381       -3496       -3120        -899   \n",
              "2       -6380       11608        3106       -2188       10573        3347   \n",
              "3       -1184       -8992        9381       -3496       -3120        -899   \n",
              "4       -1184       -8992        9381       -3496       -3120        -899   \n",
              "\n",
              "   component9 day_of_week  hour  month  day  year  \n",
              "0       16817      Sunday    15     11   26  2023  \n",
              "1       16817      Sunday     8     11   26  2023  \n",
              "2       21870      Sunday    15     11   26  2023  \n",
              "3       16817      Sunday    10     11   26  2023  \n",
              "4       16817      Sunday    18     11   26  2023  "
            ]
          },
          "execution_count": 46,
          "metadata": {},
          "output_type": "execute_result"
        }
      ],
      "source": [
        "full_train.head()"
      ]
    },
    {
      "cell_type": "code",
      "execution_count": 51,
      "metadata": {
        "id": "46GWg77jcxWh"
      },
      "outputs": [],
      "source": [
        "# Определение колонок для кодирования\n",
        "columns_to_encode = ['country_id', 'region_id', 'timezone_id' ]\n",
        "\n",
        "# Инициализация LabelEncoder\n",
        "label_encoders = {}\n",
        "\n",
        "# Кодирование каждой колонки\n",
        "for column in columns_to_encode:\n",
        "    le = LabelEncoder()\n",
        "    full_train[column] = le.fit_transform(full_train[column])\n",
        "     # Сохраняем энкодер в словарь для будущего использования\n",
        "    label_encoders[column] = le"
      ]
    },
    {
      "cell_type": "code",
      "execution_count": 52,
      "metadata": {
        "id": "4047rvLAMS4N"
      },
      "outputs": [],
      "source": [
        "# Инициализация OrdinalEncoder с порядком дней недели\n",
        "ord_encoder = OrdinalEncoder(categories=[['Monday', 'Tuesday', 'Wednesday', 'Thursday', 'Friday', 'Saturday', 'Sunday']])\n",
        "\n",
        "# Применяем Ordinal Encoding\n",
        "full_train['day_of_week'] = ord_encoder.fit_transform(full_train[['day_of_week']])"
      ]
    },
    {
      "cell_type": "markdown",
      "metadata": {},
      "source": [
        "## EDA полного тренировочного датасета"
      ]
    },
    {
      "cell_type": "code",
      "execution_count": 53,
      "metadata": {
        "colab": {
          "base_uri": "https://localhost:8080/",
          "height": 226
        },
        "id": "157yvRqmXVhd",
        "outputId": "8944197a-94b6-460d-da3e-46f23da47f81"
      },
      "outputs": [
        {
          "data": {
            "text/html": [
              "<div>\n",
              "<style scoped>\n",
              "    .dataframe tbody tr th:only-of-type {\n",
              "        vertical-align: middle;\n",
              "    }\n",
              "\n",
              "    .dataframe tbody tr th {\n",
              "        vertical-align: top;\n",
              "    }\n",
              "\n",
              "    .dataframe thead th {\n",
              "        text-align: right;\n",
              "    }\n",
              "</style>\n",
              "<table border=\"1\" class=\"dataframe\">\n",
              "  <thead>\n",
              "    <tr style=\"text-align: right;\">\n",
              "      <th></th>\n",
              "      <th>country_id</th>\n",
              "      <th>region_id</th>\n",
              "      <th>timezone_id</th>\n",
              "      <th>target</th>\n",
              "      <th>component0</th>\n",
              "      <th>component1</th>\n",
              "      <th>component2</th>\n",
              "      <th>component3</th>\n",
              "      <th>component4</th>\n",
              "      <th>component5</th>\n",
              "      <th>component6</th>\n",
              "      <th>component7</th>\n",
              "      <th>component8</th>\n",
              "      <th>component9</th>\n",
              "      <th>day_of_week</th>\n",
              "      <th>hour</th>\n",
              "      <th>month</th>\n",
              "      <th>day</th>\n",
              "      <th>year</th>\n",
              "    </tr>\n",
              "  </thead>\n",
              "  <tbody>\n",
              "    <tr>\n",
              "      <th>0</th>\n",
              "      <td>103</td>\n",
              "      <td>116</td>\n",
              "      <td>205</td>\n",
              "      <td>0</td>\n",
              "      <td>11731</td>\n",
              "      <td>4045</td>\n",
              "      <td>22213</td>\n",
              "      <td>-1184</td>\n",
              "      <td>-8992</td>\n",
              "      <td>9381</td>\n",
              "      <td>-3496</td>\n",
              "      <td>-3120</td>\n",
              "      <td>-899</td>\n",
              "      <td>16817</td>\n",
              "      <td>6.0</td>\n",
              "      <td>15</td>\n",
              "      <td>11</td>\n",
              "      <td>26</td>\n",
              "      <td>2023</td>\n",
              "    </tr>\n",
              "    <tr>\n",
              "      <th>1</th>\n",
              "      <td>103</td>\n",
              "      <td>111</td>\n",
              "      <td>179</td>\n",
              "      <td>0</td>\n",
              "      <td>11731</td>\n",
              "      <td>4045</td>\n",
              "      <td>22213</td>\n",
              "      <td>-1184</td>\n",
              "      <td>-8992</td>\n",
              "      <td>9381</td>\n",
              "      <td>-3496</td>\n",
              "      <td>-3120</td>\n",
              "      <td>-899</td>\n",
              "      <td>16817</td>\n",
              "      <td>6.0</td>\n",
              "      <td>8</td>\n",
              "      <td>11</td>\n",
              "      <td>26</td>\n",
              "      <td>2023</td>\n",
              "    </tr>\n",
              "    <tr>\n",
              "      <th>2</th>\n",
              "      <td>103</td>\n",
              "      <td>160</td>\n",
              "      <td>96</td>\n",
              "      <td>0</td>\n",
              "      <td>12498</td>\n",
              "      <td>2451</td>\n",
              "      <td>10304</td>\n",
              "      <td>-6380</td>\n",
              "      <td>11608</td>\n",
              "      <td>3106</td>\n",
              "      <td>-2188</td>\n",
              "      <td>10573</td>\n",
              "      <td>3347</td>\n",
              "      <td>21870</td>\n",
              "      <td>6.0</td>\n",
              "      <td>15</td>\n",
              "      <td>11</td>\n",
              "      <td>26</td>\n",
              "      <td>2023</td>\n",
              "    </tr>\n",
              "    <tr>\n",
              "      <th>3</th>\n",
              "      <td>103</td>\n",
              "      <td>99</td>\n",
              "      <td>179</td>\n",
              "      <td>0</td>\n",
              "      <td>11731</td>\n",
              "      <td>4045</td>\n",
              "      <td>22213</td>\n",
              "      <td>-1184</td>\n",
              "      <td>-8992</td>\n",
              "      <td>9381</td>\n",
              "      <td>-3496</td>\n",
              "      <td>-3120</td>\n",
              "      <td>-899</td>\n",
              "      <td>16817</td>\n",
              "      <td>6.0</td>\n",
              "      <td>10</td>\n",
              "      <td>11</td>\n",
              "      <td>26</td>\n",
              "      <td>2023</td>\n",
              "    </tr>\n",
              "    <tr>\n",
              "      <th>4</th>\n",
              "      <td>103</td>\n",
              "      <td>200</td>\n",
              "      <td>22</td>\n",
              "      <td>0</td>\n",
              "      <td>11731</td>\n",
              "      <td>4045</td>\n",
              "      <td>22213</td>\n",
              "      <td>-1184</td>\n",
              "      <td>-8992</td>\n",
              "      <td>9381</td>\n",
              "      <td>-3496</td>\n",
              "      <td>-3120</td>\n",
              "      <td>-899</td>\n",
              "      <td>16817</td>\n",
              "      <td>6.0</td>\n",
              "      <td>18</td>\n",
              "      <td>11</td>\n",
              "      <td>26</td>\n",
              "      <td>2023</td>\n",
              "    </tr>\n",
              "  </tbody>\n",
              "</table>\n",
              "</div>"
            ],
            "text/plain": [
              "   country_id  region_id  timezone_id target  component0  component1  \\\n",
              "0         103        116          205      0       11731        4045   \n",
              "1         103        111          179      0       11731        4045   \n",
              "2         103        160           96      0       12498        2451   \n",
              "3         103         99          179      0       11731        4045   \n",
              "4         103        200           22      0       11731        4045   \n",
              "\n",
              "   component2  component3  component4  component5  component6  component7  \\\n",
              "0       22213       -1184       -8992        9381       -3496       -3120   \n",
              "1       22213       -1184       -8992        9381       -3496       -3120   \n",
              "2       10304       -6380       11608        3106       -2188       10573   \n",
              "3       22213       -1184       -8992        9381       -3496       -3120   \n",
              "4       22213       -1184       -8992        9381       -3496       -3120   \n",
              "\n",
              "   component8  component9  day_of_week  hour  month  day  year  \n",
              "0        -899       16817          6.0    15     11   26  2023  \n",
              "1        -899       16817          6.0     8     11   26  2023  \n",
              "2        3347       21870          6.0    15     11   26  2023  \n",
              "3        -899       16817          6.0    10     11   26  2023  \n",
              "4        -899       16817          6.0    18     11   26  2023  "
            ]
          },
          "execution_count": 53,
          "metadata": {},
          "output_type": "execute_result"
        }
      ],
      "source": [
        "full_train.head()"
      ]
    },
    {
      "cell_type": "code",
      "execution_count": 54,
      "metadata": {},
      "outputs": [
        {
          "data": {
            "text/plain": [
              "(601289, 19)"
            ]
          },
          "execution_count": 54,
          "metadata": {},
          "output_type": "execute_result"
        }
      ],
      "source": [
        "#Проверим размерность полного тренировочного датасета\n",
        "full_train.shape"
      ]
    },
    {
      "cell_type": "code",
      "execution_count": 55,
      "metadata": {},
      "outputs": [
        {
          "data": {
            "text/plain": [
              "country_id        int32\n",
              "region_id         int32\n",
              "timezone_id       int32\n",
              "target         category\n",
              "component0        int64\n",
              "component1        int64\n",
              "component2        int64\n",
              "component3        int64\n",
              "component4        int64\n",
              "component5        int64\n",
              "component6        int64\n",
              "component7        int64\n",
              "component8        int64\n",
              "component9        int64\n",
              "day_of_week     float64\n",
              "hour              int32\n",
              "month             int32\n",
              "day               int32\n",
              "year              int32\n",
              "dtype: object"
            ]
          },
          "execution_count": 55,
          "metadata": {},
          "output_type": "execute_result"
        }
      ],
      "source": [
        "#Посмотрим типы данных для каждого столбца\n",
        "full_train.dtypes"
      ]
    },
    {
      "cell_type": "code",
      "execution_count": 56,
      "metadata": {},
      "outputs": [
        {
          "data": {
            "text/plain": [
              "country_id     0\n",
              "region_id      0\n",
              "timezone_id    0\n",
              "target         0\n",
              "component0     0\n",
              "component1     0\n",
              "component2     0\n",
              "component3     0\n",
              "component4     0\n",
              "component5     0\n",
              "component6     0\n",
              "component7     0\n",
              "component8     0\n",
              "component9     0\n",
              "day_of_week    0\n",
              "hour           0\n",
              "month          0\n",
              "day            0\n",
              "year           0\n",
              "dtype: int64"
            ]
          },
          "execution_count": 56,
          "metadata": {},
          "output_type": "execute_result"
        }
      ],
      "source": [
        "#Проверим пропущенные значения\n",
        "full_train.isnull().sum()"
      ]
    },
    {
      "cell_type": "code",
      "execution_count": 58,
      "metadata": {},
      "outputs": [
        {
          "name": "stdout",
          "output_type": "stream",
          "text": [
            "target\n",
            "0    313572\n",
            "1    287717\n",
            "Name: count, dtype: int64\n"
          ]
        },
        {
          "data": {
            "image/png": "[encoded data removed]",
            "text/plain": [
              "<Figure size 640x480 with 1 Axes>"
            ]
          },
          "metadata": {},
          "output_type": "display_data"
        }
      ],
      "source": [
        "#Посмотрим на распределение целевой переменной\n",
        "print(full_train['target'].value_counts())\n",
        "sns.countplot(x='target', data=full_train)\n",
        "plt.show()"
      ]
    },
    {
      "cell_type": "code",
      "execution_count": 57,
      "metadata": {
        "id": "GemKipsasmOV"
      },
      "outputs": [],
      "source": [
        "# Вычисляем корреляционную матрицу\n",
        "correlation_matrix = full_train.corr()"
      ]
    },
    {
      "cell_type": "code",
      "execution_count": 59,
      "metadata": {
        "colab": {
          "base_uri": "https://localhost:8080/",
          "height": 774
        },
        "id": "GrJBd8Aks2nA",
        "outputId": "ec074c9b-6114-4799-e640-5cbffdef82af"
      },
      "outputs": [
        {
          "data": {
            "image/png": "[encoded data removed]",
            "text/plain": [
              "<Figure size 1200x800 with 2 Axes>"
            ]
          },
          "metadata": {},
          "output_type": "display_data"
        }
      ],
      "source": [
        "# Настройка размера графика\n",
        "plt.figure(figsize=(12, 8))\n",
        "\n",
        "# Построение тепловой карты\n",
        "sns.heatmap(correlation_matrix, annot=True, cmap='coolwarm', fmt='.2f', linewidths=0.5)\n",
        "\n",
        "# Отображение графика\n",
        "plt.title('Корреляционная матрица для full_train')\n",
        "plt.show()"
      ]
    },
    {
      "cell_type": "markdown",
      "metadata": {},
      "source": [
        "## Обучение модели"
      ]
    },
    {
      "cell_type": "code",
      "execution_count": 60,
      "metadata": {
        "colab": {
          "background_save": true,
          "base_uri": "https://localhost:8080/"
        },
        "id": "sG58-BgA28t6",
        "outputId": "7aa7608f-2933-4350-9aee-11db1ff338be"
      },
      "outputs": [
        {
          "name": "stderr",
          "output_type": "stream",
          "text": [
            "[I 2024-12-18 17:49:39,671] A new study created in memory with name: no-name-43536cbd-7c22-4971-baa9-e9d54c82a744\n",
            "[I 2024-12-18 17:49:59,671] Trial 0 finished with value: 0.7789892431630555 and parameters: {'learning_rate': 0.07614796664884885, 'iterations': 498, 'depth': 7, 'l2_leaf_reg': 9.143657765534163}. Best is trial 0 with value: 0.7789892431630555.\n",
            "[I 2024-12-18 17:50:03,394] Trial 1 finished with value: 0.7275533351516401 and parameters: {'learning_rate': 0.02242025730880804, 'iterations': 159, 'depth': 4, 'l2_leaf_reg': 3.602327449752856}. Best is trial 0 with value: 0.7789892431630555.\n",
            "[I 2024-12-18 17:50:15,468] Trial 2 finished with value: 0.7456610099585559 and parameters: {'learning_rate': 0.010595560990535479, 'iterations': 242, 'depth': 8, 'l2_leaf_reg': 1.3229417737393698}. Best is trial 0 with value: 0.7789892431630555.\n",
            "[I 2024-12-18 17:50:28,632] Trial 3 finished with value: 0.7684718905290607 and parameters: {'learning_rate': 0.08085434449470638, 'iterations': 406, 'depth': 5, 'l2_leaf_reg': 2.4155140552162684}. Best is trial 0 with value: 0.7789892431630555.\n",
            "[I 2024-12-18 17:50:45,949] Trial 4 finished with value: 0.7766143570844116 and parameters: {'learning_rate': 0.04637828291554338, 'iterations': 309, 'depth': 9, 'l2_leaf_reg': 4.987556361436395}. Best is trial 0 with value: 0.7789892431630555.\n",
            "[I 2024-12-18 17:50:56,722] Trial 5 finished with value: 0.750337606354317 and parameters: {'learning_rate': 0.019189287410743258, 'iterations': 262, 'depth': 7, 'l2_leaf_reg': 2.249920300355298}. Best is trial 0 with value: 0.7789892431630555.\n",
            "[I 2024-12-18 17:51:10,232] Trial 6 finished with value: 0.7729622213500262 and parameters: {'learning_rate': 0.04701735110634419, 'iterations': 294, 'depth': 8, 'l2_leaf_reg': 7.654251048393883}. Best is trial 0 with value: 0.7789892431630555.\n",
            "[I 2024-12-18 17:51:43,725] Trial 7 finished with value: 0.7828276444722364 and parameters: {'learning_rate': 0.053181275618992, 'iterations': 364, 'depth': 10, 'l2_leaf_reg': 5.109736526615837}. Best is trial 7 with value: 0.7828276444722364.\n",
            "[I 2024-12-18 17:51:49,717] Trial 8 finished with value: 0.7457874044557387 and parameters: {'learning_rate': 0.016394675320236647, 'iterations': 138, 'depth': 9, 'l2_leaf_reg': 8.492542282775833}. Best is trial 7 with value: 0.7828276444722364.\n",
            "[I 2024-12-18 17:52:04,710] Trial 9 finished with value: 0.752712492432961 and parameters: {'learning_rate': 0.01293865043657446, 'iterations': 196, 'depth': 10, 'l2_leaf_reg': 1.0070410412733528}. Best is trial 7 with value: 0.7828276444722364.\n",
            "[I 2024-12-18 17:52:39,842] Trial 10 finished with value: 0.7791888134217652 and parameters: {'learning_rate': 0.034905763664034, 'iterations': 382, 'depth': 10, 'l2_leaf_reg': 4.943832840630101}. Best is trial 7 with value: 0.7828276444722364.\n",
            "[I 2024-12-18 17:53:12,710] Trial 11 finished with value: 0.779242032157421 and parameters: {'learning_rate': 0.035656185514659405, 'iterations': 368, 'depth': 10, 'l2_leaf_reg': 4.984317938333858}. Best is trial 7 with value: 0.7828276444722364.\n",
            "[I 2024-12-18 17:53:46,746] Trial 12 finished with value: 0.7831203475183438 and parameters: {'learning_rate': 0.05358649105527809, 'iterations': 372, 'depth': 10, 'l2_leaf_reg': 5.123336813580654}. Best is trial 12 with value: 0.7831203475183438.\n",
            "[I 2024-12-18 17:54:02,847] Trial 13 finished with value: 0.7716916240362419 and parameters: {'learning_rate': 0.06025696096628684, 'iterations': 450, 'depth': 6, 'l2_leaf_reg': 3.636011372141357}. Best is trial 12 with value: 0.7831203475183438.\n",
            "[I 2024-12-18 17:54:22,739] Trial 14 finished with value: 0.7841647652055906 and parameters: {'learning_rate': 0.09452879207104403, 'iterations': 349, 'depth': 9, 'l2_leaf_reg': 6.199668812913976}. Best is trial 14 with value: 0.7841647652055906.\n",
            "[I 2024-12-18 17:54:41,112] Trial 15 finished with value: 0.7836591872168597 and parameters: {'learning_rate': 0.09283210299308013, 'iterations': 327, 'depth': 9, 'l2_leaf_reg': 6.500631414323582}. Best is trial 14 with value: 0.7841647652055906.\n",
            "[I 2024-12-18 17:54:56,366] Trial 16 finished with value: 0.781151254299076 and parameters: {'learning_rate': 0.09883691037470857, 'iterations': 323, 'depth': 8, 'l2_leaf_reg': 6.749067690126061}. Best is trial 14 with value: 0.7841647652055906.\n",
            "[I 2024-12-18 17:55:20,611] Trial 17 finished with value: 0.7866460887555464 and parameters: {'learning_rate': 0.09947872646997866, 'iterations': 434, 'depth': 9, 'l2_leaf_reg': 6.425226428734905}. Best is trial 17 with value: 0.7866460887555464.\n",
            "[I 2024-12-18 17:55:37,659] Trial 18 finished with value: 0.7730553541374241 and parameters: {'learning_rate': 0.06841237718756761, 'iterations': 457, 'depth': 6, 'l2_leaf_reg': 2.4969099082721384}. Best is trial 17 with value: 0.7866460887555464.\n",
            "[I 2024-12-18 17:56:02,125] Trial 19 finished with value: 0.7742394710057676 and parameters: {'learning_rate': 0.02745087272365792, 'iterations': 433, 'depth': 9, 'l2_leaf_reg': 9.516642083653496}. Best is trial 17 with value: 0.7866460887555464.\n",
            "[I 2024-12-18 17:56:21,663] Trial 20 finished with value: 0.777864997372325 and parameters: {'learning_rate': 0.06854730269787405, 'iterations': 496, 'depth': 7, 'l2_leaf_reg': 6.3493797359385304}. Best is trial 17 with value: 0.7866460887555464.\n",
            "[I 2024-12-18 17:56:40,290] Trial 21 finished with value: 0.7846570385104076 and parameters: {'learning_rate': 0.09836655503445016, 'iterations': 328, 'depth': 9, 'l2_leaf_reg': 6.3223571912295595}. Best is trial 17 with value: 0.7866460887555464.\n",
            "[I 2024-12-18 17:56:52,600] Trial 22 finished with value: 0.7800735749020443 and parameters: {'learning_rate': 0.09910126666889268, 'iterations': 265, 'depth': 8, 'l2_leaf_reg': 3.675758556957308}. Best is trial 17 with value: 0.7866460887555464.\n",
            "[I 2024-12-18 17:57:14,494] Trial 23 finished with value: 0.7840516753923219 and parameters: {'learning_rate': 0.08021984411302081, 'iterations': 404, 'depth': 9, 'l2_leaf_reg': 6.189401114679567}. Best is trial 17 with value: 0.7866460887555464.\n",
            "[I 2024-12-18 17:57:30,003] Trial 24 finished with value: 0.7809450316984095 and parameters: {'learning_rate': 0.08553848787569374, 'iterations': 341, 'depth': 8, 'l2_leaf_reg': 7.61918977824572}. Best is trial 17 with value: 0.7866460887555464.\n",
            "[I 2024-12-18 17:57:53,126] Trial 25 finished with value: 0.7833930935385802 and parameters: {'learning_rate': 0.06525346749342283, 'iterations': 420, 'depth': 9, 'l2_leaf_reg': 4.553523204500422}. Best is trial 17 with value: 0.7866460887555464.\n",
            "[I 2024-12-18 17:58:06,359] Trial 26 finished with value: 0.7793019032350339 and parameters: {'learning_rate': 0.0778330190137276, 'iterations': 229, 'depth': 9, 'l2_leaf_reg': 2.813174724104167}. Best is trial 17 with value: 0.7866460887555464.\n",
            "[I 2024-12-18 17:58:17,580] Trial 27 finished with value: 0.7640281261017942 and parameters: {'learning_rate': 0.040456291252004374, 'iterations': 284, 'depth': 7, 'l2_leaf_reg': 4.080891454533878}. Best is trial 17 with value: 0.7866460887555464.\n",
            "[I 2024-12-18 17:58:37,881] Trial 28 finished with value: 0.7800868795859582 and parameters: {'learning_rate': 0.05956100635563417, 'iterations': 451, 'depth': 8, 'l2_leaf_reg': 6.0086376276039095}. Best is trial 17 with value: 0.7866460887555464.\n",
            "[I 2024-12-18 17:58:56,115] Trial 29 finished with value: 0.7612208377959461 and parameters: {'learning_rate': 0.027753163506372268, 'iterations': 495, 'depth': 6, 'l2_leaf_reg': 1.7520359281139797}. Best is trial 17 with value: 0.7866460887555464.\n",
            "[I 2024-12-18 17:59:11,226] Trial 30 finished with value: 0.7763283063802612 and parameters: {'learning_rate': 0.07557322910006936, 'iterations': 357, 'depth': 7, 'l2_leaf_reg': 8.323133463131786}. Best is trial 17 with value: 0.7866460887555464.\n",
            "[I 2024-12-18 17:59:32,931] Trial 31 finished with value: 0.784949741556515 and parameters: {'learning_rate': 0.08602608851714488, 'iterations': 397, 'depth': 9, 'l2_leaf_reg': 5.747536059831187}. Best is trial 17 with value: 0.7866460887555464.\n",
            "[I 2024-12-18 17:59:53,661] Trial 32 finished with value: 0.7855883663843857 and parameters: {'learning_rate': 0.08793940070814481, 'iterations': 403, 'depth': 9, 'l2_leaf_reg': 9.701206217914345}. Best is trial 17 with value: 0.7866460887555464.\n",
            "[I 2024-12-18 18:00:26,537] Trial 33 finished with value: 0.7872181901638472 and parameters: {'learning_rate': 0.08441503044118683, 'iterations': 394, 'depth': 10, 'l2_leaf_reg': 9.081421722382737}. Best is trial 33 with value: 0.7872181901638472.\n",
            "[I 2024-12-18 18:01:01,614] Trial 34 finished with value: 0.7874377174484277 and parameters: {'learning_rate': 0.0855799314436329, 'iterations': 391, 'depth': 10, 'l2_leaf_reg': 9.226513234636405}. Best is trial 34 with value: 0.7874377174484277.\n",
            "[I 2024-12-18 18:01:43,630] Trial 35 finished with value: 0.7870917956666644 and parameters: {'learning_rate': 0.07243141188080578, 'iterations': 475, 'depth': 10, 'l2_leaf_reg': 9.298655505061523}. Best is trial 34 with value: 0.7874377174484277.\n",
            "[I 2024-12-18 18:02:23,293] Trial 36 finished with value: 0.7872381471897182 and parameters: {'learning_rate': 0.06865937185370836, 'iterations': 473, 'depth': 10, 'l2_leaf_reg': 7.466520995797426}. Best is trial 34 with value: 0.7874377174484277.\n",
            "[I 2024-12-18 18:03:03,092] Trial 37 finished with value: 0.7843576831223432 and parameters: {'learning_rate': 0.04687790422536185, 'iterations': 475, 'depth': 10, 'l2_leaf_reg': 7.502219804548399}. Best is trial 34 with value: 0.7874377174484277.\n",
            "[I 2024-12-18 18:03:15,862] Trial 38 finished with value: 0.7573824364867652 and parameters: {'learning_rate': 0.05707223458116589, 'iterations': 473, 'depth': 4, 'l2_leaf_reg': 8.422707652581735}. Best is trial 34 with value: 0.7874377174484277.\n",
            "[I 2024-12-18 18:03:55,354] Trial 39 finished with value: 0.7876040259973524 and parameters: {'learning_rate': 0.07239963185302065, 'iterations': 474, 'depth': 10, 'l2_leaf_reg': 9.902214454141717}. Best is trial 39 with value: 0.7876040259973524.\n",
            "[I 2024-12-18 18:04:31,249] Trial 40 finished with value: 0.783985151972752 and parameters: {'learning_rate': 0.05056462567289551, 'iterations': 427, 'depth': 10, 'l2_leaf_reg': 9.843764705008535}. Best is trial 39 with value: 0.7876040259973524.\n",
            "[I 2024-12-18 18:05:11,141] Trial 41 finished with value: 0.7874842838421267 and parameters: {'learning_rate': 0.06995979391368208, 'iterations': 477, 'depth': 10, 'l2_leaf_reg': 8.678331659243652}. Best is trial 39 with value: 0.7876040259973524.\n",
            "[I 2024-12-18 18:05:52,496] Trial 42 finished with value: 0.7871982331379762 and parameters: {'learning_rate': 0.06700371332102582, 'iterations': 500, 'depth': 10, 'l2_leaf_reg': 7.418658573342904}. Best is trial 39 with value: 0.7876040259973524.\n",
            "[I 2024-12-18 18:06:30,555] Trial 43 finished with value: 0.7855750617004716 and parameters: {'learning_rate': 0.06223086139565808, 'iterations': 459, 'depth': 10, 'l2_leaf_reg': 8.440275618465806}. Best is trial 39 with value: 0.7876040259973524.\n",
            "[I 2024-12-18 18:07:10,150] Trial 44 finished with value: 0.7872048854799332 and parameters: {'learning_rate': 0.07675024303183572, 'iterations': 475, 'depth': 10, 'l2_leaf_reg': 7.246551009740785}. Best is trial 39 with value: 0.7876040259973524.\n",
            "[I 2024-12-18 18:07:41,952] Trial 45 finished with value: 0.7809649887242803 and parameters: {'learning_rate': 0.04181595045527231, 'iterations': 384, 'depth': 10, 'l2_leaf_reg': 8.483574517521532}. Best is trial 39 with value: 0.7876040259973524.\n",
            "[I 2024-12-18 18:08:16,719] Trial 46 finished with value: 0.7726362565941339 and parameters: {'learning_rate': 0.018243660847781184, 'iterations': 415, 'depth': 10, 'l2_leaf_reg': 9.988695209049887}. Best is trial 39 with value: 0.7876040259973524.\n",
            "[I 2024-12-18 18:08:52,976] Trial 47 finished with value: 0.7847302142719345 and parameters: {'learning_rate': 0.054779564186191884, 'iterations': 439, 'depth': 10, 'l2_leaf_reg': 8.788981761700178}. Best is trial 39 with value: 0.7876040259973524.\n",
            "[I 2024-12-18 18:09:00,535] Trial 48 finished with value: 0.7454813967257173 and parameters: {'learning_rate': 0.010616255086405317, 'iterations': 110, 'depth': 10, 'l2_leaf_reg': 1.7040484499517168}. Best is trial 39 with value: 0.7876040259973524.\n",
            "[I 2024-12-18 18:09:32,112] Trial 49 finished with value: 0.7865196942583637 and parameters: {'learning_rate': 0.0845530886955929, 'iterations': 382, 'depth': 10, 'l2_leaf_reg': 7.111878444475787}. Best is trial 39 with value: 0.7876040259973524.\n"
          ]
        },
        {
          "name": "stdout",
          "output_type": "stream",
          "text": [
            "Лучшие гиперпараметры: {'learning_rate': 0.07239963185302065, 'iterations': 474, 'depth': 10, 'l2_leaf_reg': 9.902214454141717}\n",
            "Лучшее значение точности: 0.7876040259973524\n",
            "Точность модели: 0.7876040259973524\n",
            "              precision    recall  f1-score   support\n",
            "\n",
            "           0       0.80      0.79      0.79     78305\n",
            "           1       0.77      0.79      0.78     72018\n",
            "\n",
            "    accuracy                           0.79    150323\n",
            "   macro avg       0.79      0.79      0.79    150323\n",
            "weighted avg       0.79      0.79      0.79    150323\n",
            "\n"
          ]
        },
        {
          "data": {
            "image/png": "[encoded data removed]",
            "text/plain": [
              "<Figure size 800x870 with 1 Axes>"
            ]
          },
          "metadata": {},
          "output_type": "display_data"
        },
        {
          "name": "stdout",
          "output_type": "stream",
          "text": [
            "Важность признаков (SHAP):\n",
            "        Feature  Importance\n",
            "4    component1    0.443553\n",
            "11   component8    0.299143\n",
            "5    component2    0.246493\n",
            "6    component3    0.184957\n",
            "3    component0    0.151607\n",
            "7    component4    0.147116\n",
            "9    component6    0.132362\n",
            "12   component9    0.129271\n",
            "10   component7    0.128270\n",
            "8    component5    0.125163\n",
            "0    country_id    0.056799\n",
            "14         hour    0.053929\n",
            "1     region_id    0.050629\n",
            "2   timezone_id    0.028239\n",
            "13  day_of_week    0.005591\n",
            "16          day    0.003830\n",
            "15        month    0.000000\n",
            "17         year    0.000000\n"
          ]
        }
      ],
      "source": [
        "# Разделение данных на признаки и целевую переменную\n",
        "X = full_train.drop(['target'], axis=1)\n",
        "y = full_train['target']\n",
        "\n",
        "# Разделение на обучающую и тестовую выборки\n",
        "X_train, X_test, y_train, y_test = train_test_split(X, y, test_size=0.25, random_state=42)\n",
        "\n",
        "scaler = StandardScaler()\n",
        "scaler.fit(X_train)\n",
        "scaled_X_train = scaler.transform(X_train)\n",
        "scaled_X_test = scaler.transform(X_test)\n",
        "\n",
        "# Определение функции для оптимизации гиперпараметров с использованием Optuna\n",
        "def objective(trial):\n",
        "    # Определение гиперпараметров для CatBoostClassifier\n",
        "    learning_rate = trial.suggest_float('learning_rate', 0.01, 0.1, log=True)\n",
        "    iterations = trial.suggest_int('iterations', 100, 500)\n",
        "    depth = trial.suggest_int('depth', 4, 10)\n",
        "    l2_leaf_reg = trial.suggest_float('l2_leaf_reg', 1, 10, log=True)\n",
        "\n",
        "    # Инициализация CatBoostClassifier с гиперпараметрами\n",
        "    model = CatBoostClassifier(\n",
        "        learning_rate=learning_rate,\n",
        "        iterations=iterations,\n",
        "        depth=depth,\n",
        "        l2_leaf_reg=l2_leaf_reg,\n",
        "        eval_metric='Accuracy',\n",
        "        verbose=0,\n",
        "        random_state=42\n",
        "    )\n",
        "\n",
        "    # Обучение модели на обучающей выборке\n",
        "    model.fit(X_train, y_train)\n",
        "\n",
        "    # Предсказание на тестовой выборке\n",
        "    y_preds = model.predict(X_test)\n",
        "\n",
        "    # Оценка точности модели\n",
        "    accuracy = accuracy_score(y_test, y_preds)\n",
        "    return accuracy\n",
        "\n",
        "# Создание и запуск Optuna для поиска наилучших гиперпараметров\n",
        "study = optuna.create_study(direction='maximize')\n",
        "study.optimize(objective, n_trials=50)\n",
        "\n",
        "# Вывод лучших гиперпараметров и точности\n",
        "print(\"Лучшие гиперпараметры:\", study.best_params)\n",
        "print(\"Лучшее значение точности:\", study.best_value)\n",
        "\n",
        "# Обучение модели с оптимальными гиперпараметрами\n",
        "best_params = study.best_params\n",
        "model = CatBoostClassifier(\n",
        "    learning_rate=best_params['learning_rate'],\n",
        "    iterations=best_params['iterations'],\n",
        "    depth=best_params['depth'],\n",
        "    l2_leaf_reg=best_params['l2_leaf_reg'],\n",
        "    eval_metric='Accuracy',\n",
        "    verbose=0,\n",
        "    random_state=42\n",
        ")\n",
        "\n",
        "# Обучение модели на обучающей выборке с лучшими гиперпараметрами\n",
        "model.fit(X_train, y_train)\n",
        "\n",
        "# Предсказание на тестовой выборке\n",
        "y_preds = model.predict(X_test)\n",
        "\n",
        "# Оценка точности модели\n",
        "accuracy = accuracy_score(y_test, y_preds)\n",
        "print(\"Точность модели:\", accuracy)\n",
        "\n",
        "# Вывод отчета о классификации\n",
        "print(classification_report(y_test, y_preds))\n",
        "\n",
        "# SHAP-анализ\n",
        "explainer = shap.TreeExplainer(model)\n",
        "shap_values = explainer.shap_values(X_test)\n",
        "\n",
        "# Визуализация SHAP-значений\n",
        "shap.summary_plot(shap_values, X_test, plot_type=\"bar\")\n",
        "\n",
        "# Вывод важности признаков в текстовом виде\n",
        "feature_importances = pd.DataFrame({\n",
        "    'Feature': X.columns,\n",
        "    'Importance': np.abs(shap_values).mean(axis=0)\n",
        "})\n",
        "feature_importances = feature_importances.sort_values(by='Importance', ascending=False)\n",
        "print(\"Важность признаков (SHAP):\")\n",
        "print(feature_importances)"
      ]
    },
    {
      "cell_type": "code",
      "execution_count": 61,
      "metadata": {
        "id": "kIdMRaZS5ue5"
      },
      "outputs": [],
      "source": [
        "#Попробуем удалить наименее важные признаки и обучить модель еще раз\n",
        "full_train = full_train.drop(['timezone_id', 'day_of_week', 'day', 'month', 'year'], axis=1)"
      ]
    },
    {
      "cell_type": "code",
      "execution_count": 62,
      "metadata": {
        "colab": {
          "base_uri": "https://localhost:8080/",
          "height": 226
        },
        "id": "I0l8OY12aegg",
        "outputId": "86994c93-f6a0-46c2-8a34-e6b7ae3155f8"
      },
      "outputs": [
        {
          "data": {
            "text/html": [
              "<div>\n",
              "<style scoped>\n",
              "    .dataframe tbody tr th:only-of-type {\n",
              "        vertical-align: middle;\n",
              "    }\n",
              "\n",
              "    .dataframe tbody tr th {\n",
              "        vertical-align: top;\n",
              "    }\n",
              "\n",
              "    .dataframe thead th {\n",
              "        text-align: right;\n",
              "    }\n",
              "</style>\n",
              "<table border=\"1\" class=\"dataframe\">\n",
              "  <thead>\n",
              "    <tr style=\"text-align: right;\">\n",
              "      <th></th>\n",
              "      <th>country_id</th>\n",
              "      <th>region_id</th>\n",
              "      <th>target</th>\n",
              "      <th>component0</th>\n",
              "      <th>component1</th>\n",
              "      <th>component2</th>\n",
              "      <th>component3</th>\n",
              "      <th>component4</th>\n",
              "      <th>component5</th>\n",
              "      <th>component6</th>\n",
              "      <th>component7</th>\n",
              "      <th>component8</th>\n",
              "      <th>component9</th>\n",
              "      <th>hour</th>\n",
              "    </tr>\n",
              "  </thead>\n",
              "  <tbody>\n",
              "    <tr>\n",
              "      <th>0</th>\n",
              "      <td>103</td>\n",
              "      <td>116</td>\n",
              "      <td>0</td>\n",
              "      <td>11731</td>\n",
              "      <td>4045</td>\n",
              "      <td>22213</td>\n",
              "      <td>-1184</td>\n",
              "      <td>-8992</td>\n",
              "      <td>9381</td>\n",
              "      <td>-3496</td>\n",
              "      <td>-3120</td>\n",
              "      <td>-899</td>\n",
              "      <td>16817</td>\n",
              "      <td>15</td>\n",
              "    </tr>\n",
              "    <tr>\n",
              "      <th>1</th>\n",
              "      <td>103</td>\n",
              "      <td>111</td>\n",
              "      <td>0</td>\n",
              "      <td>11731</td>\n",
              "      <td>4045</td>\n",
              "      <td>22213</td>\n",
              "      <td>-1184</td>\n",
              "      <td>-8992</td>\n",
              "      <td>9381</td>\n",
              "      <td>-3496</td>\n",
              "      <td>-3120</td>\n",
              "      <td>-899</td>\n",
              "      <td>16817</td>\n",
              "      <td>8</td>\n",
              "    </tr>\n",
              "    <tr>\n",
              "      <th>2</th>\n",
              "      <td>103</td>\n",
              "      <td>160</td>\n",
              "      <td>0</td>\n",
              "      <td>12498</td>\n",
              "      <td>2451</td>\n",
              "      <td>10304</td>\n",
              "      <td>-6380</td>\n",
              "      <td>11608</td>\n",
              "      <td>3106</td>\n",
              "      <td>-2188</td>\n",
              "      <td>10573</td>\n",
              "      <td>3347</td>\n",
              "      <td>21870</td>\n",
              "      <td>15</td>\n",
              "    </tr>\n",
              "    <tr>\n",
              "      <th>3</th>\n",
              "      <td>103</td>\n",
              "      <td>99</td>\n",
              "      <td>0</td>\n",
              "      <td>11731</td>\n",
              "      <td>4045</td>\n",
              "      <td>22213</td>\n",
              "      <td>-1184</td>\n",
              "      <td>-8992</td>\n",
              "      <td>9381</td>\n",
              "      <td>-3496</td>\n",
              "      <td>-3120</td>\n",
              "      <td>-899</td>\n",
              "      <td>16817</td>\n",
              "      <td>10</td>\n",
              "    </tr>\n",
              "    <tr>\n",
              "      <th>4</th>\n",
              "      <td>103</td>\n",
              "      <td>200</td>\n",
              "      <td>0</td>\n",
              "      <td>11731</td>\n",
              "      <td>4045</td>\n",
              "      <td>22213</td>\n",
              "      <td>-1184</td>\n",
              "      <td>-8992</td>\n",
              "      <td>9381</td>\n",
              "      <td>-3496</td>\n",
              "      <td>-3120</td>\n",
              "      <td>-899</td>\n",
              "      <td>16817</td>\n",
              "      <td>18</td>\n",
              "    </tr>\n",
              "  </tbody>\n",
              "</table>\n",
              "</div>"
            ],
            "text/plain": [
              "   country_id  region_id target  component0  component1  component2  \\\n",
              "0         103        116      0       11731        4045       22213   \n",
              "1         103        111      0       11731        4045       22213   \n",
              "2         103        160      0       12498        2451       10304   \n",
              "3         103         99      0       11731        4045       22213   \n",
              "4         103        200      0       11731        4045       22213   \n",
              "\n",
              "   component3  component4  component5  component6  component7  component8  \\\n",
              "0       -1184       -8992        9381       -3496       -3120        -899   \n",
              "1       -1184       -8992        9381       -3496       -3120        -899   \n",
              "2       -6380       11608        3106       -2188       10573        3347   \n",
              "3       -1184       -8992        9381       -3496       -3120        -899   \n",
              "4       -1184       -8992        9381       -3496       -3120        -899   \n",
              "\n",
              "   component9  hour  \n",
              "0       16817    15  \n",
              "1       16817     8  \n",
              "2       21870    15  \n",
              "3       16817    10  \n",
              "4       16817    18  "
            ]
          },
          "execution_count": 62,
          "metadata": {},
          "output_type": "execute_result"
        }
      ],
      "source": [
        "full_train.head()"
      ]
    },
    {
      "cell_type": "code",
      "execution_count": 63,
      "metadata": {
        "colab": {
          "base_uri": "https://localhost:8080/",
          "height": 1000
        },
        "id": "uG2ZcUl8cTDd",
        "outputId": "5988a896-7d49-4c1a-b5ac-70e13edd5a1d"
      },
      "outputs": [
        {
          "name": "stderr",
          "output_type": "stream",
          "text": [
            "[I 2024-12-18 18:11:07,416] A new study created in memory with name: no-name-ae85cc4c-896c-4362-9222-23ea9cf98380\n",
            "[I 2024-12-18 18:11:19,053] Trial 0 finished with value: 0.7717381904299409 and parameters: {'learning_rate': 0.04822997642473153, 'iterations': 275, 'depth': 8, 'l2_leaf_reg': 9.907911951276198}. Best is trial 0 with value: 0.7717381904299409.\n",
            "[I 2024-12-18 18:11:31,266] Trial 1 finished with value: 0.770733686794436 and parameters: {'learning_rate': 0.06665418371343147, 'iterations': 371, 'depth': 6, 'l2_leaf_reg': 9.713084398745158}. Best is trial 0 with value: 0.7717381904299409.\n",
            "[I 2024-12-18 18:11:47,206] Trial 2 finished with value: 0.7733613618674454 and parameters: {'learning_rate': 0.050424628589559255, 'iterations': 431, 'depth': 7, 'l2_leaf_reg': 3.227103410123839}. Best is trial 2 with value: 0.7733613618674454.\n",
            "[I 2024-12-18 18:12:03,980] Trial 3 finished with value: 0.7599835021919467 and parameters: {'learning_rate': 0.021334134168118794, 'iterations': 462, 'depth': 7, 'l2_leaf_reg': 1.4078927204252283}. Best is trial 2 with value: 0.7733613618674454.\n",
            "[I 2024-12-18 18:12:15,014] Trial 4 finished with value: 0.7451753889956959 and parameters: {'learning_rate': 0.028661964702580773, 'iterations': 415, 'depth': 4, 'l2_leaf_reg': 6.108532271215914}. Best is trial 2 with value: 0.7733613618674454.\n",
            "[I 2024-12-18 18:12:29,669] Trial 5 finished with value: 0.7509695788402307 and parameters: {'learning_rate': 0.02250870845313372, 'iterations': 498, 'depth': 5, 'l2_leaf_reg': 5.026742943682885}. Best is trial 2 with value: 0.7733613618674454.\n",
            "[I 2024-12-18 18:12:42,654] Trial 6 finished with value: 0.7471777439247487 and parameters: {'learning_rate': 0.01009938499701295, 'iterations': 303, 'depth': 8, 'l2_leaf_reg': 1.9928001754463491}. Best is trial 2 with value: 0.7733613618674454.\n",
            "[I 2024-12-18 18:13:04,953] Trial 7 finished with value: 0.7680660976696846 and parameters: {'learning_rate': 0.015962110747882223, 'iterations': 454, 'depth': 9, 'l2_leaf_reg': 1.6926984700660512}. Best is trial 2 with value: 0.7733613618674454.\n",
            "[I 2024-12-18 18:13:17,713] Trial 8 finished with value: 0.7604092520771938 and parameters: {'learning_rate': 0.027703563071381776, 'iterations': 347, 'depth': 7, 'l2_leaf_reg': 2.0357611485418112}. Best is trial 2 with value: 0.7733613618674454.\n",
            "[I 2024-12-18 18:13:24,152] Trial 9 finished with value: 0.7567438116588945 and parameters: {'learning_rate': 0.0264045208171958, 'iterations': 171, 'depth': 9, 'l2_leaf_reg': 5.960031720874015}. Best is trial 2 with value: 0.7733613618674454.\n",
            "[I 2024-12-18 18:13:32,135] Trial 10 finished with value: 0.7753304550867133 and parameters: {'learning_rate': 0.09301228484740984, 'iterations': 127, 'depth': 10, 'l2_leaf_reg': 3.123383756680745}. Best is trial 10 with value: 0.7753304550867133.\n",
            "[I 2024-12-18 18:13:38,516] Trial 11 finished with value: 0.7738935492240043 and parameters: {'learning_rate': 0.09896170611279971, 'iterations': 102, 'depth': 10, 'l2_leaf_reg': 3.3705260375589106}. Best is trial 10 with value: 0.7753304550867133.\n",
            "[I 2024-12-18 18:13:45,204] Trial 12 finished with value: 0.7742527756896815 and parameters: {'learning_rate': 0.09924347362491243, 'iterations': 105, 'depth': 10, 'l2_leaf_reg': 3.2479721155009877}. Best is trial 10 with value: 0.7753304550867133.\n",
            "[I 2024-12-18 18:13:51,627] Trial 13 finished with value: 0.7736141508618108 and parameters: {'learning_rate': 0.09175187859614273, 'iterations': 102, 'depth': 10, 'l2_leaf_reg': 2.462900385911895}. Best is trial 10 with value: 0.7753304550867133.\n",
            "[I 2024-12-18 18:14:03,257] Trial 14 finished with value: 0.7758825994691431 and parameters: {'learning_rate': 0.06028991265085798, 'iterations': 188, 'depth': 10, 'l2_leaf_reg': 1.092659537685105}. Best is trial 14 with value: 0.7758825994691431.\n",
            "[I 2024-12-18 18:14:10,657] Trial 15 finished with value: 0.773115225215037 and parameters: {'learning_rate': 0.06002811579020134, 'iterations': 199, 'depth': 9, 'l2_leaf_reg': 1.1290436048007653}. Best is trial 14 with value: 0.7758825994691431.\n",
            "[I 2024-12-18 18:14:16,505] Trial 16 finished with value: 0.7608882206980968 and parameters: {'learning_rate': 0.0404694012500998, 'iterations': 189, 'depth': 8, 'l2_leaf_reg': 1.0319686312795702}. Best is trial 14 with value: 0.7758825994691431.\n",
            "[I 2024-12-18 18:14:35,167] Trial 17 finished with value: 0.781144601957119 and parameters: {'learning_rate': 0.07244299460338094, 'iterations': 237, 'depth': 10, 'l2_leaf_reg': 4.143905396852877}. Best is trial 17 with value: 0.781144601957119.\n",
            "[I 2024-12-18 18:14:47,450] Trial 18 finished with value: 0.7786566260652062 and parameters: {'learning_rate': 0.070128129613723, 'iterations': 240, 'depth': 9, 'l2_leaf_reg': 4.516344003464645}. Best is trial 17 with value: 0.781144601957119.\n",
            "[I 2024-12-18 18:15:01,163] Trial 19 finished with value: 0.7795480398874424 and parameters: {'learning_rate': 0.07315139077330982, 'iterations': 250, 'depth': 9, 'l2_leaf_reg': 4.4514732131386445}. Best is trial 17 with value: 0.781144601957119.\n",
            "[I 2024-12-18 18:15:11,812] Trial 20 finished with value: 0.7662233989475995 and parameters: {'learning_rate': 0.03940394078255429, 'iterations': 246, 'depth': 8, 'l2_leaf_reg': 7.567673042508625}. Best is trial 17 with value: 0.781144601957119.\n",
            "[I 2024-12-18 18:15:23,983] Trial 21 finished with value: 0.7786366690393353 and parameters: {'learning_rate': 0.07227848960543677, 'iterations': 243, 'depth': 9, 'l2_leaf_reg': 4.693158516851663}. Best is trial 17 with value: 0.781144601957119.\n",
            "[I 2024-12-18 18:15:39,763] Trial 22 finished with value: 0.782568203135914 and parameters: {'learning_rate': 0.07548525548699218, 'iterations': 315, 'depth': 9, 'l2_leaf_reg': 4.15256750488482}. Best is trial 22 with value: 0.782568203135914.\n",
            "[I 2024-12-18 18:15:55,724] Trial 23 finished with value: 0.7823952422450323 and parameters: {'learning_rate': 0.07311644049959327, 'iterations': 319, 'depth': 9, 'l2_leaf_reg': 3.8334506643868727}. Best is trial 22 with value: 0.782568203135914.\n",
            "[I 2024-12-18 18:16:06,756] Trial 24 finished with value: 0.7639083839465683 and parameters: {'learning_rate': 0.04939127644767856, 'iterations': 328, 'depth': 6, 'l2_leaf_reg': 3.8557999013495277}. Best is trial 22 with value: 0.782568203135914.\n",
            "[I 2024-12-18 18:16:22,850] Trial 25 finished with value: 0.7807521137816569 and parameters: {'learning_rate': 0.08098333403615295, 'iterations': 382, 'depth': 8, 'l2_leaf_reg': 2.8241528128313225}. Best is trial 22 with value: 0.782568203135914.\n",
            "[I 2024-12-18 18:16:47,192] Trial 26 finished with value: 0.7766143570844116 and parameters: {'learning_rate': 0.036051918359471816, 'iterations': 299, 'depth': 10, 'l2_leaf_reg': 6.08096314884069}. Best is trial 22 with value: 0.782568203135914.\n",
            "[I 2024-12-18 18:17:03,569] Trial 27 finished with value: 0.7791622040539372 and parameters: {'learning_rate': 0.05400108158478902, 'iterations': 328, 'depth': 9, 'l2_leaf_reg': 3.8532468440479866}. Best is trial 22 with value: 0.782568203135914.\n",
            "[I 2024-12-18 18:17:25,738] Trial 28 finished with value: 0.7844042495160422 and parameters: {'learning_rate': 0.080654831418542, 'iterations': 277, 'depth': 10, 'l2_leaf_reg': 2.5883273338375044}. Best is trial 28 with value: 0.7844042495160422.\n",
            "[I 2024-12-18 18:17:37,742] Trial 29 finished with value: 0.7786898877749912 and parameters: {'learning_rate': 0.0828615825132486, 'iterations': 282, 'depth': 8, 'l2_leaf_reg': 2.3304355238610865}. Best is trial 28 with value: 0.7844042495160422.\n",
            "[I 2024-12-18 18:17:50,068] Trial 30 finished with value: 0.7626244819488701 and parameters: {'learning_rate': 0.041427585707148704, 'iterations': 371, 'depth': 6, 'l2_leaf_reg': 2.6666241124402212}. Best is trial 28 with value: 0.7844042495160422.\n",
            "[I 2024-12-18 18:18:11,840] Trial 31 finished with value: 0.781157906641033 and parameters: {'learning_rate': 0.0613866952133574, 'iterations': 268, 'depth': 10, 'l2_leaf_reg': 3.8739953860780436}. Best is trial 28 with value: 0.7844042495160422.\n",
            "[I 2024-12-18 18:18:33,788] Trial 32 finished with value: 0.7816767893136779 and parameters: {'learning_rate': 0.06213043236814443, 'iterations': 274, 'depth': 10, 'l2_leaf_reg': 3.6559552370988797}. Best is trial 28 with value: 0.7844042495160422.\n",
            "[I 2024-12-18 18:18:49,417] Trial 33 finished with value: 0.7824551133226453 and parameters: {'learning_rate': 0.08469871852961214, 'iterations': 315, 'depth': 9, 'l2_leaf_reg': 5.653889748733734}. Best is trial 28 with value: 0.7844042495160422.\n",
            "[I 2024-12-18 18:19:05,412] Trial 34 finished with value: 0.7829141249176773 and parameters: {'learning_rate': 0.08167350324766935, 'iterations': 320, 'depth': 9, 'l2_leaf_reg': 8.50214376193196}. Best is trial 28 with value: 0.7844042495160422.\n",
            "[I 2024-12-18 18:19:20,137] Trial 35 finished with value: 0.7805392388390333 and parameters: {'learning_rate': 0.0828165255277622, 'iterations': 349, 'depth': 8, 'l2_leaf_reg': 9.602179064777216}. Best is trial 28 with value: 0.7844042495160422.\n",
            "[I 2024-12-18 18:19:35,179] Trial 36 finished with value: 0.7788162822721739 and parameters: {'learning_rate': 0.0838594149757187, 'iterations': 406, 'depth': 7, 'l2_leaf_reg': 8.509452616701553}. Best is trial 28 with value: 0.7844042495160422.\n",
            "[I 2024-12-18 18:19:43,364] Trial 37 finished with value: 0.7505371766130267 and parameters: {'learning_rate': 0.05404406682668111, 'iterations': 299, 'depth': 4, 'l2_leaf_reg': 7.355678039397895}. Best is trial 28 with value: 0.7844042495160422.\n",
            "[I 2024-12-18 18:20:02,192] Trial 38 finished with value: 0.7615800642616233 and parameters: {'learning_rate': 0.014785257294028872, 'iterations': 348, 'depth': 9, 'l2_leaf_reg': 5.445730305816154}. Best is trial 28 with value: 0.7844042495160422.\n",
            "[I 2024-12-18 18:20:11,548] Trial 39 finished with value: 0.7671613791635346 and parameters: {'learning_rate': 0.04466225824697613, 'iterations': 220, 'depth': 8, 'l2_leaf_reg': 6.975053361979622}. Best is trial 28 with value: 0.7844042495160422.\n",
            "[I 2024-12-18 18:20:30,166] Trial 40 finished with value: 0.7752905410349714 and parameters: {'learning_rate': 0.03420045400830319, 'iterations': 372, 'depth': 9, 'l2_leaf_reg': 5.281115754774427}. Best is trial 28 with value: 0.7844042495160422.\n",
            "[I 2024-12-18 18:20:46,132] Trial 41 finished with value: 0.7826081171876559 and parameters: {'learning_rate': 0.07718134925287266, 'iterations': 320, 'depth': 9, 'l2_leaf_reg': 6.6633168648452505}. Best is trial 28 with value: 0.7844042495160422.\n",
            "[I 2024-12-18 18:21:01,923] Trial 42 finished with value: 0.7830804334666019 and parameters: {'learning_rate': 0.08653793037756917, 'iterations': 312, 'depth': 9, 'l2_leaf_reg': 6.572071992083497}. Best is trial 28 with value: 0.7844042495160422.\n",
            "[I 2024-12-18 18:21:12,370] Trial 43 finished with value: 0.7715186631453603 and parameters: {'learning_rate': 0.06327542457171015, 'iterations': 280, 'depth': 7, 'l2_leaf_reg': 8.65400353143672}. Best is trial 28 with value: 0.7844042495160422.\n",
            "[I 2024-12-18 18:21:29,480] Trial 44 finished with value: 0.7846104721167086 and parameters: {'learning_rate': 0.09096275126648413, 'iterations': 343, 'depth': 9, 'l2_leaf_reg': 8.29693265698192}. Best is trial 44 with value: 0.7846104721167086.\n",
            "[I 2024-12-18 18:21:46,138] Trial 45 finished with value: 0.7822089766702368 and parameters: {'learning_rate': 0.09209056942251356, 'iterations': 392, 'depth': 8, 'l2_leaf_reg': 6.656044484563609}. Best is trial 44 with value: 0.7846104721167086.\n",
            "[I 2024-12-18 18:22:14,347] Trial 46 finished with value: 0.7874443697903847 and parameters: {'learning_rate': 0.0998385058819517, 'iterations': 352, 'depth': 10, 'l2_leaf_reg': 9.906012477580648}. Best is trial 46 with value: 0.7874443697903847.\n",
            "[I 2024-12-18 18:22:50,607] Trial 47 finished with value: 0.7884289164000187 and parameters: {'learning_rate': 0.09809589312243845, 'iterations': 440, 'depth': 10, 'l2_leaf_reg': 9.838677830917911}. Best is trial 47 with value: 0.7884289164000187.\n",
            "[I 2024-12-18 18:23:27,475] Trial 48 finished with value: 0.7885553108972013 and parameters: {'learning_rate': 0.09978907558118161, 'iterations': 443, 'depth': 10, 'l2_leaf_reg': 9.895012742099375}. Best is trial 48 with value: 0.7885553108972013.\n",
            "[I 2024-12-18 18:24:03,848] Trial 49 finished with value: 0.7885885726069863 and parameters: {'learning_rate': 0.09835156456733304, 'iterations': 446, 'depth': 10, 'l2_leaf_reg': 9.985843975682318}. Best is trial 49 with value: 0.7885885726069863.\n"
          ]
        },
        {
          "name": "stdout",
          "output_type": "stream",
          "text": [
            "Лучшие гиперпараметры: {'learning_rate': 0.09835156456733304, 'iterations': 446, 'depth': 10, 'l2_leaf_reg': 9.985843975682318}\n",
            "Лучшее значение точности: 0.7885885726069863\n",
            "Точность модели: 0.7885885726069863\n",
            "              precision    recall  f1-score   support\n",
            "\n",
            "           0       0.80      0.79      0.79     78305\n",
            "           1       0.77      0.79      0.78     72018\n",
            "\n",
            "    accuracy                           0.79    150323\n",
            "   macro avg       0.79      0.79      0.79    150323\n",
            "weighted avg       0.79      0.79      0.79    150323\n",
            "\n"
          ]
        },
        {
          "data": {
            "image/png": "[encoded data removed]",
            "text/plain": [
              "<Figure size 800x670 with 1 Axes>"
            ]
          },
          "metadata": {},
          "output_type": "display_data"
        },
        {
          "name": "stdout",
          "output_type": "stream",
          "text": [
            "Важность признаков (SHAP):\n",
            "       Feature  Importance\n",
            "3   component1    0.444164\n",
            "10  component8    0.334830\n",
            "4   component2    0.220574\n",
            "5   component3    0.186006\n",
            "9   component7    0.149730\n",
            "6   component4    0.149020\n",
            "2   component0    0.146437\n",
            "8   component6    0.142860\n",
            "7   component5    0.126358\n",
            "11  component9    0.120198\n",
            "12        hour    0.064059\n",
            "0   country_id    0.061310\n",
            "1    region_id    0.055127\n"
          ]
        }
      ],
      "source": [
        "# Разделение данных на признаки и целевую переменную\n",
        "X = full_train.drop(['target'], axis=1)\n",
        "y = full_train['target']\n",
        "\n",
        "# Разделение на обучающую и тестовую выборки\n",
        "X_train, X_test, y_train, y_test = train_test_split(X, y, test_size=0.25, random_state=42)\n",
        "\n",
        "scaler = StandardScaler()\n",
        "scaler.fit(X_train)\n",
        "scaled_X_train = scaler.transform(X_train)\n",
        "scaled_X_test = scaler.transform(X_test)\n",
        "\n",
        "# Определение функции для оптимизации гиперпараметров с использованием Optuna\n",
        "def objective(trial):\n",
        "    # Определение гиперпараметров для CatBoostClassifier\n",
        "    learning_rate = trial.suggest_float('learning_rate', 0.01, 0.1, log=True)\n",
        "    iterations = trial.suggest_int('iterations', 100, 500)\n",
        "    depth = trial.suggest_int('depth', 4, 10)\n",
        "    l2_leaf_reg = trial.suggest_float('l2_leaf_reg', 1, 10, log=True)\n",
        "\n",
        "    # Инициализация CatBoostClassifier с гиперпараметрами\n",
        "    model_v2 = CatBoostClassifier(\n",
        "        learning_rate=learning_rate,\n",
        "        iterations=iterations,\n",
        "        depth=depth,\n",
        "        l2_leaf_reg=l2_leaf_reg,\n",
        "        eval_metric='Accuracy',\n",
        "        verbose=0,\n",
        "        random_state=42\n",
        "    )\n",
        "\n",
        "    # Обучение модели на обучающей выборке\n",
        "    model_v2.fit(X_train, y_train)\n",
        "\n",
        "    # Предсказание на тестовой выборке\n",
        "    y_preds = model_v2.predict(X_test)\n",
        "\n",
        "    # Оценка точности модели\n",
        "    accuracy = accuracy_score(y_test, y_preds)\n",
        "    return accuracy\n",
        "\n",
        "# Создание и запуск Optuna для поиска наилучших гиперпараметров\n",
        "study = optuna.create_study(direction='maximize')\n",
        "study.optimize(objective, n_trials=50)\n",
        "\n",
        "# Вывод лучших гиперпараметров и точности\n",
        "print(\"Лучшие гиперпараметры:\", study.best_params)\n",
        "print(\"Лучшее значение точности:\", study.best_value)\n",
        "\n",
        "# Обучение модели с оптимальными гиперпараметрами\n",
        "best_params = study.best_params\n",
        "model_v2 = CatBoostClassifier(\n",
        "    learning_rate=best_params['learning_rate'],\n",
        "    iterations=best_params['iterations'],\n",
        "    depth=best_params['depth'],\n",
        "    l2_leaf_reg=best_params['l2_leaf_reg'],\n",
        "    eval_metric='Accuracy',\n",
        "    verbose=0,\n",
        "    random_state=42\n",
        ")\n",
        "\n",
        "# Обучение модели на обучающей выборке с лучшими гиперпараметрами\n",
        "model_v2.fit(X_train, y_train)\n",
        "\n",
        "# Предсказание на тестовой выборке\n",
        "y_preds = model_v2.predict(X_test)\n",
        "\n",
        "# Оценка точности модели\n",
        "accuracy = accuracy_score(y_test, y_preds)\n",
        "print(\"Точность модели:\", accuracy)\n",
        "\n",
        "# Вывод отчета о классификации\n",
        "print(classification_report(y_test, y_preds))\n",
        "\n",
        "# SHAP-анализ\n",
        "explainer = shap.TreeExplainer(model_v2)\n",
        "shap_values = explainer.shap_values(X_test)\n",
        "\n",
        "# Визуализация SHAP-значений\n",
        "shap.summary_plot(shap_values, X_test, plot_type=\"bar\")\n",
        "\n",
        "# Вывод важности признаков в текстовом виде\n",
        "feature_importances = pd.DataFrame({\n",
        "    'Feature': X.columns,\n",
        "    'Importance': np.abs(shap_values).mean(axis=0)\n",
        "})\n",
        "feature_importances = feature_importances.sort_values(by='Importance', ascending=False)\n",
        "print(\"Важность признаков (SHAP):\")\n",
        "print(feature_importances)"
      ]
    },
    {
      "cell_type": "markdown",
      "metadata": {},
      "source": [
        "### Вывод: удаление наименее важных признаков не повлияло существенно на качество модели."
      ]
    },
    {
      "cell_type": "markdown",
      "metadata": {},
      "source": [
        "## Предобработка тестового датасета и предсказание пола каждого пользователя из файла test_users.csv"
      ]
    },
    {
      "cell_type": "code",
      "execution_count": 73,
      "metadata": {
        "colab": {
          "base_uri": "https://localhost:8080/",
          "height": 206
        },
        "id": "SraoydaAF_gS",
        "outputId": "9190665e-7243-444e-c4ef-2829ec49fcb6"
      },
      "outputs": [
        {
          "data": {
            "text/html": [
              "<div>\n",
              "<style scoped>\n",
              "    .dataframe tbody tr th:only-of-type {\n",
              "        vertical-align: middle;\n",
              "    }\n",
              "\n",
              "    .dataframe tbody tr th {\n",
              "        vertical-align: top;\n",
              "    }\n",
              "\n",
              "    .dataframe thead th {\n",
              "        text-align: right;\n",
              "    }\n",
              "</style>\n",
              "<table border=\"1\" class=\"dataframe\">\n",
              "  <thead>\n",
              "    <tr style=\"text-align: right;\">\n",
              "      <th></th>\n",
              "      <th>request_ts</th>\n",
              "      <th>user_id</th>\n",
              "      <th>referer</th>\n",
              "      <th>geo_id</th>\n",
              "      <th>browser</th>\n",
              "      <th>browser_version</th>\n",
              "      <th>os</th>\n",
              "      <th>os_version</th>\n",
              "    </tr>\n",
              "  </thead>\n",
              "  <tbody>\n",
              "    <tr>\n",
              "      <th>0</th>\n",
              "      <td>1700993094</td>\n",
              "      <td>c2802dadd33d8ae09bb366bdd41212ea</td>\n",
              "      <td>https://9b48ee5/</td>\n",
              "      <td>8816</td>\n",
              "      <td>Chrome Mobile</td>\n",
              "      <td>96.0.4664</td>\n",
              "      <td>Android</td>\n",
              "      <td>12</td>\n",
              "    </tr>\n",
              "    <tr>\n",
              "      <th>1</th>\n",
              "      <td>1701005579</td>\n",
              "      <td>e5b1988db74527ec092f28b0bbfdaac9</td>\n",
              "      <td>https://9b48ee5/</td>\n",
              "      <td>3663</td>\n",
              "      <td>Chrome</td>\n",
              "      <td>116.0.5845</td>\n",
              "      <td>Android</td>\n",
              "      <td>10</td>\n",
              "    </tr>\n",
              "    <tr>\n",
              "      <th>2</th>\n",
              "      <td>1700969752</td>\n",
              "      <td>6ef1eedbdb72554e53e69782066065c5</td>\n",
              "      <td>https://72879b4/12411b9e</td>\n",
              "      <td>2336</td>\n",
              "      <td>Chrome</td>\n",
              "      <td>114.0.0</td>\n",
              "      <td>Android</td>\n",
              "      <td>10</td>\n",
              "    </tr>\n",
              "    <tr>\n",
              "      <th>3</th>\n",
              "      <td>1700991608</td>\n",
              "      <td>7e057293ecae62985a327b7af51858ea</td>\n",
              "      <td>https://9b48ee5/</td>\n",
              "      <td>9652</td>\n",
              "      <td>Chrome Mobile</td>\n",
              "      <td>91.0.4472</td>\n",
              "      <td>Android</td>\n",
              "      <td>11</td>\n",
              "    </tr>\n",
              "    <tr>\n",
              "      <th>4</th>\n",
              "      <td>1701019815</td>\n",
              "      <td>a27bd7ce8828497823fa8d5d05e7bbf7</td>\n",
              "      <td>https://9b48ee5/</td>\n",
              "      <td>3871</td>\n",
              "      <td>Chrome Mobile</td>\n",
              "      <td>119.0.0</td>\n",
              "      <td>Android</td>\n",
              "      <td>10</td>\n",
              "    </tr>\n",
              "  </tbody>\n",
              "</table>\n",
              "</div>"
            ],
            "text/plain": [
              "   request_ts                           user_id                   referer  \\\n",
              "0  1700993094  c2802dadd33d8ae09bb366bdd41212ea          https://9b48ee5/   \n",
              "1  1701005579  e5b1988db74527ec092f28b0bbfdaac9          https://9b48ee5/   \n",
              "2  1700969752  6ef1eedbdb72554e53e69782066065c5  https://72879b4/12411b9e   \n",
              "3  1700991608  7e057293ecae62985a327b7af51858ea          https://9b48ee5/   \n",
              "4  1701019815  a27bd7ce8828497823fa8d5d05e7bbf7          https://9b48ee5/   \n",
              "\n",
              "   geo_id        browser browser_version       os os_version  \n",
              "0    8816  Chrome Mobile       96.0.4664  Android         12  \n",
              "1    3663         Chrome      116.0.5845  Android         10  \n",
              "2    2336         Chrome         114.0.0  Android         10  \n",
              "3    9652  Chrome Mobile       91.0.4472  Android         11  \n",
              "4    3871  Chrome Mobile         119.0.0  Android         10  "
            ]
          },
          "execution_count": 73,
          "metadata": {},
          "output_type": "execute_result"
        }
      ],
      "source": [
        "test.head()"
      ]
    },
    {
      "cell_type": "code",
      "execution_count": 64,
      "metadata": {
        "id": "VqaaNRr7F_gS"
      },
      "outputs": [],
      "source": [
        "test_with_geo = pd.merge(test, geo_info, on='geo_id', how='inner')"
      ]
    },
    {
      "cell_type": "code",
      "execution_count": 65,
      "metadata": {
        "colab": {
          "base_uri": "https://localhost:8080/",
          "height": 278
        },
        "id": "FBZScF0rF_gS",
        "outputId": "ebef9367-8c1d-4871-fcec-93e706f746df"
      },
      "outputs": [
        {
          "data": {
            "text/html": [
              "<div>\n",
              "<style scoped>\n",
              "    .dataframe tbody tr th:only-of-type {\n",
              "        vertical-align: middle;\n",
              "    }\n",
              "\n",
              "    .dataframe tbody tr th {\n",
              "        vertical-align: top;\n",
              "    }\n",
              "\n",
              "    .dataframe thead th {\n",
              "        text-align: right;\n",
              "    }\n",
              "</style>\n",
              "<table border=\"1\" class=\"dataframe\">\n",
              "  <thead>\n",
              "    <tr style=\"text-align: right;\">\n",
              "      <th></th>\n",
              "      <th>request_ts</th>\n",
              "      <th>user_id</th>\n",
              "      <th>referer</th>\n",
              "      <th>geo_id</th>\n",
              "      <th>browser</th>\n",
              "      <th>browser_version</th>\n",
              "      <th>os</th>\n",
              "      <th>os_version</th>\n",
              "      <th>country_id</th>\n",
              "      <th>region_id</th>\n",
              "      <th>timezone_id</th>\n",
              "    </tr>\n",
              "  </thead>\n",
              "  <tbody>\n",
              "    <tr>\n",
              "      <th>0</th>\n",
              "      <td>1700993094</td>\n",
              "      <td>c2802dadd33d8ae09bb366bdd41212ea</td>\n",
              "      <td>https://9b48ee5/</td>\n",
              "      <td>8816</td>\n",
              "      <td>Chrome Mobile</td>\n",
              "      <td>96.0.4664</td>\n",
              "      <td>Android</td>\n",
              "      <td>12</td>\n",
              "      <td>c31b4e</td>\n",
              "      <td>36e3f3</td>\n",
              "      <td>f6155e</td>\n",
              "    </tr>\n",
              "    <tr>\n",
              "      <th>1</th>\n",
              "      <td>1701005579</td>\n",
              "      <td>e5b1988db74527ec092f28b0bbfdaac9</td>\n",
              "      <td>https://9b48ee5/</td>\n",
              "      <td>3663</td>\n",
              "      <td>Chrome</td>\n",
              "      <td>116.0.5845</td>\n",
              "      <td>Android</td>\n",
              "      <td>10</td>\n",
              "      <td>c31b4e</td>\n",
              "      <td>8ccc01</td>\n",
              "      <td>e56e80</td>\n",
              "    </tr>\n",
              "    <tr>\n",
              "      <th>2</th>\n",
              "      <td>1700969752</td>\n",
              "      <td>6ef1eedbdb72554e53e69782066065c5</td>\n",
              "      <td>https://72879b4/12411b9e</td>\n",
              "      <td>2336</td>\n",
              "      <td>Chrome</td>\n",
              "      <td>114.0.0</td>\n",
              "      <td>Android</td>\n",
              "      <td>10</td>\n",
              "      <td>c31b4e</td>\n",
              "      <td>1fbfa5</td>\n",
              "      <td>e56e80</td>\n",
              "    </tr>\n",
              "    <tr>\n",
              "      <th>3</th>\n",
              "      <td>1700991608</td>\n",
              "      <td>7e057293ecae62985a327b7af51858ea</td>\n",
              "      <td>https://9b48ee5/</td>\n",
              "      <td>9652</td>\n",
              "      <td>Chrome Mobile</td>\n",
              "      <td>91.0.4472</td>\n",
              "      <td>Android</td>\n",
              "      <td>11</td>\n",
              "      <td>c31b4e</td>\n",
              "      <td>f66ff</td>\n",
              "      <td>f6155e</td>\n",
              "    </tr>\n",
              "    <tr>\n",
              "      <th>4</th>\n",
              "      <td>1701019815</td>\n",
              "      <td>a27bd7ce8828497823fa8d5d05e7bbf7</td>\n",
              "      <td>https://9b48ee5/</td>\n",
              "      <td>3871</td>\n",
              "      <td>Chrome Mobile</td>\n",
              "      <td>119.0.0</td>\n",
              "      <td>Android</td>\n",
              "      <td>10</td>\n",
              "      <td>c31b4e</td>\n",
              "      <td>245864</td>\n",
              "      <td>e56e80</td>\n",
              "    </tr>\n",
              "  </tbody>\n",
              "</table>\n",
              "</div>"
            ],
            "text/plain": [
              "   request_ts                           user_id                   referer  \\\n",
              "0  1700993094  c2802dadd33d8ae09bb366bdd41212ea          https://9b48ee5/   \n",
              "1  1701005579  e5b1988db74527ec092f28b0bbfdaac9          https://9b48ee5/   \n",
              "2  1700969752  6ef1eedbdb72554e53e69782066065c5  https://72879b4/12411b9e   \n",
              "3  1700991608  7e057293ecae62985a327b7af51858ea          https://9b48ee5/   \n",
              "4  1701019815  a27bd7ce8828497823fa8d5d05e7bbf7          https://9b48ee5/   \n",
              "\n",
              "   geo_id        browser browser_version       os os_version country_id  \\\n",
              "0    8816  Chrome Mobile       96.0.4664  Android         12     c31b4e   \n",
              "1    3663         Chrome      116.0.5845  Android         10     c31b4e   \n",
              "2    2336         Chrome         114.0.0  Android         10     c31b4e   \n",
              "3    9652  Chrome Mobile       91.0.4472  Android         11     c31b4e   \n",
              "4    3871  Chrome Mobile         119.0.0  Android         10     c31b4e   \n",
              "\n",
              "  region_id timezone_id  \n",
              "0    36e3f3      f6155e  \n",
              "1    8ccc01      e56e80  \n",
              "2    1fbfa5      e56e80  \n",
              "3     f66ff      f6155e  \n",
              "4    245864      e56e80  "
            ]
          },
          "execution_count": 65,
          "metadata": {},
          "output_type": "execute_result"
        }
      ],
      "source": [
        "test_with_geo.head()"
      ]
    },
    {
      "cell_type": "code",
      "execution_count": 66,
      "metadata": {
        "id": "-8FOPCciF_gS"
      },
      "outputs": [],
      "source": [
        "full_test = pd.merge(test_with_geo, referer_vectors, on='referer', how=\"inner\")"
      ]
    },
    {
      "cell_type": "code",
      "execution_count": 67,
      "metadata": {
        "colab": {
          "base_uri": "https://localhost:8080/",
          "height": 742
        },
        "id": "WelAMTPvF_gT",
        "outputId": "d7dbdecc-f2d7-4ff3-948c-3f991a3b113b"
      },
      "outputs": [
        {
          "data": {
            "text/plain": [
              "request_ts         0\n",
              "user_id            0\n",
              "referer            0\n",
              "geo_id             0\n",
              "browser            0\n",
              "browser_version    0\n",
              "os                 0\n",
              "os_version         0\n",
              "country_id         0\n",
              "region_id          0\n",
              "timezone_id        0\n",
              "component0         0\n",
              "component1         0\n",
              "component2         0\n",
              "component3         0\n",
              "component4         0\n",
              "component5         0\n",
              "component6         0\n",
              "component7         0\n",
              "component8         0\n",
              "component9         0\n",
              "dtype: int64"
            ]
          },
          "execution_count": 67,
          "metadata": {},
          "output_type": "execute_result"
        }
      ],
      "source": [
        "full_test.isnull().sum()"
      ]
    },
    {
      "cell_type": "code",
      "execution_count": 68,
      "metadata": {
        "id": "EhwZGTXWwowf"
      },
      "outputs": [],
      "source": [
        "# Преобразование request_ts в datetime\n",
        "full_test['request_ts'] = pd.to_datetime(full_test['request_ts'], unit='s')\n",
        "\n",
        "# Извлечение дополнительных признаков\n",
        "full_test['day_of_week'] = full_test['request_ts'].dt.day_name()  # День недели (например, 'Monday')\n",
        "full_test['hour'] = full_test['request_ts'].dt.hour             # Час дня\n",
        "full_test['month'] = full_test['request_ts'].dt.month           # Номер месяца\n",
        "full_test['day'] = full_test['request_ts'].dt.day               # День месяца\n",
        "full_test['year'] = full_test['request_ts'].dt.year"
      ]
    },
    {
      "cell_type": "code",
      "execution_count": 69,
      "metadata": {
        "colab": {
          "base_uri": "https://localhost:8080/",
          "height": 342
        },
        "id": "6GBxNZunF_gT",
        "outputId": "b89c57c7-d850-473e-f163-9ff6bc5e0173"
      },
      "outputs": [
        {
          "data": {
            "text/html": [
              "<div>\n",
              "<style scoped>\n",
              "    .dataframe tbody tr th:only-of-type {\n",
              "        vertical-align: middle;\n",
              "    }\n",
              "\n",
              "    .dataframe tbody tr th {\n",
              "        vertical-align: top;\n",
              "    }\n",
              "\n",
              "    .dataframe thead th {\n",
              "        text-align: right;\n",
              "    }\n",
              "</style>\n",
              "<table border=\"1\" class=\"dataframe\">\n",
              "  <thead>\n",
              "    <tr style=\"text-align: right;\">\n",
              "      <th></th>\n",
              "      <th>request_ts</th>\n",
              "      <th>user_id</th>\n",
              "      <th>referer</th>\n",
              "      <th>geo_id</th>\n",
              "      <th>browser</th>\n",
              "      <th>browser_version</th>\n",
              "      <th>os</th>\n",
              "      <th>os_version</th>\n",
              "      <th>country_id</th>\n",
              "      <th>region_id</th>\n",
              "      <th>...</th>\n",
              "      <th>component5</th>\n",
              "      <th>component6</th>\n",
              "      <th>component7</th>\n",
              "      <th>component8</th>\n",
              "      <th>component9</th>\n",
              "      <th>day_of_week</th>\n",
              "      <th>hour</th>\n",
              "      <th>month</th>\n",
              "      <th>day</th>\n",
              "      <th>year</th>\n",
              "    </tr>\n",
              "  </thead>\n",
              "  <tbody>\n",
              "    <tr>\n",
              "      <th>0</th>\n",
              "      <td>2023-11-26 10:04:54</td>\n",
              "      <td>c2802dadd33d8ae09bb366bdd41212ea</td>\n",
              "      <td>https://9b48ee5/</td>\n",
              "      <td>8816</td>\n",
              "      <td>Chrome Mobile</td>\n",
              "      <td>96.0.4664</td>\n",
              "      <td>Android</td>\n",
              "      <td>12</td>\n",
              "      <td>c31b4e</td>\n",
              "      <td>36e3f3</td>\n",
              "      <td>...</td>\n",
              "      <td>9381</td>\n",
              "      <td>-3496</td>\n",
              "      <td>-3120</td>\n",
              "      <td>-899</td>\n",
              "      <td>16817</td>\n",
              "      <td>Sunday</td>\n",
              "      <td>10</td>\n",
              "      <td>11</td>\n",
              "      <td>26</td>\n",
              "      <td>2023</td>\n",
              "    </tr>\n",
              "    <tr>\n",
              "      <th>1</th>\n",
              "      <td>2023-11-26 13:32:59</td>\n",
              "      <td>e5b1988db74527ec092f28b0bbfdaac9</td>\n",
              "      <td>https://9b48ee5/</td>\n",
              "      <td>3663</td>\n",
              "      <td>Chrome</td>\n",
              "      <td>116.0.5845</td>\n",
              "      <td>Android</td>\n",
              "      <td>10</td>\n",
              "      <td>c31b4e</td>\n",
              "      <td>8ccc01</td>\n",
              "      <td>...</td>\n",
              "      <td>9381</td>\n",
              "      <td>-3496</td>\n",
              "      <td>-3120</td>\n",
              "      <td>-899</td>\n",
              "      <td>16817</td>\n",
              "      <td>Sunday</td>\n",
              "      <td>13</td>\n",
              "      <td>11</td>\n",
              "      <td>26</td>\n",
              "      <td>2023</td>\n",
              "    </tr>\n",
              "    <tr>\n",
              "      <th>2</th>\n",
              "      <td>2023-11-26 03:35:52</td>\n",
              "      <td>6ef1eedbdb72554e53e69782066065c5</td>\n",
              "      <td>https://72879b4/12411b9e</td>\n",
              "      <td>2336</td>\n",
              "      <td>Chrome</td>\n",
              "      <td>114.0.0</td>\n",
              "      <td>Android</td>\n",
              "      <td>10</td>\n",
              "      <td>c31b4e</td>\n",
              "      <td>1fbfa5</td>\n",
              "      <td>...</td>\n",
              "      <td>1200</td>\n",
              "      <td>10169</td>\n",
              "      <td>16461</td>\n",
              "      <td>-3932</td>\n",
              "      <td>3340</td>\n",
              "      <td>Sunday</td>\n",
              "      <td>3</td>\n",
              "      <td>11</td>\n",
              "      <td>26</td>\n",
              "      <td>2023</td>\n",
              "    </tr>\n",
              "    <tr>\n",
              "      <th>3</th>\n",
              "      <td>2023-11-26 09:40:08</td>\n",
              "      <td>7e057293ecae62985a327b7af51858ea</td>\n",
              "      <td>https://9b48ee5/</td>\n",
              "      <td>9652</td>\n",
              "      <td>Chrome Mobile</td>\n",
              "      <td>91.0.4472</td>\n",
              "      <td>Android</td>\n",
              "      <td>11</td>\n",
              "      <td>c31b4e</td>\n",
              "      <td>f66ff</td>\n",
              "      <td>...</td>\n",
              "      <td>9381</td>\n",
              "      <td>-3496</td>\n",
              "      <td>-3120</td>\n",
              "      <td>-899</td>\n",
              "      <td>16817</td>\n",
              "      <td>Sunday</td>\n",
              "      <td>9</td>\n",
              "      <td>11</td>\n",
              "      <td>26</td>\n",
              "      <td>2023</td>\n",
              "    </tr>\n",
              "    <tr>\n",
              "      <th>4</th>\n",
              "      <td>2023-11-26 17:30:15</td>\n",
              "      <td>a27bd7ce8828497823fa8d5d05e7bbf7</td>\n",
              "      <td>https://9b48ee5/</td>\n",
              "      <td>3871</td>\n",
              "      <td>Chrome Mobile</td>\n",
              "      <td>119.0.0</td>\n",
              "      <td>Android</td>\n",
              "      <td>10</td>\n",
              "      <td>c31b4e</td>\n",
              "      <td>245864</td>\n",
              "      <td>...</td>\n",
              "      <td>9381</td>\n",
              "      <td>-3496</td>\n",
              "      <td>-3120</td>\n",
              "      <td>-899</td>\n",
              "      <td>16817</td>\n",
              "      <td>Sunday</td>\n",
              "      <td>17</td>\n",
              "      <td>11</td>\n",
              "      <td>26</td>\n",
              "      <td>2023</td>\n",
              "    </tr>\n",
              "  </tbody>\n",
              "</table>\n",
              "<p>5 rows × 26 columns</p>\n",
              "</div>"
            ],
            "text/plain": [
              "           request_ts                           user_id  \\\n",
              "0 2023-11-26 10:04:54  c2802dadd33d8ae09bb366bdd41212ea   \n",
              "1 2023-11-26 13:32:59  e5b1988db74527ec092f28b0bbfdaac9   \n",
              "2 2023-11-26 03:35:52  6ef1eedbdb72554e53e69782066065c5   \n",
              "3 2023-11-26 09:40:08  7e057293ecae62985a327b7af51858ea   \n",
              "4 2023-11-26 17:30:15  a27bd7ce8828497823fa8d5d05e7bbf7   \n",
              "\n",
              "                    referer  geo_id        browser browser_version       os  \\\n",
              "0          https://9b48ee5/    8816  Chrome Mobile       96.0.4664  Android   \n",
              "1          https://9b48ee5/    3663         Chrome      116.0.5845  Android   \n",
              "2  https://72879b4/12411b9e    2336         Chrome         114.0.0  Android   \n",
              "3          https://9b48ee5/    9652  Chrome Mobile       91.0.4472  Android   \n",
              "4          https://9b48ee5/    3871  Chrome Mobile         119.0.0  Android   \n",
              "\n",
              "  os_version country_id region_id  ... component5  component6  component7  \\\n",
              "0         12     c31b4e    36e3f3  ...       9381       -3496       -3120   \n",
              "1         10     c31b4e    8ccc01  ...       9381       -3496       -3120   \n",
              "2         10     c31b4e    1fbfa5  ...       1200       10169       16461   \n",
              "3         11     c31b4e     f66ff  ...       9381       -3496       -3120   \n",
              "4         10     c31b4e    245864  ...       9381       -3496       -3120   \n",
              "\n",
              "   component8  component9  day_of_week  hour  month  day  year  \n",
              "0        -899       16817       Sunday    10     11   26  2023  \n",
              "1        -899       16817       Sunday    13     11   26  2023  \n",
              "2       -3932        3340       Sunday     3     11   26  2023  \n",
              "3        -899       16817       Sunday     9     11   26  2023  \n",
              "4        -899       16817       Sunday    17     11   26  2023  \n",
              "\n",
              "[5 rows x 26 columns]"
            ]
          },
          "execution_count": 69,
          "metadata": {},
          "output_type": "execute_result"
        }
      ],
      "source": [
        "full_test.head()"
      ]
    },
    {
      "cell_type": "code",
      "execution_count": 70,
      "metadata": {
        "id": "eltDASIwF_gT"
      },
      "outputs": [],
      "source": [
        "users = full_test['user_id']"
      ]
    },
    {
      "cell_type": "code",
      "execution_count": 71,
      "metadata": {
        "id": "QvTCHHEaF_gT"
      },
      "outputs": [],
      "source": [
        "#Удалим ненужные колонки\n",
        "full_test = full_test.drop(['geo_id', 'user_id', 'request_ts', 'referer', 'browser_version', 'os_version', 'browser', 'os', 'timezone_id', 'day_of_week', 'day', 'month', 'year'], axis = 1)"
      ]
    },
    {
      "cell_type": "code",
      "execution_count": 72,
      "metadata": {
        "colab": {
          "base_uri": "https://localhost:8080/",
          "height": 226
        },
        "id": "M-zb3fidF_gT",
        "outputId": "022a7abd-8586-454b-df40-e95c0538f5a2"
      },
      "outputs": [
        {
          "data": {
            "text/html": [
              "<div>\n",
              "<style scoped>\n",
              "    .dataframe tbody tr th:only-of-type {\n",
              "        vertical-align: middle;\n",
              "    }\n",
              "\n",
              "    .dataframe tbody tr th {\n",
              "        vertical-align: top;\n",
              "    }\n",
              "\n",
              "    .dataframe thead th {\n",
              "        text-align: right;\n",
              "    }\n",
              "</style>\n",
              "<table border=\"1\" class=\"dataframe\">\n",
              "  <thead>\n",
              "    <tr style=\"text-align: right;\">\n",
              "      <th></th>\n",
              "      <th>country_id</th>\n",
              "      <th>region_id</th>\n",
              "      <th>component0</th>\n",
              "      <th>component1</th>\n",
              "      <th>component2</th>\n",
              "      <th>component3</th>\n",
              "      <th>component4</th>\n",
              "      <th>component5</th>\n",
              "      <th>component6</th>\n",
              "      <th>component7</th>\n",
              "      <th>component8</th>\n",
              "      <th>component9</th>\n",
              "      <th>hour</th>\n",
              "    </tr>\n",
              "  </thead>\n",
              "  <tbody>\n",
              "    <tr>\n",
              "      <th>0</th>\n",
              "      <td>c31b4e</td>\n",
              "      <td>36e3f3</td>\n",
              "      <td>11731</td>\n",
              "      <td>4045</td>\n",
              "      <td>22213</td>\n",
              "      <td>-1184</td>\n",
              "      <td>-8992</td>\n",
              "      <td>9381</td>\n",
              "      <td>-3496</td>\n",
              "      <td>-3120</td>\n",
              "      <td>-899</td>\n",
              "      <td>16817</td>\n",
              "      <td>10</td>\n",
              "    </tr>\n",
              "    <tr>\n",
              "      <th>1</th>\n",
              "      <td>c31b4e</td>\n",
              "      <td>8ccc01</td>\n",
              "      <td>11731</td>\n",
              "      <td>4045</td>\n",
              "      <td>22213</td>\n",
              "      <td>-1184</td>\n",
              "      <td>-8992</td>\n",
              "      <td>9381</td>\n",
              "      <td>-3496</td>\n",
              "      <td>-3120</td>\n",
              "      <td>-899</td>\n",
              "      <td>16817</td>\n",
              "      <td>13</td>\n",
              "    </tr>\n",
              "    <tr>\n",
              "      <th>2</th>\n",
              "      <td>c31b4e</td>\n",
              "      <td>1fbfa5</td>\n",
              "      <td>-7307</td>\n",
              "      <td>11682</td>\n",
              "      <td>9741</td>\n",
              "      <td>13564</td>\n",
              "      <td>13577</td>\n",
              "      <td>1200</td>\n",
              "      <td>10169</td>\n",
              "      <td>16461</td>\n",
              "      <td>-3932</td>\n",
              "      <td>3340</td>\n",
              "      <td>3</td>\n",
              "    </tr>\n",
              "    <tr>\n",
              "      <th>3</th>\n",
              "      <td>c31b4e</td>\n",
              "      <td>f66ff</td>\n",
              "      <td>11731</td>\n",
              "      <td>4045</td>\n",
              "      <td>22213</td>\n",
              "      <td>-1184</td>\n",
              "      <td>-8992</td>\n",
              "      <td>9381</td>\n",
              "      <td>-3496</td>\n",
              "      <td>-3120</td>\n",
              "      <td>-899</td>\n",
              "      <td>16817</td>\n",
              "      <td>9</td>\n",
              "    </tr>\n",
              "    <tr>\n",
              "      <th>4</th>\n",
              "      <td>c31b4e</td>\n",
              "      <td>245864</td>\n",
              "      <td>11731</td>\n",
              "      <td>4045</td>\n",
              "      <td>22213</td>\n",
              "      <td>-1184</td>\n",
              "      <td>-8992</td>\n",
              "      <td>9381</td>\n",
              "      <td>-3496</td>\n",
              "      <td>-3120</td>\n",
              "      <td>-899</td>\n",
              "      <td>16817</td>\n",
              "      <td>17</td>\n",
              "    </tr>\n",
              "  </tbody>\n",
              "</table>\n",
              "</div>"
            ],
            "text/plain": [
              "  country_id region_id  component0  component1  component2  component3  \\\n",
              "0     c31b4e    36e3f3       11731        4045       22213       -1184   \n",
              "1     c31b4e    8ccc01       11731        4045       22213       -1184   \n",
              "2     c31b4e    1fbfa5       -7307       11682        9741       13564   \n",
              "3     c31b4e     f66ff       11731        4045       22213       -1184   \n",
              "4     c31b4e    245864       11731        4045       22213       -1184   \n",
              "\n",
              "   component4  component5  component6  component7  component8  component9  \\\n",
              "0       -8992        9381       -3496       -3120        -899       16817   \n",
              "1       -8992        9381       -3496       -3120        -899       16817   \n",
              "2       13577        1200       10169       16461       -3932        3340   \n",
              "3       -8992        9381       -3496       -3120        -899       16817   \n",
              "4       -8992        9381       -3496       -3120        -899       16817   \n",
              "\n",
              "   hour  \n",
              "0    10  \n",
              "1    13  \n",
              "2     3  \n",
              "3     9  \n",
              "4    17  "
            ]
          },
          "execution_count": 72,
          "metadata": {},
          "output_type": "execute_result"
        }
      ],
      "source": [
        "full_test.head()"
      ]
    },
    {
      "cell_type": "code",
      "execution_count": 73,
      "metadata": {
        "id": "dsqB_gxr-hLr"
      },
      "outputs": [],
      "source": [
        "# Определение колонок для кодирования\n",
        "columns_to_encode = ['country_id', 'region_id']\n",
        "\n",
        "# Инициализация LabelEncoder\n",
        "label_encoders = {}\n",
        "\n",
        "# Кодирование каждой колонки\n",
        "for column in columns_to_encode:\n",
        "    le = LabelEncoder()\n",
        "    full_test[column] = le.fit_transform(full_test[column])"
      ]
    },
    {
      "cell_type": "code",
      "execution_count": 74,
      "metadata": {
        "colab": {
          "base_uri": "https://localhost:8080/",
          "height": 226
        },
        "id": "CO5hMDJX_8ja",
        "outputId": "0e83a373-e80b-43dd-87d2-dcf4c9c0b9d7"
      },
      "outputs": [
        {
          "data": {
            "text/html": [
              "<div>\n",
              "<style scoped>\n",
              "    .dataframe tbody tr th:only-of-type {\n",
              "        vertical-align: middle;\n",
              "    }\n",
              "\n",
              "    .dataframe tbody tr th {\n",
              "        vertical-align: top;\n",
              "    }\n",
              "\n",
              "    .dataframe thead th {\n",
              "        text-align: right;\n",
              "    }\n",
              "</style>\n",
              "<table border=\"1\" class=\"dataframe\">\n",
              "  <thead>\n",
              "    <tr style=\"text-align: right;\">\n",
              "      <th></th>\n",
              "      <th>country_id</th>\n",
              "      <th>region_id</th>\n",
              "      <th>component0</th>\n",
              "      <th>component1</th>\n",
              "      <th>component2</th>\n",
              "      <th>component3</th>\n",
              "      <th>component4</th>\n",
              "      <th>component5</th>\n",
              "      <th>component6</th>\n",
              "      <th>component7</th>\n",
              "      <th>component8</th>\n",
              "      <th>component9</th>\n",
              "      <th>hour</th>\n",
              "    </tr>\n",
              "  </thead>\n",
              "  <tbody>\n",
              "    <tr>\n",
              "      <th>0</th>\n",
              "      <td>87</td>\n",
              "      <td>81</td>\n",
              "      <td>11731</td>\n",
              "      <td>4045</td>\n",
              "      <td>22213</td>\n",
              "      <td>-1184</td>\n",
              "      <td>-8992</td>\n",
              "      <td>9381</td>\n",
              "      <td>-3496</td>\n",
              "      <td>-3120</td>\n",
              "      <td>-899</td>\n",
              "      <td>16817</td>\n",
              "      <td>10</td>\n",
              "    </tr>\n",
              "    <tr>\n",
              "      <th>1</th>\n",
              "      <td>87</td>\n",
              "      <td>226</td>\n",
              "      <td>11731</td>\n",
              "      <td>4045</td>\n",
              "      <td>22213</td>\n",
              "      <td>-1184</td>\n",
              "      <td>-8992</td>\n",
              "      <td>9381</td>\n",
              "      <td>-3496</td>\n",
              "      <td>-3120</td>\n",
              "      <td>-899</td>\n",
              "      <td>16817</td>\n",
              "      <td>13</td>\n",
              "    </tr>\n",
              "    <tr>\n",
              "      <th>2</th>\n",
              "      <td>87</td>\n",
              "      <td>24</td>\n",
              "      <td>-7307</td>\n",
              "      <td>11682</td>\n",
              "      <td>9741</td>\n",
              "      <td>13564</td>\n",
              "      <td>13577</td>\n",
              "      <td>1200</td>\n",
              "      <td>10169</td>\n",
              "      <td>16461</td>\n",
              "      <td>-3932</td>\n",
              "      <td>3340</td>\n",
              "      <td>3</td>\n",
              "    </tr>\n",
              "    <tr>\n",
              "      <th>3</th>\n",
              "      <td>87</td>\n",
              "      <td>242</td>\n",
              "      <td>11731</td>\n",
              "      <td>4045</td>\n",
              "      <td>22213</td>\n",
              "      <td>-1184</td>\n",
              "      <td>-8992</td>\n",
              "      <td>9381</td>\n",
              "      <td>-3496</td>\n",
              "      <td>-3120</td>\n",
              "      <td>-899</td>\n",
              "      <td>16817</td>\n",
              "      <td>9</td>\n",
              "    </tr>\n",
              "    <tr>\n",
              "      <th>4</th>\n",
              "      <td>87</td>\n",
              "      <td>43</td>\n",
              "      <td>11731</td>\n",
              "      <td>4045</td>\n",
              "      <td>22213</td>\n",
              "      <td>-1184</td>\n",
              "      <td>-8992</td>\n",
              "      <td>9381</td>\n",
              "      <td>-3496</td>\n",
              "      <td>-3120</td>\n",
              "      <td>-899</td>\n",
              "      <td>16817</td>\n",
              "      <td>17</td>\n",
              "    </tr>\n",
              "  </tbody>\n",
              "</table>\n",
              "</div>"
            ],
            "text/plain": [
              "   country_id  region_id  component0  component1  component2  component3  \\\n",
              "0          87         81       11731        4045       22213       -1184   \n",
              "1          87        226       11731        4045       22213       -1184   \n",
              "2          87         24       -7307       11682        9741       13564   \n",
              "3          87        242       11731        4045       22213       -1184   \n",
              "4          87         43       11731        4045       22213       -1184   \n",
              "\n",
              "   component4  component5  component6  component7  component8  component9  \\\n",
              "0       -8992        9381       -3496       -3120        -899       16817   \n",
              "1       -8992        9381       -3496       -3120        -899       16817   \n",
              "2       13577        1200       10169       16461       -3932        3340   \n",
              "3       -8992        9381       -3496       -3120        -899       16817   \n",
              "4       -8992        9381       -3496       -3120        -899       16817   \n",
              "\n",
              "   hour  \n",
              "0    10  \n",
              "1    13  \n",
              "2     3  \n",
              "3     9  \n",
              "4    17  "
            ]
          },
          "execution_count": 74,
          "metadata": {},
          "output_type": "execute_result"
        }
      ],
      "source": [
        "full_test.head()"
      ]
    },
    {
      "cell_type": "code",
      "execution_count": 75,
      "metadata": {
        "id": "DFCFFIHSF_gT"
      },
      "outputs": [],
      "source": [
        "X = full_test"
      ]
    },
    {
      "cell_type": "code",
      "execution_count": 76,
      "metadata": {
        "id": "7xk55ymqF_gU"
      },
      "outputs": [],
      "source": [
        "scaled_X_full_test = scaler.fit_transform(X)"
      ]
    },
    {
      "cell_type": "code",
      "execution_count": 77,
      "metadata": {
        "colab": {
          "base_uri": "https://localhost:8080/",
          "height": 141
        },
        "id": "pAMSMWLWF_gU",
        "outputId": "57565677-f6b2-4d8c-a5d1-53496495425e"
      },
      "outputs": [],
      "source": [
        "y_preds = model_v2.predict(scaled_X_test)"
      ]
    },
    {
      "cell_type": "code",
      "execution_count": 78,
      "metadata": {
        "id": "35IWYk21F_gU"
      },
      "outputs": [],
      "source": [
        "finished_df = pd.concat([users, pd.DataFrame(y_preds)], axis=1)"
      ]
    },
    {
      "cell_type": "code",
      "execution_count": 79,
      "metadata": {
        "colab": {
          "base_uri": "https://localhost:8080/",
          "height": 206
        },
        "id": "0bFaeYnbF_gU",
        "outputId": "77f20b9c-9cde-43d3-aab7-0608ed6f83b1"
      },
      "outputs": [
        {
          "data": {
            "text/html": [
              "<div>\n",
              "<style scoped>\n",
              "    .dataframe tbody tr th:only-of-type {\n",
              "        vertical-align: middle;\n",
              "    }\n",
              "\n",
              "    .dataframe tbody tr th {\n",
              "        vertical-align: top;\n",
              "    }\n",
              "\n",
              "    .dataframe thead th {\n",
              "        text-align: right;\n",
              "    }\n",
              "</style>\n",
              "<table border=\"1\" class=\"dataframe\">\n",
              "  <thead>\n",
              "    <tr style=\"text-align: right;\">\n",
              "      <th></th>\n",
              "      <th>user_id</th>\n",
              "      <th>0</th>\n",
              "    </tr>\n",
              "  </thead>\n",
              "  <tbody>\n",
              "    <tr>\n",
              "      <th>0</th>\n",
              "      <td>c2802dadd33d8ae09bb366bdd41212ea</td>\n",
              "      <td>1.0</td>\n",
              "    </tr>\n",
              "    <tr>\n",
              "      <th>1</th>\n",
              "      <td>e5b1988db74527ec092f28b0bbfdaac9</td>\n",
              "      <td>1.0</td>\n",
              "    </tr>\n",
              "    <tr>\n",
              "      <th>2</th>\n",
              "      <td>6ef1eedbdb72554e53e69782066065c5</td>\n",
              "      <td>0.0</td>\n",
              "    </tr>\n",
              "    <tr>\n",
              "      <th>3</th>\n",
              "      <td>7e057293ecae62985a327b7af51858ea</td>\n",
              "      <td>1.0</td>\n",
              "    </tr>\n",
              "    <tr>\n",
              "      <th>4</th>\n",
              "      <td>a27bd7ce8828497823fa8d5d05e7bbf7</td>\n",
              "      <td>1.0</td>\n",
              "    </tr>\n",
              "  </tbody>\n",
              "</table>\n",
              "</div>"
            ],
            "text/plain": [
              "                            user_id    0\n",
              "0  c2802dadd33d8ae09bb366bdd41212ea  1.0\n",
              "1  e5b1988db74527ec092f28b0bbfdaac9  1.0\n",
              "2  6ef1eedbdb72554e53e69782066065c5  0.0\n",
              "3  7e057293ecae62985a327b7af51858ea  1.0\n",
              "4  a27bd7ce8828497823fa8d5d05e7bbf7  1.0"
            ]
          },
          "execution_count": 79,
          "metadata": {},
          "output_type": "execute_result"
        }
      ],
      "source": [
        "finished_df.head()"
      ]
    },
    {
      "cell_type": "code",
      "execution_count": 80,
      "metadata": {
        "id": "AdYbJ7dnF_gU"
      },
      "outputs": [],
      "source": [
        "finished_df_unique = finished_df[['user_id', 0]].drop_duplicates(subset=['user_id'])"
      ]
    },
    {
      "cell_type": "code",
      "execution_count": 81,
      "metadata": {
        "id": "U63iuMwSF_gU"
      },
      "outputs": [],
      "source": [
        "answer = test_users.merge(finished_df_unique, on='user_id', how=\"left\")"
      ]
    },
    {
      "cell_type": "code",
      "execution_count": 82,
      "metadata": {
        "colab": {
          "base_uri": "https://localhost:8080/",
          "height": 147
        },
        "id": "4_Bl1h1KF_gU",
        "outputId": "ed647332-107a-4ebe-cf78-d17b921fc8d6"
      },
      "outputs": [
        {
          "data": {
            "text/plain": [
              "user_id    0\n",
              "0          0\n",
              "dtype: int64"
            ]
          },
          "execution_count": 82,
          "metadata": {},
          "output_type": "execute_result"
        }
      ],
      "source": [
        "answer.isnull().sum()"
      ]
    },
    {
      "cell_type": "code",
      "execution_count": 83,
      "metadata": {
        "colab": {
          "base_uri": "https://localhost:8080/"
        },
        "id": "Ebyfaq3rF_gV",
        "outputId": "a04801fe-7149-4c44-cf59-f8bd39dd2add"
      },
      "outputs": [
        {
          "data": {
            "text/plain": [
              "(85000, 1)"
            ]
          },
          "execution_count": 83,
          "metadata": {},
          "output_type": "execute_result"
        }
      ],
      "source": [
        "test_users.shape"
      ]
    },
    {
      "cell_type": "code",
      "execution_count": 84,
      "metadata": {
        "colab": {
          "base_uri": "https://localhost:8080/",
          "height": 206
        },
        "id": "5pI9SO1nF_gV",
        "outputId": "aa201048-c43f-4fb1-eb60-9feb64e6da0e"
      },
      "outputs": [
        {
          "data": {
            "text/html": [
              "<div>\n",
              "<style scoped>\n",
              "    .dataframe tbody tr th:only-of-type {\n",
              "        vertical-align: middle;\n",
              "    }\n",
              "\n",
              "    .dataframe tbody tr th {\n",
              "        vertical-align: top;\n",
              "    }\n",
              "\n",
              "    .dataframe thead th {\n",
              "        text-align: right;\n",
              "    }\n",
              "</style>\n",
              "<table border=\"1\" class=\"dataframe\">\n",
              "  <thead>\n",
              "    <tr style=\"text-align: right;\">\n",
              "      <th></th>\n",
              "      <th>user_id</th>\n",
              "      <th>0</th>\n",
              "    </tr>\n",
              "  </thead>\n",
              "  <tbody>\n",
              "    <tr>\n",
              "      <th>0</th>\n",
              "      <td>c2802dadd33d8ae09bb366bdd41212ea</td>\n",
              "      <td>1.0</td>\n",
              "    </tr>\n",
              "    <tr>\n",
              "      <th>1</th>\n",
              "      <td>e5b1988db74527ec092f28b0bbfdaac9</td>\n",
              "      <td>1.0</td>\n",
              "    </tr>\n",
              "    <tr>\n",
              "      <th>2</th>\n",
              "      <td>6ef1eedbdb72554e53e69782066065c5</td>\n",
              "      <td>0.0</td>\n",
              "    </tr>\n",
              "    <tr>\n",
              "      <th>3</th>\n",
              "      <td>7e057293ecae62985a327b7af51858ea</td>\n",
              "      <td>1.0</td>\n",
              "    </tr>\n",
              "    <tr>\n",
              "      <th>4</th>\n",
              "      <td>a27bd7ce8828497823fa8d5d05e7bbf7</td>\n",
              "      <td>1.0</td>\n",
              "    </tr>\n",
              "  </tbody>\n",
              "</table>\n",
              "</div>"
            ],
            "text/plain": [
              "                            user_id    0\n",
              "0  c2802dadd33d8ae09bb366bdd41212ea  1.0\n",
              "1  e5b1988db74527ec092f28b0bbfdaac9  1.0\n",
              "2  6ef1eedbdb72554e53e69782066065c5  0.0\n",
              "3  7e057293ecae62985a327b7af51858ea  1.0\n",
              "4  a27bd7ce8828497823fa8d5d05e7bbf7  1.0"
            ]
          },
          "execution_count": 84,
          "metadata": {},
          "output_type": "execute_result"
        }
      ],
      "source": [
        "answer.head()"
      ]
    },
    {
      "cell_type": "code",
      "execution_count": 85,
      "metadata": {
        "id": "d7pdRHmdF_gV"
      },
      "outputs": [],
      "source": [
        "answer[0] = answer[0].astype(int)"
      ]
    },
    {
      "cell_type": "code",
      "execution_count": 86,
      "metadata": {
        "id": "_ui_w5vpF_gV"
      },
      "outputs": [],
      "source": [
        "answer.rename(columns = {0:'target'}, inplace=True)"
      ]
    },
    {
      "cell_type": "code",
      "execution_count": 87,
      "metadata": {
        "colab": {
          "base_uri": "https://localhost:8080/",
          "height": 206
        },
        "id": "pMJraXOjF_gV",
        "outputId": "82bde0aa-7068-4d2d-d6a0-17e4766c77c0"
      },
      "outputs": [
        {
          "data": {
            "text/html": [
              "<div>\n",
              "<style scoped>\n",
              "    .dataframe tbody tr th:only-of-type {\n",
              "        vertical-align: middle;\n",
              "    }\n",
              "\n",
              "    .dataframe tbody tr th {\n",
              "        vertical-align: top;\n",
              "    }\n",
              "\n",
              "    .dataframe thead th {\n",
              "        text-align: right;\n",
              "    }\n",
              "</style>\n",
              "<table border=\"1\" class=\"dataframe\">\n",
              "  <thead>\n",
              "    <tr style=\"text-align: right;\">\n",
              "      <th></th>\n",
              "      <th>user_id</th>\n",
              "      <th>target</th>\n",
              "    </tr>\n",
              "  </thead>\n",
              "  <tbody>\n",
              "    <tr>\n",
              "      <th>0</th>\n",
              "      <td>c2802dadd33d8ae09bb366bdd41212ea</td>\n",
              "      <td>1</td>\n",
              "    </tr>\n",
              "    <tr>\n",
              "      <th>1</th>\n",
              "      <td>e5b1988db74527ec092f28b0bbfdaac9</td>\n",
              "      <td>1</td>\n",
              "    </tr>\n",
              "    <tr>\n",
              "      <th>2</th>\n",
              "      <td>6ef1eedbdb72554e53e69782066065c5</td>\n",
              "      <td>0</td>\n",
              "    </tr>\n",
              "    <tr>\n",
              "      <th>3</th>\n",
              "      <td>7e057293ecae62985a327b7af51858ea</td>\n",
              "      <td>1</td>\n",
              "    </tr>\n",
              "    <tr>\n",
              "      <th>4</th>\n",
              "      <td>a27bd7ce8828497823fa8d5d05e7bbf7</td>\n",
              "      <td>1</td>\n",
              "    </tr>\n",
              "  </tbody>\n",
              "</table>\n",
              "</div>"
            ],
            "text/plain": [
              "                            user_id  target\n",
              "0  c2802dadd33d8ae09bb366bdd41212ea       1\n",
              "1  e5b1988db74527ec092f28b0bbfdaac9       1\n",
              "2  6ef1eedbdb72554e53e69782066065c5       0\n",
              "3  7e057293ecae62985a327b7af51858ea       1\n",
              "4  a27bd7ce8828497823fa8d5d05e7bbf7       1"
            ]
          },
          "execution_count": 87,
          "metadata": {},
          "output_type": "execute_result"
        }
      ],
      "source": [
        "answer.head()"
      ]
    },
    {
      "cell_type": "code",
      "execution_count": 88,
      "metadata": {
        "id": "Zydnb7SaF_gV"
      },
      "outputs": [],
      "source": [
        "#Сохранение результатов предсказания\n",
        "answer.to_csv('test_users_with_target.csv', index=False)"
      ]
    }
  ],
  "metadata": {
    "colab": {
      "provenance": []
    },
    "kernelspec": {
      "display_name": "venv1",
      "language": "python",
      "name": "python3"
    },
    "language_info": {
      "codemirror_mode": {
        "name": "ipython",
        "version": 3
      },
      "file_extension": ".py",
      "mimetype": "text/x-python",
      "name": "python",
      "nbconvert_exporter": "python",
      "pygments_lexer": "ipython3",
      "version": "3.11.6"
    }
  },
  "nbformat": 4,
  "nbformat_minor": 0
}
